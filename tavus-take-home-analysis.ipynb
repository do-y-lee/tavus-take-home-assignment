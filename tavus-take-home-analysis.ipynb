{
 "cells": [
  {
   "cell_type": "markdown",
   "id": "2537fdd2-daa3-452b-80ea-d5200eb6327c",
   "metadata": {},
   "source": [
    "---\n",
    "# Executive Summary\n",
    "* 3x increase in Overall DAU after June 2, 2025 compared to previous period.\n",
    "* Similarly, 3x increase in Engaged DAU with engaged users holding steady at 63%-66% of Overall DAU.\n",
    "* Spike in DAU driven by new developers trying Travus API for the first time.\n",
    "* Since June 2, 2025, product usage retention (# of conversations) based on monthly developer cohorts show directional improvement.\n",
    "---"
   ]
  },
  {
   "cell_type": "code",
   "execution_count": 64,
   "id": "50921eba-7551-41c4-80af-9f86b28f350e",
   "metadata": {},
   "outputs": [],
   "source": [
    "import pandas as pd\n",
    "import plotly.express as px\n",
    "import plotly.graph_objects as go\n",
    "from plotly.subplots import make_subplots\n",
    "from sqlalchemy import create_engine\n",
    "import numpy as np\n",
    "\n",
    "# Connect to database\n",
    "engine = create_engine(\"postgresql://dlee@localhost:5432/postgres\")"
   ]
  },
  {
   "cell_type": "markdown",
   "id": "ab9e9e46-80c6-4cd9-84c7-0d0fd9c69dfd",
   "metadata": {},
   "source": [
    "# 1. Daily Active Users (DAU)\n",
    "* Calculate DAU, clearly specifying your methodology and assumptions."
   ]
  },
  {
   "cell_type": "markdown",
   "id": "1f691c68-6f1f-498e-b081-b91411cc62f5",
   "metadata": {},
   "source": [
    "### Definition of Daily Active Users\n",
    "* APIs are used by Developers and as a result focusing on developers in users table is a valid approach to isolate daily active users.\n",
    "* We want to make sure APIs are being used by Developers.\n",
    "* Based on available data, daily active user is a user with role of a \"developer\", who generates a conversation session with a valid replica_uuid (this uuid is populated versus NULL) in conversation table regardless of conversation duration. Persona_uuid can be NULL because it has a default persona it might use when a specific persona is not chosen.\n",
    "\n",
    "### DAU Findings\n",
    "----\n",
    "* Before 2025-05-30:\n",
    "  * **Average DAU: 12.77**\n",
    "  * Standard Deviation: 9.19\n",
    "  * Number of days: 146\n",
    "----\n",
    "* After 2025-06-02:\n",
    "  * **Average DAU: 37.34**\n",
    "  * Standard Deviation: 28.17\n",
    "  * Number of days: 99\n",
    "----\n",
    "* **Difference in Average DAU: 24.57 -> 3x increase**"
   ]
  },
  {
   "cell_type": "code",
   "execution_count": 110,
   "id": "3a78ebb5-7762-4efb-a126-6b23c0da1c60",
   "metadata": {},
   "outputs": [
    {
     "name": "stdout",
     "output_type": "stream",
     "text": [
      "Before 2025-05-30:\n",
      "  Average DAU: 12.77\n",
      "  Standard Deviation: 9.19\n",
      "  Number of days: 146\n",
      "\n",
      "After 2025-06-02:\n",
      "  Average DAU: 37.34\n",
      "  Standard Deviation: 28.17\n",
      "  Number of days: 99\n",
      "\n",
      "Difference in Average DAU: 24.57\n"
     ]
    }
   ],
   "source": [
    "sql_query_1 = \"\"\"\n",
    "SELECT\n",
    "    t1.created_at::date AS session_date,\n",
    "    COUNT(CASE WHEN t2.role = 'developer' THEN t1.uuid ELSE NULL END) AS dau\n",
    "FROM conversation t1\n",
    "     JOIN (SELECT id, role FROM users WHERE role = 'developer') t2\n",
    "\t \tON t1.owner_id = t2.id\n",
    "WHERE t1.replica_uuid IS NOT NULL\n",
    "GROUP BY 1\n",
    "ORDER BY 1\n",
    "\"\"\"\n",
    "\n",
    "# Load data\n",
    "df1 = pd.read_sql(sql_query_1, engine)\n",
    "df1['session_date'] = pd.to_datetime(df1['session_date'])\n",
    "\n",
    "# Split data into before and after periods\n",
    "before_data = df1[df1['session_date'] < '2025-05-30']\n",
    "after_data = df1[df1['session_date'] > '2025-06-02']\n",
    "\n",
    "# Calculate statistics before period\n",
    "before_avg = before_data['dau'].mean()\n",
    "before_std = before_data['dau'].std()\n",
    "\n",
    "# Calculate statistics after period\n",
    "after_avg = after_data['dau'].mean()\n",
    "after_std = after_data['dau'].std()\n",
    "\n",
    "print(f\"Before 2025-05-30:\")\n",
    "print(f\"  Average DAU: {before_avg:.2f}\")\n",
    "print(f\"  Standard Deviation: {before_std:.2f}\")\n",
    "print(f\"  Number of days: {len(before_data)}\")\n",
    "print()\n",
    "print(f\"After 2025-06-02:\")\n",
    "print(f\"  Average DAU: {after_avg:.2f}\")\n",
    "print(f\"  Standard Deviation: {after_std:.2f}\")\n",
    "print(f\"  Number of days: {len(after_data)}\")\n",
    "print()\n",
    "print(f\"Difference in Average DAU: {after_avg - before_avg:.2f}\")"
   ]
  },
  {
   "cell_type": "code",
   "execution_count": 113,
   "id": "1a97053c-f5fc-4191-88fe-649b98db2cd8",
   "metadata": {},
   "outputs": [
    {
     "data": {
      "application/vnd.plotly.v1+json": {
       "config": {
        "plotlyServerURL": "https://plot.ly"
       },
       "data": [
        {
         "hovertemplate": "variable=daily_active_users<br>session_date=%{x}<br>value=%{y}<extra></extra>",
         "legendgroup": "daily_active_users",
         "line": {
          "color": "#636efa",
          "dash": "solid"
         },
         "marker": {
          "symbol": "circle"
         },
         "mode": "lines",
         "name": "daily_active_users",
         "orientation": "v",
         "showlegend": true,
         "type": "scatter",
         "x": [
          "2025-01-01",
          "2025-01-02",
          "2025-01-03",
          "2025-01-04",
          "2025-01-05",
          "2025-01-06",
          "2025-01-07",
          "2025-01-08",
          "2025-01-09",
          "2025-01-10",
          "2025-01-11",
          "2025-01-12",
          "2025-01-13",
          "2025-01-14",
          "2025-01-15",
          "2025-01-16",
          "2025-01-17",
          "2025-01-18",
          "2025-01-19",
          "2025-01-20",
          "2025-01-21",
          "2025-01-22",
          "2025-01-23",
          "2025-01-24",
          "2025-01-25",
          "2025-01-26",
          "2025-01-27",
          "2025-01-28",
          "2025-01-29",
          "2025-01-30",
          "2025-01-31",
          "2025-02-01",
          "2025-02-02",
          "2025-02-03",
          "2025-02-04",
          "2025-02-05",
          "2025-02-06",
          "2025-02-07",
          "2025-02-08",
          "2025-02-09",
          "2025-02-10",
          "2025-02-11",
          "2025-02-12",
          "2025-02-13",
          "2025-02-14",
          "2025-02-15",
          "2025-02-16",
          "2025-02-17",
          "2025-02-18",
          "2025-02-19",
          "2025-02-20",
          "2025-02-21",
          "2025-02-22",
          "2025-02-23",
          "2025-02-24",
          "2025-02-25",
          "2025-02-26",
          "2025-02-27",
          "2025-02-28",
          "2025-03-01",
          "2025-03-02",
          "2025-03-03",
          "2025-03-04",
          "2025-03-05",
          "2025-03-06",
          "2025-03-07",
          "2025-03-08",
          "2025-03-09",
          "2025-03-10",
          "2025-03-11",
          "2025-03-12",
          "2025-03-13",
          "2025-03-14",
          "2025-03-15",
          "2025-03-16",
          "2025-03-17",
          "2025-03-18",
          "2025-03-19",
          "2025-03-20",
          "2025-03-21",
          "2025-03-22",
          "2025-03-23",
          "2025-03-24",
          "2025-03-25",
          "2025-03-26",
          "2025-03-27",
          "2025-03-28",
          "2025-03-29",
          "2025-03-30",
          "2025-03-31",
          "2025-04-01",
          "2025-04-02",
          "2025-04-03",
          "2025-04-04",
          "2025-04-05",
          "2025-04-06",
          "2025-04-07",
          "2025-04-08",
          "2025-04-09",
          "2025-04-10",
          "2025-04-11",
          "2025-04-12",
          "2025-04-13",
          "2025-04-14",
          "2025-04-15",
          "2025-04-16",
          "2025-04-17",
          "2025-04-18",
          "2025-04-19",
          "2025-04-20",
          "2025-04-21",
          "2025-04-22",
          "2025-04-23",
          "2025-04-24",
          "2025-04-25",
          "2025-04-26",
          "2025-04-27",
          "2025-04-28",
          "2025-04-29",
          "2025-04-30",
          "2025-05-01",
          "2025-05-02",
          "2025-05-03",
          "2025-05-04",
          "2025-05-05",
          "2025-05-06",
          "2025-05-07",
          "2025-05-08",
          "2025-05-09",
          "2025-05-10",
          "2025-05-11",
          "2025-05-12",
          "2025-05-13",
          "2025-05-14",
          "2025-05-15",
          "2025-05-16",
          "2025-05-17",
          "2025-05-18",
          "2025-05-19",
          "2025-05-20",
          "2025-05-21",
          "2025-05-22",
          "2025-05-23",
          "2025-05-24",
          "2025-05-25",
          "2025-05-26",
          "2025-05-27",
          "2025-05-28",
          "2025-05-29",
          "2025-05-30",
          "2025-05-31",
          "2025-06-01",
          "2025-06-02",
          "2025-06-03",
          "2025-06-04",
          "2025-06-05",
          "2025-06-06",
          "2025-06-07",
          "2025-06-08",
          "2025-06-09",
          "2025-06-10",
          "2025-06-11",
          "2025-06-12",
          "2025-06-13",
          "2025-06-14",
          "2025-06-15",
          "2025-06-16",
          "2025-06-17",
          "2025-06-18",
          "2025-06-19",
          "2025-06-20",
          "2025-06-21",
          "2025-06-22",
          "2025-06-23",
          "2025-06-24",
          "2025-06-25",
          "2025-06-26",
          "2025-06-27",
          "2025-06-28",
          "2025-06-29",
          "2025-06-30",
          "2025-07-01",
          "2025-07-02",
          "2025-07-03",
          "2025-07-04",
          "2025-07-05",
          "2025-07-06",
          "2025-07-07",
          "2025-07-08",
          "2025-07-09",
          "2025-07-10",
          "2025-07-11",
          "2025-07-12",
          "2025-07-13",
          "2025-07-14",
          "2025-07-15",
          "2025-07-16",
          "2025-07-17",
          "2025-07-18",
          "2025-07-19",
          "2025-07-20",
          "2025-07-21",
          "2025-07-22",
          "2025-07-23",
          "2025-07-24",
          "2025-07-25",
          "2025-07-26",
          "2025-07-27",
          "2025-07-28",
          "2025-07-29",
          "2025-07-30",
          "2025-07-31",
          "2025-08-01",
          "2025-08-02",
          "2025-08-03",
          "2025-08-04",
          "2025-08-05",
          "2025-08-06",
          "2025-08-07",
          "2025-08-08",
          "2025-08-09",
          "2025-08-10",
          "2025-08-11",
          "2025-08-12",
          "2025-08-13",
          "2025-08-14",
          "2025-08-15",
          "2025-08-16",
          "2025-08-17",
          "2025-08-18",
          "2025-08-19",
          "2025-08-20",
          "2025-08-21",
          "2025-08-22",
          "2025-08-23",
          "2025-08-24",
          "2025-08-25",
          "2025-08-26",
          "2025-08-27",
          "2025-08-28",
          "2025-08-29",
          "2025-08-30",
          "2025-08-31",
          "2025-09-01",
          "2025-09-02",
          "2025-09-03",
          "2025-09-04",
          "2025-09-05",
          "2025-09-06",
          "2025-09-07",
          "2025-09-08",
          "2025-09-09"
         ],
         "xaxis": "x",
         "y": {
          "bdata": "BwAHAAMAAAACAAMAAwAIAAQAAwABAAMABAADAAUABwACAAMAAQAEAAoACQAFAAIAAAADAAQABAAIAAMACwAGAAMADgAIAA0ACAACAAAABQAGAAkACwAMAAsACAAHAAYAAQAGAA8ACQAIAAcACgAKAA4ABQAEAAcABQAHAA4ACwAOABQACgAGAA4AEAAOABIACwAGAAMADAAUABYACwAKAA0ACQAOABUAHAAQABEABQABABwAFAAWAA8ACAAGAAYAEAAPABIAHQAPAAoABAAOABkAFgATABEABgAGABEAEAAVABcADgAJAAsADwAWABYADQAVAAgABwAQAA4AKAAtABgACAAJABMAKwAmABsAGQASAA0AGgAcABgAGwAQAAYACAAdACIAGQAmAO8AtQDqADEB7ACsADAAKgAgACYAKAAyADEALAAiADAAHQA0ACwANAAzACMAHAAjACkAMgA1ACMANgBHAEsASAAqACgAJwAdAA8ADwAaAB0AIQAcACMAFQAVACoAMAAmACEAIAASAAcAJgAmACcAKAAZAA0ADwAdAB0ANQAZABsAEwASACcAFwAnACEAKQARAAwAIQAYACUAIgAgAAgACAAXACQAMQAtABgACgANACIAMAAzACcAEwARAAsAHAAdACgAKQAjAA4AEQAkADEA",
          "dtype": "i2"
         },
         "yaxis": "y"
        },
        {
         "hovertemplate": "variable=daily_other_users<br>session_date=%{x}<br>value=%{y}<extra></extra>",
         "legendgroup": "daily_other_users",
         "line": {
          "color": "#EF553B",
          "dash": "solid"
         },
         "marker": {
          "symbol": "circle"
         },
         "mode": "lines",
         "name": "daily_other_users",
         "orientation": "v",
         "showlegend": true,
         "type": "scatter",
         "x": [
          "2025-01-01",
          "2025-01-02",
          "2025-01-03",
          "2025-01-04",
          "2025-01-05",
          "2025-01-06",
          "2025-01-07",
          "2025-01-08",
          "2025-01-09",
          "2025-01-10",
          "2025-01-11",
          "2025-01-12",
          "2025-01-13",
          "2025-01-14",
          "2025-01-15",
          "2025-01-16",
          "2025-01-17",
          "2025-01-18",
          "2025-01-19",
          "2025-01-20",
          "2025-01-21",
          "2025-01-22",
          "2025-01-23",
          "2025-01-24",
          "2025-01-25",
          "2025-01-26",
          "2025-01-27",
          "2025-01-28",
          "2025-01-29",
          "2025-01-30",
          "2025-01-31",
          "2025-02-01",
          "2025-02-02",
          "2025-02-03",
          "2025-02-04",
          "2025-02-05",
          "2025-02-06",
          "2025-02-07",
          "2025-02-08",
          "2025-02-09",
          "2025-02-10",
          "2025-02-11",
          "2025-02-12",
          "2025-02-13",
          "2025-02-14",
          "2025-02-15",
          "2025-02-16",
          "2025-02-17",
          "2025-02-18",
          "2025-02-19",
          "2025-02-20",
          "2025-02-21",
          "2025-02-22",
          "2025-02-23",
          "2025-02-24",
          "2025-02-25",
          "2025-02-26",
          "2025-02-27",
          "2025-02-28",
          "2025-03-01",
          "2025-03-02",
          "2025-03-03",
          "2025-03-04",
          "2025-03-05",
          "2025-03-06",
          "2025-03-07",
          "2025-03-08",
          "2025-03-09",
          "2025-03-10",
          "2025-03-11",
          "2025-03-12",
          "2025-03-13",
          "2025-03-14",
          "2025-03-15",
          "2025-03-16",
          "2025-03-17",
          "2025-03-18",
          "2025-03-19",
          "2025-03-20",
          "2025-03-21",
          "2025-03-22",
          "2025-03-23",
          "2025-03-24",
          "2025-03-25",
          "2025-03-26",
          "2025-03-27",
          "2025-03-28",
          "2025-03-29",
          "2025-03-30",
          "2025-03-31",
          "2025-04-01",
          "2025-04-02",
          "2025-04-03",
          "2025-04-04",
          "2025-04-05",
          "2025-04-06",
          "2025-04-07",
          "2025-04-08",
          "2025-04-09",
          "2025-04-10",
          "2025-04-11",
          "2025-04-12",
          "2025-04-13",
          "2025-04-14",
          "2025-04-15",
          "2025-04-16",
          "2025-04-17",
          "2025-04-18",
          "2025-04-19",
          "2025-04-20",
          "2025-04-21",
          "2025-04-22",
          "2025-04-23",
          "2025-04-24",
          "2025-04-25",
          "2025-04-26",
          "2025-04-27",
          "2025-04-28",
          "2025-04-29",
          "2025-04-30",
          "2025-05-01",
          "2025-05-02",
          "2025-05-03",
          "2025-05-04",
          "2025-05-05",
          "2025-05-06",
          "2025-05-07",
          "2025-05-08",
          "2025-05-09",
          "2025-05-10",
          "2025-05-11",
          "2025-05-12",
          "2025-05-13",
          "2025-05-14",
          "2025-05-15",
          "2025-05-16",
          "2025-05-17",
          "2025-05-18",
          "2025-05-19",
          "2025-05-20",
          "2025-05-21",
          "2025-05-22",
          "2025-05-23",
          "2025-05-24",
          "2025-05-25",
          "2025-05-26",
          "2025-05-27",
          "2025-05-28",
          "2025-05-29",
          "2025-05-30",
          "2025-05-31",
          "2025-06-01",
          "2025-06-02",
          "2025-06-03",
          "2025-06-04",
          "2025-06-05",
          "2025-06-06",
          "2025-06-07",
          "2025-06-08",
          "2025-06-09",
          "2025-06-10",
          "2025-06-11",
          "2025-06-12",
          "2025-06-13",
          "2025-06-14",
          "2025-06-15",
          "2025-06-16",
          "2025-06-17",
          "2025-06-18",
          "2025-06-19",
          "2025-06-20",
          "2025-06-21",
          "2025-06-22",
          "2025-06-23",
          "2025-06-24",
          "2025-06-25",
          "2025-06-26",
          "2025-06-27",
          "2025-06-28",
          "2025-06-29",
          "2025-06-30",
          "2025-07-01",
          "2025-07-02",
          "2025-07-03",
          "2025-07-04",
          "2025-07-05",
          "2025-07-06",
          "2025-07-07",
          "2025-07-08",
          "2025-07-09",
          "2025-07-10",
          "2025-07-11",
          "2025-07-12",
          "2025-07-13",
          "2025-07-14",
          "2025-07-15",
          "2025-07-16",
          "2025-07-17",
          "2025-07-18",
          "2025-07-19",
          "2025-07-20",
          "2025-07-21",
          "2025-07-22",
          "2025-07-23",
          "2025-07-24",
          "2025-07-25",
          "2025-07-26",
          "2025-07-27",
          "2025-07-28",
          "2025-07-29",
          "2025-07-30",
          "2025-07-31",
          "2025-08-01",
          "2025-08-02",
          "2025-08-03",
          "2025-08-04",
          "2025-08-05",
          "2025-08-06",
          "2025-08-07",
          "2025-08-08",
          "2025-08-09",
          "2025-08-10",
          "2025-08-11",
          "2025-08-12",
          "2025-08-13",
          "2025-08-14",
          "2025-08-15",
          "2025-08-16",
          "2025-08-17",
          "2025-08-18",
          "2025-08-19",
          "2025-08-20",
          "2025-08-21",
          "2025-08-22",
          "2025-08-23",
          "2025-08-24",
          "2025-08-25",
          "2025-08-26",
          "2025-08-27",
          "2025-08-28",
          "2025-08-29",
          "2025-08-30",
          "2025-08-31",
          "2025-09-01",
          "2025-09-02",
          "2025-09-03",
          "2025-09-04",
          "2025-09-05",
          "2025-09-06",
          "2025-09-07",
          "2025-09-08",
          "2025-09-09"
         ],
         "xaxis": "x",
         "y": {
          "bdata": "AwAABgMGAgUCBQcFBAUHCQoHBQ8KBgwHCQsJBwsLBgsGBwgIBAQIAwwJDwQGDAMGBg4PEQwMCQsODgsIExAODydNJhoxFyATFA0OGw0QCg8SDQoSDA8QDAwOCAoUEA0LEAoMEQoMCQgLDRMOCg0MEg4QDgsNCggKDAkJDgwOCxAIDQ0KEwkQCwkNDAsHCQ8MDgkMDQoVEQ4ODxQRERMQEREKDg4OCgoPEQcLDQUKDgUOCwsIFA4MCxIJCQ8OERERCwgXFhITFikNFRcKCQ4ICxMQFRkVDwsNEhMbEhAUEyAdFhATDwkUFBQPDwsPCg4LDxMRERIUEAoLDxEQ",
          "dtype": "i1"
         },
         "yaxis": "y"
        }
       ],
       "layout": {
        "legend": {
         "title": {
          "text": "variable"
         },
         "tracegroupgap": 0
        },
        "template": {
         "data": {
          "bar": [
           {
            "error_x": {
             "color": "#2a3f5f"
            },
            "error_y": {
             "color": "#2a3f5f"
            },
            "marker": {
             "line": {
              "color": "#E5ECF6",
              "width": 0.5
             },
             "pattern": {
              "fillmode": "overlay",
              "size": 10,
              "solidity": 0.2
             }
            },
            "type": "bar"
           }
          ],
          "barpolar": [
           {
            "marker": {
             "line": {
              "color": "#E5ECF6",
              "width": 0.5
             },
             "pattern": {
              "fillmode": "overlay",
              "size": 10,
              "solidity": 0.2
             }
            },
            "type": "barpolar"
           }
          ],
          "carpet": [
           {
            "aaxis": {
             "endlinecolor": "#2a3f5f",
             "gridcolor": "white",
             "linecolor": "white",
             "minorgridcolor": "white",
             "startlinecolor": "#2a3f5f"
            },
            "baxis": {
             "endlinecolor": "#2a3f5f",
             "gridcolor": "white",
             "linecolor": "white",
             "minorgridcolor": "white",
             "startlinecolor": "#2a3f5f"
            },
            "type": "carpet"
           }
          ],
          "choropleth": [
           {
            "colorbar": {
             "outlinewidth": 0,
             "ticks": ""
            },
            "type": "choropleth"
           }
          ],
          "contour": [
           {
            "colorbar": {
             "outlinewidth": 0,
             "ticks": ""
            },
            "colorscale": [
             [
              0,
              "#0d0887"
             ],
             [
              0.1111111111111111,
              "#46039f"
             ],
             [
              0.2222222222222222,
              "#7201a8"
             ],
             [
              0.3333333333333333,
              "#9c179e"
             ],
             [
              0.4444444444444444,
              "#bd3786"
             ],
             [
              0.5555555555555556,
              "#d8576b"
             ],
             [
              0.6666666666666666,
              "#ed7953"
             ],
             [
              0.7777777777777778,
              "#fb9f3a"
             ],
             [
              0.8888888888888888,
              "#fdca26"
             ],
             [
              1,
              "#f0f921"
             ]
            ],
            "type": "contour"
           }
          ],
          "contourcarpet": [
           {
            "colorbar": {
             "outlinewidth": 0,
             "ticks": ""
            },
            "type": "contourcarpet"
           }
          ],
          "heatmap": [
           {
            "colorbar": {
             "outlinewidth": 0,
             "ticks": ""
            },
            "colorscale": [
             [
              0,
              "#0d0887"
             ],
             [
              0.1111111111111111,
              "#46039f"
             ],
             [
              0.2222222222222222,
              "#7201a8"
             ],
             [
              0.3333333333333333,
              "#9c179e"
             ],
             [
              0.4444444444444444,
              "#bd3786"
             ],
             [
              0.5555555555555556,
              "#d8576b"
             ],
             [
              0.6666666666666666,
              "#ed7953"
             ],
             [
              0.7777777777777778,
              "#fb9f3a"
             ],
             [
              0.8888888888888888,
              "#fdca26"
             ],
             [
              1,
              "#f0f921"
             ]
            ],
            "type": "heatmap"
           }
          ],
          "histogram": [
           {
            "marker": {
             "pattern": {
              "fillmode": "overlay",
              "size": 10,
              "solidity": 0.2
             }
            },
            "type": "histogram"
           }
          ],
          "histogram2d": [
           {
            "colorbar": {
             "outlinewidth": 0,
             "ticks": ""
            },
            "colorscale": [
             [
              0,
              "#0d0887"
             ],
             [
              0.1111111111111111,
              "#46039f"
             ],
             [
              0.2222222222222222,
              "#7201a8"
             ],
             [
              0.3333333333333333,
              "#9c179e"
             ],
             [
              0.4444444444444444,
              "#bd3786"
             ],
             [
              0.5555555555555556,
              "#d8576b"
             ],
             [
              0.6666666666666666,
              "#ed7953"
             ],
             [
              0.7777777777777778,
              "#fb9f3a"
             ],
             [
              0.8888888888888888,
              "#fdca26"
             ],
             [
              1,
              "#f0f921"
             ]
            ],
            "type": "histogram2d"
           }
          ],
          "histogram2dcontour": [
           {
            "colorbar": {
             "outlinewidth": 0,
             "ticks": ""
            },
            "colorscale": [
             [
              0,
              "#0d0887"
             ],
             [
              0.1111111111111111,
              "#46039f"
             ],
             [
              0.2222222222222222,
              "#7201a8"
             ],
             [
              0.3333333333333333,
              "#9c179e"
             ],
             [
              0.4444444444444444,
              "#bd3786"
             ],
             [
              0.5555555555555556,
              "#d8576b"
             ],
             [
              0.6666666666666666,
              "#ed7953"
             ],
             [
              0.7777777777777778,
              "#fb9f3a"
             ],
             [
              0.8888888888888888,
              "#fdca26"
             ],
             [
              1,
              "#f0f921"
             ]
            ],
            "type": "histogram2dcontour"
           }
          ],
          "mesh3d": [
           {
            "colorbar": {
             "outlinewidth": 0,
             "ticks": ""
            },
            "type": "mesh3d"
           }
          ],
          "parcoords": [
           {
            "line": {
             "colorbar": {
              "outlinewidth": 0,
              "ticks": ""
             }
            },
            "type": "parcoords"
           }
          ],
          "pie": [
           {
            "automargin": true,
            "type": "pie"
           }
          ],
          "scatter": [
           {
            "fillpattern": {
             "fillmode": "overlay",
             "size": 10,
             "solidity": 0.2
            },
            "type": "scatter"
           }
          ],
          "scatter3d": [
           {
            "line": {
             "colorbar": {
              "outlinewidth": 0,
              "ticks": ""
             }
            },
            "marker": {
             "colorbar": {
              "outlinewidth": 0,
              "ticks": ""
             }
            },
            "type": "scatter3d"
           }
          ],
          "scattercarpet": [
           {
            "marker": {
             "colorbar": {
              "outlinewidth": 0,
              "ticks": ""
             }
            },
            "type": "scattercarpet"
           }
          ],
          "scattergeo": [
           {
            "marker": {
             "colorbar": {
              "outlinewidth": 0,
              "ticks": ""
             }
            },
            "type": "scattergeo"
           }
          ],
          "scattergl": [
           {
            "marker": {
             "colorbar": {
              "outlinewidth": 0,
              "ticks": ""
             }
            },
            "type": "scattergl"
           }
          ],
          "scattermap": [
           {
            "marker": {
             "colorbar": {
              "outlinewidth": 0,
              "ticks": ""
             }
            },
            "type": "scattermap"
           }
          ],
          "scattermapbox": [
           {
            "marker": {
             "colorbar": {
              "outlinewidth": 0,
              "ticks": ""
             }
            },
            "type": "scattermapbox"
           }
          ],
          "scatterpolar": [
           {
            "marker": {
             "colorbar": {
              "outlinewidth": 0,
              "ticks": ""
             }
            },
            "type": "scatterpolar"
           }
          ],
          "scatterpolargl": [
           {
            "marker": {
             "colorbar": {
              "outlinewidth": 0,
              "ticks": ""
             }
            },
            "type": "scatterpolargl"
           }
          ],
          "scatterternary": [
           {
            "marker": {
             "colorbar": {
              "outlinewidth": 0,
              "ticks": ""
             }
            },
            "type": "scatterternary"
           }
          ],
          "surface": [
           {
            "colorbar": {
             "outlinewidth": 0,
             "ticks": ""
            },
            "colorscale": [
             [
              0,
              "#0d0887"
             ],
             [
              0.1111111111111111,
              "#46039f"
             ],
             [
              0.2222222222222222,
              "#7201a8"
             ],
             [
              0.3333333333333333,
              "#9c179e"
             ],
             [
              0.4444444444444444,
              "#bd3786"
             ],
             [
              0.5555555555555556,
              "#d8576b"
             ],
             [
              0.6666666666666666,
              "#ed7953"
             ],
             [
              0.7777777777777778,
              "#fb9f3a"
             ],
             [
              0.8888888888888888,
              "#fdca26"
             ],
             [
              1,
              "#f0f921"
             ]
            ],
            "type": "surface"
           }
          ],
          "table": [
           {
            "cells": {
             "fill": {
              "color": "#EBF0F8"
             },
             "line": {
              "color": "white"
             }
            },
            "header": {
             "fill": {
              "color": "#C8D4E3"
             },
             "line": {
              "color": "white"
             }
            },
            "type": "table"
           }
          ]
         },
         "layout": {
          "annotationdefaults": {
           "arrowcolor": "#2a3f5f",
           "arrowhead": 0,
           "arrowwidth": 1
          },
          "autotypenumbers": "strict",
          "coloraxis": {
           "colorbar": {
            "outlinewidth": 0,
            "ticks": ""
           }
          },
          "colorscale": {
           "diverging": [
            [
             0,
             "#8e0152"
            ],
            [
             0.1,
             "#c51b7d"
            ],
            [
             0.2,
             "#de77ae"
            ],
            [
             0.3,
             "#f1b6da"
            ],
            [
             0.4,
             "#fde0ef"
            ],
            [
             0.5,
             "#f7f7f7"
            ],
            [
             0.6,
             "#e6f5d0"
            ],
            [
             0.7,
             "#b8e186"
            ],
            [
             0.8,
             "#7fbc41"
            ],
            [
             0.9,
             "#4d9221"
            ],
            [
             1,
             "#276419"
            ]
           ],
           "sequential": [
            [
             0,
             "#0d0887"
            ],
            [
             0.1111111111111111,
             "#46039f"
            ],
            [
             0.2222222222222222,
             "#7201a8"
            ],
            [
             0.3333333333333333,
             "#9c179e"
            ],
            [
             0.4444444444444444,
             "#bd3786"
            ],
            [
             0.5555555555555556,
             "#d8576b"
            ],
            [
             0.6666666666666666,
             "#ed7953"
            ],
            [
             0.7777777777777778,
             "#fb9f3a"
            ],
            [
             0.8888888888888888,
             "#fdca26"
            ],
            [
             1,
             "#f0f921"
            ]
           ],
           "sequentialminus": [
            [
             0,
             "#0d0887"
            ],
            [
             0.1111111111111111,
             "#46039f"
            ],
            [
             0.2222222222222222,
             "#7201a8"
            ],
            [
             0.3333333333333333,
             "#9c179e"
            ],
            [
             0.4444444444444444,
             "#bd3786"
            ],
            [
             0.5555555555555556,
             "#d8576b"
            ],
            [
             0.6666666666666666,
             "#ed7953"
            ],
            [
             0.7777777777777778,
             "#fb9f3a"
            ],
            [
             0.8888888888888888,
             "#fdca26"
            ],
            [
             1,
             "#f0f921"
            ]
           ]
          },
          "colorway": [
           "#636efa",
           "#EF553B",
           "#00cc96",
           "#ab63fa",
           "#FFA15A",
           "#19d3f3",
           "#FF6692",
           "#B6E880",
           "#FF97FF",
           "#FECB52"
          ],
          "font": {
           "color": "#2a3f5f"
          },
          "geo": {
           "bgcolor": "white",
           "lakecolor": "white",
           "landcolor": "#E5ECF6",
           "showlakes": true,
           "showland": true,
           "subunitcolor": "white"
          },
          "hoverlabel": {
           "align": "left"
          },
          "hovermode": "closest",
          "mapbox": {
           "style": "light"
          },
          "paper_bgcolor": "white",
          "plot_bgcolor": "#E5ECF6",
          "polar": {
           "angularaxis": {
            "gridcolor": "white",
            "linecolor": "white",
            "ticks": ""
           },
           "bgcolor": "#E5ECF6",
           "radialaxis": {
            "gridcolor": "white",
            "linecolor": "white",
            "ticks": ""
           }
          },
          "scene": {
           "xaxis": {
            "backgroundcolor": "#E5ECF6",
            "gridcolor": "white",
            "gridwidth": 2,
            "linecolor": "white",
            "showbackground": true,
            "ticks": "",
            "zerolinecolor": "white"
           },
           "yaxis": {
            "backgroundcolor": "#E5ECF6",
            "gridcolor": "white",
            "gridwidth": 2,
            "linecolor": "white",
            "showbackground": true,
            "ticks": "",
            "zerolinecolor": "white"
           },
           "zaxis": {
            "backgroundcolor": "#E5ECF6",
            "gridcolor": "white",
            "gridwidth": 2,
            "linecolor": "white",
            "showbackground": true,
            "ticks": "",
            "zerolinecolor": "white"
           }
          },
          "shapedefaults": {
           "line": {
            "color": "#2a3f5f"
           }
          },
          "ternary": {
           "aaxis": {
            "gridcolor": "white",
            "linecolor": "white",
            "ticks": ""
           },
           "baxis": {
            "gridcolor": "white",
            "linecolor": "white",
            "ticks": ""
           },
           "bgcolor": "#E5ECF6",
           "caxis": {
            "gridcolor": "white",
            "linecolor": "white",
            "ticks": ""
           }
          },
          "title": {
           "x": 0.05
          },
          "xaxis": {
           "automargin": true,
           "gridcolor": "white",
           "linecolor": "white",
           "ticks": "",
           "title": {
            "standoff": 15
           },
           "zerolinecolor": "white",
           "zerolinewidth": 2
          },
          "yaxis": {
           "automargin": true,
           "gridcolor": "white",
           "linecolor": "white",
           "ticks": "",
           "title": {
            "standoff": 15
           },
           "zerolinecolor": "white",
           "zerolinewidth": 2
          }
         }
        },
        "title": {
         "text": "Daily Active Users (Developers) vs Daily Other Users"
        },
        "xaxis": {
         "anchor": "y",
         "domain": [
          0,
          1
         ],
         "title": {
          "text": "session_date"
         }
        },
        "yaxis": {
         "anchor": "x",
         "domain": [
          0,
          1
         ],
         "title": {
          "text": "Daily Users"
         }
        }
       }
      },
      "image/png": "[encoded data removed]"
     },
     "metadata": {},
     "output_type": "display_data"
    }
   ],
   "source": [
    "# Daily Active User\n",
    "sql_query_2 = \"\"\"\n",
    "SELECT\n",
    "\tt1.created_at::date AS session_date,\n",
    "\tCOUNT(CASE WHEN t2.role = 'developer' THEN t1.uuid ELSE NULL END) AS daily_active_users,\n",
    "\tCOUNT(CASE WHEN t2.role != 'developer' THEN t1.uuid ELSE NULL END) AS daily_other_users\n",
    "FROM conversation t1\n",
    "     LEFT JOIN users t2\n",
    "\t \tON t1.owner_id = t2.id\n",
    "WHERE t1.replica_uuid IS NOT NULL\n",
    "GROUP BY 1\n",
    "ORDER BY 1;\n",
    "\"\"\"\n",
    "\n",
    "# Load data and create line chart\n",
    "df2a = pd.read_sql(sql_query_2, engine)\n",
    "fig = px.line(\n",
    "    df2a, \n",
    "    x='session_date', \n",
    "    y=['daily_active_users', 'daily_other_users'],\n",
    "    title=\"Daily Active Users (Developers) vs Daily Other Users\"\n",
    ")\n",
    "fig.update_layout(yaxis_title=\"Daily Users\")\n",
    "fig.show()"
   ]
  },
  {
   "cell_type": "code",
   "execution_count": 129,
   "id": "243b37da-2f5d-496d-b098-fcdb0de38aff",
   "metadata": {},
   "outputs": [
    {
     "data": {
      "application/vnd.plotly.v1+json": {
       "config": {
        "plotlyServerURL": "https://plot.ly"
       },
       "data": [
        {
         "hovertemplate": "variable=daily_active_users_7day_avg<br>session_date=%{x}<br>value=%{y}<extra></extra>",
         "legendgroup": "daily_active_users_7day_avg",
         "line": {
          "color": "#636efa",
          "dash": "solid"
         },
         "marker": {
          "symbol": "circle"
         },
         "mode": "lines",
         "name": "daily_active_users_7day_avg",
         "orientation": "v",
         "showlegend": true,
         "type": "scatter",
         "x": [
          "2025-01-01",
          "2025-01-02",
          "2025-01-03",
          "2025-01-04",
          "2025-01-05",
          "2025-01-06",
          "2025-01-07",
          "2025-01-08",
          "2025-01-09",
          "2025-01-10",
          "2025-01-11",
          "2025-01-12",
          "2025-01-13",
          "2025-01-14",
          "2025-01-15",
          "2025-01-16",
          "2025-01-17",
          "2025-01-18",
          "2025-01-19",
          "2025-01-20",
          "2025-01-21",
          "2025-01-22",
          "2025-01-23",
          "2025-01-24",
          "2025-01-25",
          "2025-01-26",
          "2025-01-27",
          "2025-01-28",
          "2025-01-29",
          "2025-01-30",
          "2025-01-31",
          "2025-02-01",
          "2025-02-02",
          "2025-02-03",
          "2025-02-04",
          "2025-02-05",
          "2025-02-06",
          "2025-02-07",
          "2025-02-08",
          "2025-02-09",
          "2025-02-10",
          "2025-02-11",
          "2025-02-12",
          "2025-02-13",
          "2025-02-14",
          "2025-02-15",
          "2025-02-16",
          "2025-02-17",
          "2025-02-18",
          "2025-02-19",
          "2025-02-20",
          "2025-02-21",
          "2025-02-22",
          "2025-02-23",
          "2025-02-24",
          "2025-02-25",
          "2025-02-26",
          "2025-02-27",
          "2025-02-28",
          "2025-03-01",
          "2025-03-02",
          "2025-03-03",
          "2025-03-04",
          "2025-03-05",
          "2025-03-06",
          "2025-03-07",
          "2025-03-08",
          "2025-03-09",
          "2025-03-10",
          "2025-03-11",
          "2025-03-12",
          "2025-03-13",
          "2025-03-14",
          "2025-03-15",
          "2025-03-16",
          "2025-03-17",
          "2025-03-18",
          "2025-03-19",
          "2025-03-20",
          "2025-03-21",
          "2025-03-22",
          "2025-03-23",
          "2025-03-24",
          "2025-03-25",
          "2025-03-26",
          "2025-03-27",
          "2025-03-28",
          "2025-03-29",
          "2025-03-30",
          "2025-03-31",
          "2025-04-01",
          "2025-04-02",
          "2025-04-03",
          "2025-04-04",
          "2025-04-05",
          "2025-04-06",
          "2025-04-07",
          "2025-04-08",
          "2025-04-09",
          "2025-04-10",
          "2025-04-11",
          "2025-04-12",
          "2025-04-13",
          "2025-04-14",
          "2025-04-15",
          "2025-04-16",
          "2025-04-17",
          "2025-04-18",
          "2025-04-19",
          "2025-04-20",
          "2025-04-21",
          "2025-04-22",
          "2025-04-23",
          "2025-04-24",
          "2025-04-25",
          "2025-04-26",
          "2025-04-27",
          "2025-04-28",
          "2025-04-29",
          "2025-04-30",
          "2025-05-01",
          "2025-05-02",
          "2025-05-03",
          "2025-05-04",
          "2025-05-05",
          "2025-05-06",
          "2025-05-07",
          "2025-05-08",
          "2025-05-09",
          "2025-05-10",
          "2025-05-11",
          "2025-05-12",
          "2025-05-13",
          "2025-05-14",
          "2025-05-15",
          "2025-05-16",
          "2025-05-17",
          "2025-05-18",
          "2025-05-19",
          "2025-05-20",
          "2025-05-21",
          "2025-05-22",
          "2025-05-23",
          "2025-05-24",
          "2025-05-25",
          "2025-05-26",
          "2025-05-27",
          "2025-05-28",
          "2025-05-29",
          "2025-05-30",
          "2025-05-31",
          "2025-06-01",
          "2025-06-02",
          "2025-06-03",
          "2025-06-04",
          "2025-06-05",
          "2025-06-06",
          "2025-06-07",
          "2025-06-08",
          "2025-06-09",
          "2025-06-10",
          "2025-06-11",
          "2025-06-12",
          "2025-06-13",
          "2025-06-14",
          "2025-06-15",
          "2025-06-16",
          "2025-06-17",
          "2025-06-18",
          "2025-06-19",
          "2025-06-20",
          "2025-06-21",
          "2025-06-22",
          "2025-06-23",
          "2025-06-24",
          "2025-06-25",
          "2025-06-26",
          "2025-06-27",
          "2025-06-28",
          "2025-06-29",
          "2025-06-30",
          "2025-07-01",
          "2025-07-02",
          "2025-07-03",
          "2025-07-04",
          "2025-07-05",
          "2025-07-06",
          "2025-07-07",
          "2025-07-08",
          "2025-07-09",
          "2025-07-10",
          "2025-07-11",
          "2025-07-12",
          "2025-07-13",
          "2025-07-14",
          "2025-07-15",
          "2025-07-16",
          "2025-07-17",
          "2025-07-18",
          "2025-07-19",
          "2025-07-20",
          "2025-07-21",
          "2025-07-22",
          "2025-07-23",
          "2025-07-24",
          "2025-07-25",
          "2025-07-26",
          "2025-07-27",
          "2025-07-28",
          "2025-07-29",
          "2025-07-30",
          "2025-07-31",
          "2025-08-01",
          "2025-08-02",
          "2025-08-03",
          "2025-08-04",
          "2025-08-05",
          "2025-08-06",
          "2025-08-07",
          "2025-08-08",
          "2025-08-09",
          "2025-08-10",
          "2025-08-11",
          "2025-08-12",
          "2025-08-13",
          "2025-08-14",
          "2025-08-15",
          "2025-08-16",
          "2025-08-17",
          "2025-08-18",
          "2025-08-19",
          "2025-08-20",
          "2025-08-21",
          "2025-08-22",
          "2025-08-23",
          "2025-08-24",
          "2025-08-25",
          "2025-08-26",
          "2025-08-27",
          "2025-08-28",
          "2025-08-29",
          "2025-08-30",
          "2025-08-31",
          "2025-09-01",
          "2025-09-02",
          "2025-09-03",
          "2025-09-04",
          "2025-09-05",
          "2025-09-06",
          "2025-09-07",
          "2025-09-08",
          "2025-09-09"
         ],
         "xaxis": "x",
         "y": {
          "bdata": "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",
          "dtype": "f8"
         },
         "yaxis": "y"
        },
        {
         "hovertemplate": "variable=daily_other_users_7day_avg<br>session_date=%{x}<br>value=%{y}<extra></extra>",
         "legendgroup": "daily_other_users_7day_avg",
         "line": {
          "color": "#EF553B",
          "dash": "solid"
         },
         "marker": {
          "symbol": "circle"
         },
         "mode": "lines",
         "name": "daily_other_users_7day_avg",
         "orientation": "v",
         "showlegend": true,
         "type": "scatter",
         "x": [
          "2025-01-01",
          "2025-01-02",
          "2025-01-03",
          "2025-01-04",
          "2025-01-05",
          "2025-01-06",
          "2025-01-07",
          "2025-01-08",
          "2025-01-09",
          "2025-01-10",
          "2025-01-11",
          "2025-01-12",
          "2025-01-13",
          "2025-01-14",
          "2025-01-15",
          "2025-01-16",
          "2025-01-17",
          "2025-01-18",
          "2025-01-19",
          "2025-01-20",
          "2025-01-21",
          "2025-01-22",
          "2025-01-23",
          "2025-01-24",
          "2025-01-25",
          "2025-01-26",
          "2025-01-27",
          "2025-01-28",
          "2025-01-29",
          "2025-01-30",
          "2025-01-31",
          "2025-02-01",
          "2025-02-02",
          "2025-02-03",
          "2025-02-04",
          "2025-02-05",
          "2025-02-06",
          "2025-02-07",
          "2025-02-08",
          "2025-02-09",
          "2025-02-10",
          "2025-02-11",
          "2025-02-12",
          "2025-02-13",
          "2025-02-14",
          "2025-02-15",
          "2025-02-16",
          "2025-02-17",
          "2025-02-18",
          "2025-02-19",
          "2025-02-20",
          "2025-02-21",
          "2025-02-22",
          "2025-02-23",
          "2025-02-24",
          "2025-02-25",
          "2025-02-26",
          "2025-02-27",
          "2025-02-28",
          "2025-03-01",
          "2025-03-02",
          "2025-03-03",
          "2025-03-04",
          "2025-03-05",
          "2025-03-06",
          "2025-03-07",
          "2025-03-08",
          "2025-03-09",
          "2025-03-10",
          "2025-03-11",
          "2025-03-12",
          "2025-03-13",
          "2025-03-14",
          "2025-03-15",
          "2025-03-16",
          "2025-03-17",
          "2025-03-18",
          "2025-03-19",
          "2025-03-20",
          "2025-03-21",
          "2025-03-22",
          "2025-03-23",
          "2025-03-24",
          "2025-03-25",
          "2025-03-26",
          "2025-03-27",
          "2025-03-28",
          "2025-03-29",
          "2025-03-30",
          "2025-03-31",
          "2025-04-01",
          "2025-04-02",
          "2025-04-03",
          "2025-04-04",
          "2025-04-05",
          "2025-04-06",
          "2025-04-07",
          "2025-04-08",
          "2025-04-09",
          "2025-04-10",
          "2025-04-11",
          "2025-04-12",
          "2025-04-13",
          "2025-04-14",
          "2025-04-15",
          "2025-04-16",
          "2025-04-17",
          "2025-04-18",
          "2025-04-19",
          "2025-04-20",
          "2025-04-21",
          "2025-04-22",
          "2025-04-23",
          "2025-04-24",
          "2025-04-25",
          "2025-04-26",
          "2025-04-27",
          "2025-04-28",
          "2025-04-29",
          "2025-04-30",
          "2025-05-01",
          "2025-05-02",
          "2025-05-03",
          "2025-05-04",
          "2025-05-05",
          "2025-05-06",
          "2025-05-07",
          "2025-05-08",
          "2025-05-09",
          "2025-05-10",
          "2025-05-11",
          "2025-05-12",
          "2025-05-13",
          "2025-05-14",
          "2025-05-15",
          "2025-05-16",
          "2025-05-17",
          "2025-05-18",
          "2025-05-19",
          "2025-05-20",
          "2025-05-21",
          "2025-05-22",
          "2025-05-23",
          "2025-05-24",
          "2025-05-25",
          "2025-05-26",
          "2025-05-27",
          "2025-05-28",
          "2025-05-29",
          "2025-05-30",
          "2025-05-31",
          "2025-06-01",
          "2025-06-02",
          "2025-06-03",
          "2025-06-04",
          "2025-06-05",
          "2025-06-06",
          "2025-06-07",
          "2025-06-08",
          "2025-06-09",
          "2025-06-10",
          "2025-06-11",
          "2025-06-12",
          "2025-06-13",
          "2025-06-14",
          "2025-06-15",
          "2025-06-16",
          "2025-06-17",
          "2025-06-18",
          "2025-06-19",
          "2025-06-20",
          "2025-06-21",
          "2025-06-22",
          "2025-06-23",
          "2025-06-24",
          "2025-06-25",
          "2025-06-26",
          "2025-06-27",
          "2025-06-28",
          "2025-06-29",
          "2025-06-30",
          "2025-07-01",
          "2025-07-02",
          "2025-07-03",
          "2025-07-04",
          "2025-07-05",
          "2025-07-06",
          "2025-07-07",
          "2025-07-08",
          "2025-07-09",
          "2025-07-10",
          "2025-07-11",
          "2025-07-12",
          "2025-07-13",
          "2025-07-14",
          "2025-07-15",
          "2025-07-16",
          "2025-07-17",
          "2025-07-18",
          "2025-07-19",
          "2025-07-20",
          "2025-07-21",
          "2025-07-22",
          "2025-07-23",
          "2025-07-24",
          "2025-07-25",
          "2025-07-26",
          "2025-07-27",
          "2025-07-28",
          "2025-07-29",
          "2025-07-30",
          "2025-07-31",
          "2025-08-01",
          "2025-08-02",
          "2025-08-03",
          "2025-08-04",
          "2025-08-05",
          "2025-08-06",
          "2025-08-07",
          "2025-08-08",
          "2025-08-09",
          "2025-08-10",
          "2025-08-11",
          "2025-08-12",
          "2025-08-13",
          "2025-08-14",
          "2025-08-15",
          "2025-08-16",
          "2025-08-17",
          "2025-08-18",
          "2025-08-19",
          "2025-08-20",
          "2025-08-21",
          "2025-08-22",
          "2025-08-23",
          "2025-08-24",
          "2025-08-25",
          "2025-08-26",
          "2025-08-27",
          "2025-08-28",
          "2025-08-29",
          "2025-08-30",
          "2025-08-31",
          "2025-09-01",
          "2025-09-02",
          "2025-09-03",
          "2025-09-04",
          "2025-09-05",
          "2025-09-06",
          "2025-09-07",
          "2025-09-08",
          "2025-09-09"
         ],
         "xaxis": "x",
         "y": {
          "bdata": "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",
          "dtype": "f8"
         },
         "yaxis": "y"
        }
       ],
       "layout": {
        "legend": {
         "title": {
          "text": "variable"
         },
         "tracegroupgap": 0
        },
        "template": {
         "data": {
          "bar": [
           {
            "error_x": {
             "color": "#2a3f5f"
            },
            "error_y": {
             "color": "#2a3f5f"
            },
            "marker": {
             "line": {
              "color": "#E5ECF6",
              "width": 0.5
             },
             "pattern": {
              "fillmode": "overlay",
              "size": 10,
              "solidity": 0.2
             }
            },
            "type": "bar"
           }
          ],
          "barpolar": [
           {
            "marker": {
             "line": {
              "color": "#E5ECF6",
              "width": 0.5
             },
             "pattern": {
              "fillmode": "overlay",
              "size": 10,
              "solidity": 0.2
             }
            },
            "type": "barpolar"
           }
          ],
          "carpet": [
           {
            "aaxis": {
             "endlinecolor": "#2a3f5f",
             "gridcolor": "white",
             "linecolor": "white",
             "minorgridcolor": "white",
             "startlinecolor": "#2a3f5f"
            },
            "baxis": {
             "endlinecolor": "#2a3f5f",
             "gridcolor": "white",
             "linecolor": "white",
             "minorgridcolor": "white",
             "startlinecolor": "#2a3f5f"
            },
            "type": "carpet"
           }
          ],
          "choropleth": [
           {
            "colorbar": {
             "outlinewidth": 0,
             "ticks": ""
            },
            "type": "choropleth"
           }
          ],
          "contour": [
           {
            "colorbar": {
             "outlinewidth": 0,
             "ticks": ""
            },
            "colorscale": [
             [
              0,
              "#0d0887"
             ],
             [
              0.1111111111111111,
              "#46039f"
             ],
             [
              0.2222222222222222,
              "#7201a8"
             ],
             [
              0.3333333333333333,
              "#9c179e"
             ],
             [
              0.4444444444444444,
              "#bd3786"
             ],
             [
              0.5555555555555556,
              "#d8576b"
             ],
             [
              0.6666666666666666,
              "#ed7953"
             ],
             [
              0.7777777777777778,
              "#fb9f3a"
             ],
             [
              0.8888888888888888,
              "#fdca26"
             ],
             [
              1,
              "#f0f921"
             ]
            ],
            "type": "contour"
           }
          ],
          "contourcarpet": [
           {
            "colorbar": {
             "outlinewidth": 0,
             "ticks": ""
            },
            "type": "contourcarpet"
           }
          ],
          "heatmap": [
           {
            "colorbar": {
             "outlinewidth": 0,
             "ticks": ""
            },
            "colorscale": [
             [
              0,
              "#0d0887"
             ],
             [
              0.1111111111111111,
              "#46039f"
             ],
             [
              0.2222222222222222,
              "#7201a8"
             ],
             [
              0.3333333333333333,
              "#9c179e"
             ],
             [
              0.4444444444444444,
              "#bd3786"
             ],
             [
              0.5555555555555556,
              "#d8576b"
             ],
             [
              0.6666666666666666,
              "#ed7953"
             ],
             [
              0.7777777777777778,
              "#fb9f3a"
             ],
             [
              0.8888888888888888,
              "#fdca26"
             ],
             [
              1,
              "#f0f921"
             ]
            ],
            "type": "heatmap"
           }
          ],
          "histogram": [
           {
            "marker": {
             "pattern": {
              "fillmode": "overlay",
              "size": 10,
              "solidity": 0.2
             }
            },
            "type": "histogram"
           }
          ],
          "histogram2d": [
           {
            "colorbar": {
             "outlinewidth": 0,
             "ticks": ""
            },
            "colorscale": [
             [
              0,
              "#0d0887"
             ],
             [
              0.1111111111111111,
              "#46039f"
             ],
             [
              0.2222222222222222,
              "#7201a8"
             ],
             [
              0.3333333333333333,
              "#9c179e"
             ],
             [
              0.4444444444444444,
              "#bd3786"
             ],
             [
              0.5555555555555556,
              "#d8576b"
             ],
             [
              0.6666666666666666,
              "#ed7953"
             ],
             [
              0.7777777777777778,
              "#fb9f3a"
             ],
             [
              0.8888888888888888,
              "#fdca26"
             ],
             [
              1,
              "#f0f921"
             ]
            ],
            "type": "histogram2d"
           }
          ],
          "histogram2dcontour": [
           {
            "colorbar": {
             "outlinewidth": 0,
             "ticks": ""
            },
            "colorscale": [
             [
              0,
              "#0d0887"
             ],
             [
              0.1111111111111111,
              "#46039f"
             ],
             [
              0.2222222222222222,
              "#7201a8"
             ],
             [
              0.3333333333333333,
              "#9c179e"
             ],
             [
              0.4444444444444444,
              "#bd3786"
             ],
             [
              0.5555555555555556,
              "#d8576b"
             ],
             [
              0.6666666666666666,
              "#ed7953"
             ],
             [
              0.7777777777777778,
              "#fb9f3a"
             ],
             [
              0.8888888888888888,
              "#fdca26"
             ],
             [
              1,
              "#f0f921"
             ]
            ],
            "type": "histogram2dcontour"
           }
          ],
          "mesh3d": [
           {
            "colorbar": {
             "outlinewidth": 0,
             "ticks": ""
            },
            "type": "mesh3d"
           }
          ],
          "parcoords": [
           {
            "line": {
             "colorbar": {
              "outlinewidth": 0,
              "ticks": ""
             }
            },
            "type": "parcoords"
           }
          ],
          "pie": [
           {
            "automargin": true,
            "type": "pie"
           }
          ],
          "scatter": [
           {
            "fillpattern": {
             "fillmode": "overlay",
             "size": 10,
             "solidity": 0.2
            },
            "type": "scatter"
           }
          ],
          "scatter3d": [
           {
            "line": {
             "colorbar": {
              "outlinewidth": 0,
              "ticks": ""
             }
            },
            "marker": {
             "colorbar": {
              "outlinewidth": 0,
              "ticks": ""
             }
            },
            "type": "scatter3d"
           }
          ],
          "scattercarpet": [
           {
            "marker": {
             "colorbar": {
              "outlinewidth": 0,
              "ticks": ""
             }
            },
            "type": "scattercarpet"
           }
          ],
          "scattergeo": [
           {
            "marker": {
             "colorbar": {
              "outlinewidth": 0,
              "ticks": ""
             }
            },
            "type": "scattergeo"
           }
          ],
          "scattergl": [
           {
            "marker": {
             "colorbar": {
              "outlinewidth": 0,
              "ticks": ""
             }
            },
            "type": "scattergl"
           }
          ],
          "scattermap": [
           {
            "marker": {
             "colorbar": {
              "outlinewidth": 0,
              "ticks": ""
             }
            },
            "type": "scattermap"
           }
          ],
          "scattermapbox": [
           {
            "marker": {
             "colorbar": {
              "outlinewidth": 0,
              "ticks": ""
             }
            },
            "type": "scattermapbox"
           }
          ],
          "scatterpolar": [
           {
            "marker": {
             "colorbar": {
              "outlinewidth": 0,
              "ticks": ""
             }
            },
            "type": "scatterpolar"
           }
          ],
          "scatterpolargl": [
           {
            "marker": {
             "colorbar": {
              "outlinewidth": 0,
              "ticks": ""
             }
            },
            "type": "scatterpolargl"
           }
          ],
          "scatterternary": [
           {
            "marker": {
             "colorbar": {
              "outlinewidth": 0,
              "ticks": ""
             }
            },
            "type": "scatterternary"
           }
          ],
          "surface": [
           {
            "colorbar": {
             "outlinewidth": 0,
             "ticks": ""
            },
            "colorscale": [
             [
              0,
              "#0d0887"
             ],
             [
              0.1111111111111111,
              "#46039f"
             ],
             [
              0.2222222222222222,
              "#7201a8"
             ],
             [
              0.3333333333333333,
              "#9c179e"
             ],
             [
              0.4444444444444444,
              "#bd3786"
             ],
             [
              0.5555555555555556,
              "#d8576b"
             ],
             [
              0.6666666666666666,
              "#ed7953"
             ],
             [
              0.7777777777777778,
              "#fb9f3a"
             ],
             [
              0.8888888888888888,
              "#fdca26"
             ],
             [
              1,
              "#f0f921"
             ]
            ],
            "type": "surface"
           }
          ],
          "table": [
           {
            "cells": {
             "fill": {
              "color": "#EBF0F8"
             },
             "line": {
              "color": "white"
             }
            },
            "header": {
             "fill": {
              "color": "#C8D4E3"
             },
             "line": {
              "color": "white"
             }
            },
            "type": "table"
           }
          ]
         },
         "layout": {
          "annotationdefaults": {
           "arrowcolor": "#2a3f5f",
           "arrowhead": 0,
           "arrowwidth": 1
          },
          "autotypenumbers": "strict",
          "coloraxis": {
           "colorbar": {
            "outlinewidth": 0,
            "ticks": ""
           }
          },
          "colorscale": {
           "diverging": [
            [
             0,
             "#8e0152"
            ],
            [
             0.1,
             "#c51b7d"
            ],
            [
             0.2,
             "#de77ae"
            ],
            [
             0.3,
             "#f1b6da"
            ],
            [
             0.4,
             "#fde0ef"
            ],
            [
             0.5,
             "#f7f7f7"
            ],
            [
             0.6,
             "#e6f5d0"
            ],
            [
             0.7,
             "#b8e186"
            ],
            [
             0.8,
             "#7fbc41"
            ],
            [
             0.9,
             "#4d9221"
            ],
            [
             1,
             "#276419"
            ]
           ],
           "sequential": [
            [
             0,
             "#0d0887"
            ],
            [
             0.1111111111111111,
             "#46039f"
            ],
            [
             0.2222222222222222,
             "#7201a8"
            ],
            [
             0.3333333333333333,
             "#9c179e"
            ],
            [
             0.4444444444444444,
             "#bd3786"
            ],
            [
             0.5555555555555556,
             "#d8576b"
            ],
            [
             0.6666666666666666,
             "#ed7953"
            ],
            [
             0.7777777777777778,
             "#fb9f3a"
            ],
            [
             0.8888888888888888,
             "#fdca26"
            ],
            [
             1,
             "#f0f921"
            ]
           ],
           "sequentialminus": [
            [
             0,
             "#0d0887"
            ],
            [
             0.1111111111111111,
             "#46039f"
            ],
            [
             0.2222222222222222,
             "#7201a8"
            ],
            [
             0.3333333333333333,
             "#9c179e"
            ],
            [
             0.4444444444444444,
             "#bd3786"
            ],
            [
             0.5555555555555556,
             "#d8576b"
            ],
            [
             0.6666666666666666,
             "#ed7953"
            ],
            [
             0.7777777777777778,
             "#fb9f3a"
            ],
            [
             0.8888888888888888,
             "#fdca26"
            ],
            [
             1,
             "#f0f921"
            ]
           ]
          },
          "colorway": [
           "#636efa",
           "#EF553B",
           "#00cc96",
           "#ab63fa",
           "#FFA15A",
           "#19d3f3",
           "#FF6692",
           "#B6E880",
           "#FF97FF",
           "#FECB52"
          ],
          "font": {
           "color": "#2a3f5f"
          },
          "geo": {
           "bgcolor": "white",
           "lakecolor": "white",
           "landcolor": "#E5ECF6",
           "showlakes": true,
           "showland": true,
           "subunitcolor": "white"
          },
          "hoverlabel": {
           "align": "left"
          },
          "hovermode": "closest",
          "mapbox": {
           "style": "light"
          },
          "paper_bgcolor": "white",
          "plot_bgcolor": "#E5ECF6",
          "polar": {
           "angularaxis": {
            "gridcolor": "white",
            "linecolor": "white",
            "ticks": ""
           },
           "bgcolor": "#E5ECF6",
           "radialaxis": {
            "gridcolor": "white",
            "linecolor": "white",
            "ticks": ""
           }
          },
          "scene": {
           "xaxis": {
            "backgroundcolor": "#E5ECF6",
            "gridcolor": "white",
            "gridwidth": 2,
            "linecolor": "white",
            "showbackground": true,
            "ticks": "",
            "zerolinecolor": "white"
           },
           "yaxis": {
            "backgroundcolor": "#E5ECF6",
            "gridcolor": "white",
            "gridwidth": 2,
            "linecolor": "white",
            "showbackground": true,
            "ticks": "",
            "zerolinecolor": "white"
           },
           "zaxis": {
            "backgroundcolor": "#E5ECF6",
            "gridcolor": "white",
            "gridwidth": 2,
            "linecolor": "white",
            "showbackground": true,
            "ticks": "",
            "zerolinecolor": "white"
           }
          },
          "shapedefaults": {
           "line": {
            "color": "#2a3f5f"
           }
          },
          "ternary": {
           "aaxis": {
            "gridcolor": "white",
            "linecolor": "white",
            "ticks": ""
           },
           "baxis": {
            "gridcolor": "white",
            "linecolor": "white",
            "ticks": ""
           },
           "bgcolor": "#E5ECF6",
           "caxis": {
            "gridcolor": "white",
            "linecolor": "white",
            "ticks": ""
           }
          },
          "title": {
           "x": 0.05
          },
          "xaxis": {
           "automargin": true,
           "gridcolor": "white",
           "linecolor": "white",
           "ticks": "",
           "title": {
            "standoff": 15
           },
           "zerolinecolor": "white",
           "zerolinewidth": 2
          },
          "yaxis": {
           "automargin": true,
           "gridcolor": "white",
           "linecolor": "white",
           "ticks": "",
           "title": {
            "standoff": 15
           },
           "zerolinecolor": "white",
           "zerolinewidth": 2
          }
         }
        },
        "title": {
         "text": "7-Day Moving Average: DAU & DOU"
        },
        "xaxis": {
         "anchor": "y",
         "domain": [
          0,
          1
         ],
         "title": {
          "text": "session_date"
         }
        },
        "yaxis": {
         "anchor": "x",
         "domain": [
          0,
          1
         ],
         "title": {
          "text": "Daily Users (7-day average)"
         }
        }
       }
      },
      "image/png": "[encoded data removed]"
     },
     "metadata": {},
     "output_type": "display_data"
    }
   ],
   "source": [
    "# Calculate 7-day moving averages\n",
    "df2b = pd.read_sql(sql_query_2, engine)\n",
    "df2b['daily_active_users_7day_avg'] = df2b['daily_active_users'].rolling(window=7, min_periods=1).mean()\n",
    "df2b['daily_other_users_7day_avg'] = df2b['daily_other_users'].rolling(window=7, min_periods=1).mean()\n",
    "\n",
    "# Create line chart with both original and 7-day average data\n",
    "fig = px.line(\n",
    "    df2b, \n",
    "    x='session_date', \n",
    "    y=['daily_active_users_7day_avg', \n",
    "       'daily_other_users_7day_avg'],\n",
    "    title=\"7-Day Moving Average: DAU & DOU\"\n",
    ")\n",
    "\n",
    "# Label y-axis as \"Daily Users\"\n",
    "fig.update_layout(yaxis_title=\"Daily Users (7-day average)\")\n",
    "fig.show()"
   ]
  },
  {
   "cell_type": "markdown",
   "id": "67fe1807-e60a-460c-868c-d9e168e26861",
   "metadata": {},
   "source": [
    "# 2. Engaged Users\n",
    "* Leadership is specifically interested in users who have conversations lasting at least 1 minute. Conversation length can be calculated as: Conversation Length=Conversation updated_at−Conversation created_at\n",
    "* Calculate DAU for this engaged segment and highlight any differences from overall DAU trends."
   ]
  },
  {
   "cell_type": "markdown",
   "id": "964d9db3-a4bf-4a5f-966b-d5127b0a7bb9",
   "metadata": {},
   "source": [
    "### Definition of Engaged DAU\n",
    "* DAU + at least one uuid conversation session with duration of 1+ minutes in a day\n",
    "\n",
    "### Engaged DAU Findings\n",
    "* After 6/2/2025, engaged DAU increased 3x compared to previous period.\n",
    "* As a percent of overall DAU, it continues to be approximately 63%-66% before and after.\n",
    "* A noticeable drop in standard deviation for engaged DAU as a percentage of total overall DAU, which confirms that 63%-66% of total overall DAU is a good indicator of engaged DAU for now.\n"
   ]
  },
  {
   "cell_type": "code",
   "execution_count": 120,
   "id": "0f7cfe97-5e81-4734-80d1-ca800d131645",
   "metadata": {},
   "outputs": [
    {
     "data": {
      "application/vnd.plotly.v1+json": {
       "config": {
        "plotlyServerURL": "https://plot.ly"
       },
       "data": [
        {
         "name": "DAU",
         "type": "scatter",
         "x": [
          "2025-01-01",
          "2025-01-02",
          "2025-01-03",
          "2025-01-05",
          "2025-01-06",
          "2025-01-07",
          "2025-01-08",
          "2025-01-09",
          "2025-01-10",
          "2025-01-11",
          "2025-01-12",
          "2025-01-13",
          "2025-01-14",
          "2025-01-15",
          "2025-01-16",
          "2025-01-17",
          "2025-01-18",
          "2025-01-19",
          "2025-01-20",
          "2025-01-21",
          "2025-01-22",
          "2025-01-23",
          "2025-01-24",
          "2025-01-26",
          "2025-01-27",
          "2025-01-28",
          "2025-01-29",
          "2025-01-30",
          "2025-01-31",
          "2025-02-01",
          "2025-02-02",
          "2025-02-03",
          "2025-02-04",
          "2025-02-05",
          "2025-02-06",
          "2025-02-07",
          "2025-02-09",
          "2025-02-10",
          "2025-02-11",
          "2025-02-12",
          "2025-02-13",
          "2025-02-14",
          "2025-02-15",
          "2025-02-16",
          "2025-02-17",
          "2025-02-18",
          "2025-02-19",
          "2025-02-20",
          "2025-02-21",
          "2025-02-22",
          "2025-02-23",
          "2025-02-24",
          "2025-02-25",
          "2025-02-26",
          "2025-02-27",
          "2025-02-28",
          "2025-03-01",
          "2025-03-02",
          "2025-03-03",
          "2025-03-04",
          "2025-03-05",
          "2025-03-06",
          "2025-03-07",
          "2025-03-08",
          "2025-03-09",
          "2025-03-10",
          "2025-03-11",
          "2025-03-12",
          "2025-03-13",
          "2025-03-14",
          "2025-03-15",
          "2025-03-16",
          "2025-03-17",
          "2025-03-18",
          "2025-03-19",
          "2025-03-20",
          "2025-03-21",
          "2025-03-22",
          "2025-03-23",
          "2025-03-24",
          "2025-03-25",
          "2025-03-26",
          "2025-03-27",
          "2025-03-28",
          "2025-03-29",
          "2025-03-30",
          "2025-03-31",
          "2025-04-01",
          "2025-04-02",
          "2025-04-03",
          "2025-04-04",
          "2025-04-05",
          "2025-04-06",
          "2025-04-07",
          "2025-04-08",
          "2025-04-09",
          "2025-04-10",
          "2025-04-11",
          "2025-04-12",
          "2025-04-13",
          "2025-04-14",
          "2025-04-15",
          "2025-04-16",
          "2025-04-17",
          "2025-04-18",
          "2025-04-19",
          "2025-04-20",
          "2025-04-21",
          "2025-04-22",
          "2025-04-23",
          "2025-04-24",
          "2025-04-25",
          "2025-04-26",
          "2025-04-27",
          "2025-04-28",
          "2025-04-29",
          "2025-04-30",
          "2025-05-01",
          "2025-05-02",
          "2025-05-03",
          "2025-05-04",
          "2025-05-05",
          "2025-05-06",
          "2025-05-07",
          "2025-05-08",
          "2025-05-09",
          "2025-05-10",
          "2025-05-11",
          "2025-05-12",
          "2025-05-13",
          "2025-05-14",
          "2025-05-15",
          "2025-05-16",
          "2025-05-17",
          "2025-05-18",
          "2025-05-19",
          "2025-05-20",
          "2025-05-21",
          "2025-05-22",
          "2025-05-23",
          "2025-05-24",
          "2025-05-25",
          "2025-05-26",
          "2025-05-27",
          "2025-05-28",
          "2025-05-29",
          "2025-05-30",
          "2025-05-31",
          "2025-06-01",
          "2025-06-02",
          "2025-06-03",
          "2025-06-04",
          "2025-06-05",
          "2025-06-06",
          "2025-06-07",
          "2025-06-08",
          "2025-06-09",
          "2025-06-10",
          "2025-06-11",
          "2025-06-12",
          "2025-06-13",
          "2025-06-14",
          "2025-06-15",
          "2025-06-16",
          "2025-06-17",
          "2025-06-18",
          "2025-06-19",
          "2025-06-20",
          "2025-06-21",
          "2025-06-22",
          "2025-06-23",
          "2025-06-24",
          "2025-06-25",
          "2025-06-26",
          "2025-06-27",
          "2025-06-28",
          "2025-06-29",
          "2025-06-30",
          "2025-07-01",
          "2025-07-02",
          "2025-07-03",
          "2025-07-04",
          "2025-07-05",
          "2025-07-06",
          "2025-07-07",
          "2025-07-08",
          "2025-07-09",
          "2025-07-10",
          "2025-07-11",
          "2025-07-12",
          "2025-07-13",
          "2025-07-14",
          "2025-07-15",
          "2025-07-16",
          "2025-07-17",
          "2025-07-18",
          "2025-07-19",
          "2025-07-20",
          "2025-07-21",
          "2025-07-22",
          "2025-07-23",
          "2025-07-24",
          "2025-07-25",
          "2025-07-26",
          "2025-07-27",
          "2025-07-28",
          "2025-07-29",
          "2025-07-30",
          "2025-07-31",
          "2025-08-01",
          "2025-08-02",
          "2025-08-03",
          "2025-08-04",
          "2025-08-05",
          "2025-08-06",
          "2025-08-07",
          "2025-08-08",
          "2025-08-09",
          "2025-08-10",
          "2025-08-11",
          "2025-08-12",
          "2025-08-13",
          "2025-08-14",
          "2025-08-15",
          "2025-08-16",
          "2025-08-17",
          "2025-08-18",
          "2025-08-19",
          "2025-08-20",
          "2025-08-21",
          "2025-08-22",
          "2025-08-23",
          "2025-08-24",
          "2025-08-25",
          "2025-08-26",
          "2025-08-27",
          "2025-08-28",
          "2025-08-29",
          "2025-08-30",
          "2025-08-31",
          "2025-09-01",
          "2025-09-02",
          "2025-09-03",
          "2025-09-04",
          "2025-09-05",
          "2025-09-06",
          "2025-09-07",
          "2025-09-08",
          "2025-09-09"
         ],
         "y": {
          "bdata": "BwAHAAMAAgADAAMACAAEAAMAAQADAAQAAwAFAAcAAgADAAEABAAKAAkABQACAAMABAAEAAgAAwALAAYAAwAOAAgADQAIAAIABQAGAAkACwAMAAsACAAHAAYAAQAGAA8ACQAIAAcACgAKAA4ABQAEAAcABQAHAA4ACwAOABQACgAGAA4AEAAOABIACwAGAAMADAAUABYACwAKAA0ACQAOABUAHAAQABEABQABABwAFAAWAA8ACAAGAAYAEAAPABIAHQAPAAoABAAOABkAFgATABEABgAGABEAEAAVABcADgAJAAsADwAWABYADQAVAAgABwAQAA4AKAAtABgACAAJABMAKwAmABsAGQASAA0AGgAcABgAGwAQAAYACAAdACIAGQAmAO8AtQDqADEB7ACsADAAKgAgACYAKAAyADEALAAiADAAHQA0ACwANAAzACMAHAAjACkAMgA1ACMANgBHAEsASAAqACgAJwAdAA8ADwAaAB0AIQAcACMAFQAVACoAMAAmACEAIAASAAcAJgAmACcAKAAZAA0ADwAdAB0ANQAZABsAEwASACcAFwAnACEAKQARAAwAIQAYACUAIgAgAAgACAAXACQAMQAtABgACgANACIAMAAzACcAEwARAAsAHAAdACgAKQAjAA4AEQAkADEA",
          "dtype": "i2"
         }
        },
        {
         "name": "DAU 1+ min",
         "type": "scatter",
         "x": [
          "2025-01-01",
          "2025-01-02",
          "2025-01-03",
          "2025-01-05",
          "2025-01-06",
          "2025-01-07",
          "2025-01-08",
          "2025-01-09",
          "2025-01-10",
          "2025-01-11",
          "2025-01-12",
          "2025-01-13",
          "2025-01-14",
          "2025-01-15",
          "2025-01-16",
          "2025-01-17",
          "2025-01-18",
          "2025-01-19",
          "2025-01-20",
          "2025-01-21",
          "2025-01-22",
          "2025-01-23",
          "2025-01-24",
          "2025-01-26",
          "2025-01-27",
          "2025-01-28",
          "2025-01-29",
          "2025-01-30",
          "2025-01-31",
          "2025-02-01",
          "2025-02-02",
          "2025-02-03",
          "2025-02-04",
          "2025-02-05",
          "2025-02-06",
          "2025-02-07",
          "2025-02-09",
          "2025-02-10",
          "2025-02-11",
          "2025-02-12",
          "2025-02-13",
          "2025-02-14",
          "2025-02-15",
          "2025-02-16",
          "2025-02-17",
          "2025-02-18",
          "2025-02-19",
          "2025-02-20",
          "2025-02-21",
          "2025-02-22",
          "2025-02-23",
          "2025-02-24",
          "2025-02-25",
          "2025-02-26",
          "2025-02-27",
          "2025-02-28",
          "2025-03-01",
          "2025-03-02",
          "2025-03-03",
          "2025-03-04",
          "2025-03-05",
          "2025-03-06",
          "2025-03-07",
          "2025-03-08",
          "2025-03-09",
          "2025-03-10",
          "2025-03-11",
          "2025-03-12",
          "2025-03-13",
          "2025-03-14",
          "2025-03-15",
          "2025-03-16",
          "2025-03-17",
          "2025-03-18",
          "2025-03-19",
          "2025-03-20",
          "2025-03-21",
          "2025-03-22",
          "2025-03-23",
          "2025-03-24",
          "2025-03-25",
          "2025-03-26",
          "2025-03-27",
          "2025-03-28",
          "2025-03-29",
          "2025-03-30",
          "2025-03-31",
          "2025-04-01",
          "2025-04-02",
          "2025-04-03",
          "2025-04-04",
          "2025-04-05",
          "2025-04-06",
          "2025-04-07",
          "2025-04-08",
          "2025-04-09",
          "2025-04-10",
          "2025-04-11",
          "2025-04-12",
          "2025-04-13",
          "2025-04-14",
          "2025-04-15",
          "2025-04-16",
          "2025-04-17",
          "2025-04-18",
          "2025-04-19",
          "2025-04-20",
          "2025-04-21",
          "2025-04-22",
          "2025-04-23",
          "2025-04-24",
          "2025-04-25",
          "2025-04-26",
          "2025-04-27",
          "2025-04-28",
          "2025-04-29",
          "2025-04-30",
          "2025-05-01",
          "2025-05-02",
          "2025-05-03",
          "2025-05-04",
          "2025-05-05",
          "2025-05-06",
          "2025-05-07",
          "2025-05-08",
          "2025-05-09",
          "2025-05-10",
          "2025-05-11",
          "2025-05-12",
          "2025-05-13",
          "2025-05-14",
          "2025-05-15",
          "2025-05-16",
          "2025-05-17",
          "2025-05-18",
          "2025-05-19",
          "2025-05-20",
          "2025-05-21",
          "2025-05-22",
          "2025-05-23",
          "2025-05-24",
          "2025-05-25",
          "2025-05-26",
          "2025-05-27",
          "2025-05-28",
          "2025-05-29",
          "2025-05-30",
          "2025-05-31",
          "2025-06-01",
          "2025-06-02",
          "2025-06-03",
          "2025-06-04",
          "2025-06-05",
          "2025-06-06",
          "2025-06-07",
          "2025-06-08",
          "2025-06-09",
          "2025-06-10",
          "2025-06-11",
          "2025-06-12",
          "2025-06-13",
          "2025-06-14",
          "2025-06-15",
          "2025-06-16",
          "2025-06-17",
          "2025-06-18",
          "2025-06-19",
          "2025-06-20",
          "2025-06-21",
          "2025-06-22",
          "2025-06-23",
          "2025-06-24",
          "2025-06-25",
          "2025-06-26",
          "2025-06-27",
          "2025-06-28",
          "2025-06-29",
          "2025-06-30",
          "2025-07-01",
          "2025-07-02",
          "2025-07-03",
          "2025-07-04",
          "2025-07-05",
          "2025-07-06",
          "2025-07-07",
          "2025-07-08",
          "2025-07-09",
          "2025-07-10",
          "2025-07-11",
          "2025-07-12",
          "2025-07-13",
          "2025-07-14",
          "2025-07-15",
          "2025-07-16",
          "2025-07-17",
          "2025-07-18",
          "2025-07-19",
          "2025-07-20",
          "2025-07-21",
          "2025-07-22",
          "2025-07-23",
          "2025-07-24",
          "2025-07-25",
          "2025-07-26",
          "2025-07-27",
          "2025-07-28",
          "2025-07-29",
          "2025-07-30",
          "2025-07-31",
          "2025-08-01",
          "2025-08-02",
          "2025-08-03",
          "2025-08-04",
          "2025-08-05",
          "2025-08-06",
          "2025-08-07",
          "2025-08-08",
          "2025-08-09",
          "2025-08-10",
          "2025-08-11",
          "2025-08-12",
          "2025-08-13",
          "2025-08-14",
          "2025-08-15",
          "2025-08-16",
          "2025-08-17",
          "2025-08-18",
          "2025-08-19",
          "2025-08-20",
          "2025-08-21",
          "2025-08-22",
          "2025-08-23",
          "2025-08-24",
          "2025-08-25",
          "2025-08-26",
          "2025-08-27",
          "2025-08-28",
          "2025-08-29",
          "2025-08-30",
          "2025-08-31",
          "2025-09-01",
          "2025-09-02",
          "2025-09-03",
          "2025-09-04",
          "2025-09-05",
          "2025-09-06",
          "2025-09-07",
          "2025-09-08",
          "2025-09-09"
         ],
         "y": {
          "bdata": "BQAFAAMAAQACAAIABgABAAEAAAACAAMAAwACAAYAAgABAAEAAwAFAAUAAgABAAIAAgAEAAUAAQAFAAUAAgAEAAQACwAFAAAAAwAGAAcACAAGAAkABQAGAAQAAQAEAAsACAAGAAcACAAHAAoABQADAAYAAQAFAAgABwAKAA8ABQAFAAcACwAMAA4ABQAGAAIACAANAA4ABgAIAAYACAAIAA0AFQAMAA0AAwAAABQACwANAAoABgAEAAUACAANAAoADAAJAAcABAALAA8ADQANAAYABQAEAA4ADQALABEACQAIAAkACwAOAAwACAAKAAUABQALAAoAEwAfAA4ABQAGABIAIQAWABQAEgAPAAYAFAASABEAEAAIAAUABAAOABUAEgAbAK8AgwCsAPQAugCAABsAHgARABUAFgAcABwAHAAVABgAEQAgABgAJAAgABMACwAYABUAIgAkABcAJQAnADAAMAAfABoAHwAXAAoACwARABAAEQASABcACQANABYAIQAcABIAFwAOAAQAEgARABoAFgAQAAgADQAVABoAJwAPAA4ADQAKABYAEAAbABgAGQAIAAkAFQAPABsAEwAUAAQAAwAQABgAHAAgAA8ABwAMABUAHAAkABAADQALAAYAEQASABsAGgAYAAkADQAZACcA",
          "dtype": "i2"
         }
        },
        {
         "name": "Daily %",
         "type": "scatter",
         "x": [
          "2025-01-01",
          "2025-01-02",
          "2025-01-03",
          "2025-01-05",
          "2025-01-06",
          "2025-01-07",
          "2025-01-08",
          "2025-01-09",
          "2025-01-10",
          "2025-01-11",
          "2025-01-12",
          "2025-01-13",
          "2025-01-14",
          "2025-01-15",
          "2025-01-16",
          "2025-01-17",
          "2025-01-18",
          "2025-01-19",
          "2025-01-20",
          "2025-01-21",
          "2025-01-22",
          "2025-01-23",
          "2025-01-24",
          "2025-01-26",
          "2025-01-27",
          "2025-01-28",
          "2025-01-29",
          "2025-01-30",
          "2025-01-31",
          "2025-02-01",
          "2025-02-02",
          "2025-02-03",
          "2025-02-04",
          "2025-02-05",
          "2025-02-06",
          "2025-02-07",
          "2025-02-09",
          "2025-02-10",
          "2025-02-11",
          "2025-02-12",
          "2025-02-13",
          "2025-02-14",
          "2025-02-15",
          "2025-02-16",
          "2025-02-17",
          "2025-02-18",
          "2025-02-19",
          "2025-02-20",
          "2025-02-21",
          "2025-02-22",
          "2025-02-23",
          "2025-02-24",
          "2025-02-25",
          "2025-02-26",
          "2025-02-27",
          "2025-02-28",
          "2025-03-01",
          "2025-03-02",
          "2025-03-03",
          "2025-03-04",
          "2025-03-05",
          "2025-03-06",
          "2025-03-07",
          "2025-03-08",
          "2025-03-09",
          "2025-03-10",
          "2025-03-11",
          "2025-03-12",
          "2025-03-13",
          "2025-03-14",
          "2025-03-15",
          "2025-03-16",
          "2025-03-17",
          "2025-03-18",
          "2025-03-19",
          "2025-03-20",
          "2025-03-21",
          "2025-03-22",
          "2025-03-23",
          "2025-03-24",
          "2025-03-25",
          "2025-03-26",
          "2025-03-27",
          "2025-03-28",
          "2025-03-29",
          "2025-03-30",
          "2025-03-31",
          "2025-04-01",
          "2025-04-02",
          "2025-04-03",
          "2025-04-04",
          "2025-04-05",
          "2025-04-06",
          "2025-04-07",
          "2025-04-08",
          "2025-04-09",
          "2025-04-10",
          "2025-04-11",
          "2025-04-12",
          "2025-04-13",
          "2025-04-14",
          "2025-04-15",
          "2025-04-16",
          "2025-04-17",
          "2025-04-18",
          "2025-04-19",
          "2025-04-20",
          "2025-04-21",
          "2025-04-22",
          "2025-04-23",
          "2025-04-24",
          "2025-04-25",
          "2025-04-26",
          "2025-04-27",
          "2025-04-28",
          "2025-04-29",
          "2025-04-30",
          "2025-05-01",
          "2025-05-02",
          "2025-05-03",
          "2025-05-04",
          "2025-05-05",
          "2025-05-06",
          "2025-05-07",
          "2025-05-08",
          "2025-05-09",
          "2025-05-10",
          "2025-05-11",
          "2025-05-12",
          "2025-05-13",
          "2025-05-14",
          "2025-05-15",
          "2025-05-16",
          "2025-05-17",
          "2025-05-18",
          "2025-05-19",
          "2025-05-20",
          "2025-05-21",
          "2025-05-22",
          "2025-05-23",
          "2025-05-24",
          "2025-05-25",
          "2025-05-26",
          "2025-05-27",
          "2025-05-28",
          "2025-05-29",
          "2025-05-30",
          "2025-05-31",
          "2025-06-01",
          "2025-06-02",
          "2025-06-03",
          "2025-06-04",
          "2025-06-05",
          "2025-06-06",
          "2025-06-07",
          "2025-06-08",
          "2025-06-09",
          "2025-06-10",
          "2025-06-11",
          "2025-06-12",
          "2025-06-13",
          "2025-06-14",
          "2025-06-15",
          "2025-06-16",
          "2025-06-17",
          "2025-06-18",
          "2025-06-19",
          "2025-06-20",
          "2025-06-21",
          "2025-06-22",
          "2025-06-23",
          "2025-06-24",
          "2025-06-25",
          "2025-06-26",
          "2025-06-27",
          "2025-06-28",
          "2025-06-29",
          "2025-06-30",
          "2025-07-01",
          "2025-07-02",
          "2025-07-03",
          "2025-07-04",
          "2025-07-05",
          "2025-07-06",
          "2025-07-07",
          "2025-07-08",
          "2025-07-09",
          "2025-07-10",
          "2025-07-11",
          "2025-07-12",
          "2025-07-13",
          "2025-07-14",
          "2025-07-15",
          "2025-07-16",
          "2025-07-17",
          "2025-07-18",
          "2025-07-19",
          "2025-07-20",
          "2025-07-21",
          "2025-07-22",
          "2025-07-23",
          "2025-07-24",
          "2025-07-25",
          "2025-07-26",
          "2025-07-27",
          "2025-07-28",
          "2025-07-29",
          "2025-07-30",
          "2025-07-31",
          "2025-08-01",
          "2025-08-02",
          "2025-08-03",
          "2025-08-04",
          "2025-08-05",
          "2025-08-06",
          "2025-08-07",
          "2025-08-08",
          "2025-08-09",
          "2025-08-10",
          "2025-08-11",
          "2025-08-12",
          "2025-08-13",
          "2025-08-14",
          "2025-08-15",
          "2025-08-16",
          "2025-08-17",
          "2025-08-18",
          "2025-08-19",
          "2025-08-20",
          "2025-08-21",
          "2025-08-22",
          "2025-08-23",
          "2025-08-24",
          "2025-08-25",
          "2025-08-26",
          "2025-08-27",
          "2025-08-28",
          "2025-08-29",
          "2025-08-30",
          "2025-08-31",
          "2025-09-01",
          "2025-09-02",
          "2025-09-03",
          "2025-09-04",
          "2025-09-05",
          "2025-09-06",
          "2025-09-07",
          "2025-09-08",
          "2025-09-09"
         ],
         "y": {
          "bdata": "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",
          "dtype": "f8"
         },
         "yaxis": "y2"
        }
       ],
       "layout": {
        "legend": {
         "orientation": "h",
         "x": 1,
         "xanchor": "right",
         "y": 1.02,
         "yanchor": "bottom"
        },
        "template": {
         "data": {
          "bar": [
           {
            "error_x": {
             "color": "#2a3f5f"
            },
            "error_y": {
             "color": "#2a3f5f"
            },
            "marker": {
             "line": {
              "color": "#E5ECF6",
              "width": 0.5
             },
             "pattern": {
              "fillmode": "overlay",
              "size": 10,
              "solidity": 0.2
             }
            },
            "type": "bar"
           }
          ],
          "barpolar": [
           {
            "marker": {
             "line": {
              "color": "#E5ECF6",
              "width": 0.5
             },
             "pattern": {
              "fillmode": "overlay",
              "size": 10,
              "solidity": 0.2
             }
            },
            "type": "barpolar"
           }
          ],
          "carpet": [
           {
            "aaxis": {
             "endlinecolor": "#2a3f5f",
             "gridcolor": "white",
             "linecolor": "white",
             "minorgridcolor": "white",
             "startlinecolor": "#2a3f5f"
            },
            "baxis": {
             "endlinecolor": "#2a3f5f",
             "gridcolor": "white",
             "linecolor": "white",
             "minorgridcolor": "white",
             "startlinecolor": "#2a3f5f"
            },
            "type": "carpet"
           }
          ],
          "choropleth": [
           {
            "colorbar": {
             "outlinewidth": 0,
             "ticks": ""
            },
            "type": "choropleth"
           }
          ],
          "contour": [
           {
            "colorbar": {
             "outlinewidth": 0,
             "ticks": ""
            },
            "colorscale": [
             [
              0,
              "#0d0887"
             ],
             [
              0.1111111111111111,
              "#46039f"
             ],
             [
              0.2222222222222222,
              "#7201a8"
             ],
             [
              0.3333333333333333,
              "#9c179e"
             ],
             [
              0.4444444444444444,
              "#bd3786"
             ],
             [
              0.5555555555555556,
              "#d8576b"
             ],
             [
              0.6666666666666666,
              "#ed7953"
             ],
             [
              0.7777777777777778,
              "#fb9f3a"
             ],
             [
              0.8888888888888888,
              "#fdca26"
             ],
             [
              1,
              "#f0f921"
             ]
            ],
            "type": "contour"
           }
          ],
          "contourcarpet": [
           {
            "colorbar": {
             "outlinewidth": 0,
             "ticks": ""
            },
            "type": "contourcarpet"
           }
          ],
          "heatmap": [
           {
            "colorbar": {
             "outlinewidth": 0,
             "ticks": ""
            },
            "colorscale": [
             [
              0,
              "#0d0887"
             ],
             [
              0.1111111111111111,
              "#46039f"
             ],
             [
              0.2222222222222222,
              "#7201a8"
             ],
             [
              0.3333333333333333,
              "#9c179e"
             ],
             [
              0.4444444444444444,
              "#bd3786"
             ],
             [
              0.5555555555555556,
              "#d8576b"
             ],
             [
              0.6666666666666666,
              "#ed7953"
             ],
             [
              0.7777777777777778,
              "#fb9f3a"
             ],
             [
              0.8888888888888888,
              "#fdca26"
             ],
             [
              1,
              "#f0f921"
             ]
            ],
            "type": "heatmap"
           }
          ],
          "histogram": [
           {
            "marker": {
             "pattern": {
              "fillmode": "overlay",
              "size": 10,
              "solidity": 0.2
             }
            },
            "type": "histogram"
           }
          ],
          "histogram2d": [
           {
            "colorbar": {
             "outlinewidth": 0,
             "ticks": ""
            },
            "colorscale": [
             [
              0,
              "#0d0887"
             ],
             [
              0.1111111111111111,
              "#46039f"
             ],
             [
              0.2222222222222222,
              "#7201a8"
             ],
             [
              0.3333333333333333,
              "#9c179e"
             ],
             [
              0.4444444444444444,
              "#bd3786"
             ],
             [
              0.5555555555555556,
              "#d8576b"
             ],
             [
              0.6666666666666666,
              "#ed7953"
             ],
             [
              0.7777777777777778,
              "#fb9f3a"
             ],
             [
              0.8888888888888888,
              "#fdca26"
             ],
             [
              1,
              "#f0f921"
             ]
            ],
            "type": "histogram2d"
           }
          ],
          "histogram2dcontour": [
           {
            "colorbar": {
             "outlinewidth": 0,
             "ticks": ""
            },
            "colorscale": [
             [
              0,
              "#0d0887"
             ],
             [
              0.1111111111111111,
              "#46039f"
             ],
             [
              0.2222222222222222,
              "#7201a8"
             ],
             [
              0.3333333333333333,
              "#9c179e"
             ],
             [
              0.4444444444444444,
              "#bd3786"
             ],
             [
              0.5555555555555556,
              "#d8576b"
             ],
             [
              0.6666666666666666,
              "#ed7953"
             ],
             [
              0.7777777777777778,
              "#fb9f3a"
             ],
             [
              0.8888888888888888,
              "#fdca26"
             ],
             [
              1,
              "#f0f921"
             ]
            ],
            "type": "histogram2dcontour"
           }
          ],
          "mesh3d": [
           {
            "colorbar": {
             "outlinewidth": 0,
             "ticks": ""
            },
            "type": "mesh3d"
           }
          ],
          "parcoords": [
           {
            "line": {
             "colorbar": {
              "outlinewidth": 0,
              "ticks": ""
             }
            },
            "type": "parcoords"
           }
          ],
          "pie": [
           {
            "automargin": true,
            "type": "pie"
           }
          ],
          "scatter": [
           {
            "fillpattern": {
             "fillmode": "overlay",
             "size": 10,
             "solidity": 0.2
            },
            "type": "scatter"
           }
          ],
          "scatter3d": [
           {
            "line": {
             "colorbar": {
              "outlinewidth": 0,
              "ticks": ""
             }
            },
            "marker": {
             "colorbar": {
              "outlinewidth": 0,
              "ticks": ""
             }
            },
            "type": "scatter3d"
           }
          ],
          "scattercarpet": [
           {
            "marker": {
             "colorbar": {
              "outlinewidth": 0,
              "ticks": ""
             }
            },
            "type": "scattercarpet"
           }
          ],
          "scattergeo": [
           {
            "marker": {
             "colorbar": {
              "outlinewidth": 0,
              "ticks": ""
             }
            },
            "type": "scattergeo"
           }
          ],
          "scattergl": [
           {
            "marker": {
             "colorbar": {
              "outlinewidth": 0,
              "ticks": ""
             }
            },
            "type": "scattergl"
           }
          ],
          "scattermap": [
           {
            "marker": {
             "colorbar": {
              "outlinewidth": 0,
              "ticks": ""
             }
            },
            "type": "scattermap"
           }
          ],
          "scattermapbox": [
           {
            "marker": {
             "colorbar": {
              "outlinewidth": 0,
              "ticks": ""
             }
            },
            "type": "scattermapbox"
           }
          ],
          "scatterpolar": [
           {
            "marker": {
             "colorbar": {
              "outlinewidth": 0,
              "ticks": ""
             }
            },
            "type": "scatterpolar"
           }
          ],
          "scatterpolargl": [
           {
            "marker": {
             "colorbar": {
              "outlinewidth": 0,
              "ticks": ""
             }
            },
            "type": "scatterpolargl"
           }
          ],
          "scatterternary": [
           {
            "marker": {
             "colorbar": {
              "outlinewidth": 0,
              "ticks": ""
             }
            },
            "type": "scatterternary"
           }
          ],
          "surface": [
           {
            "colorbar": {
             "outlinewidth": 0,
             "ticks": ""
            },
            "colorscale": [
             [
              0,
              "#0d0887"
             ],
             [
              0.1111111111111111,
              "#46039f"
             ],
             [
              0.2222222222222222,
              "#7201a8"
             ],
             [
              0.3333333333333333,
              "#9c179e"
             ],
             [
              0.4444444444444444,
              "#bd3786"
             ],
             [
              0.5555555555555556,
              "#d8576b"
             ],
             [
              0.6666666666666666,
              "#ed7953"
             ],
             [
              0.7777777777777778,
              "#fb9f3a"
             ],
             [
              0.8888888888888888,
              "#fdca26"
             ],
             [
              1,
              "#f0f921"
             ]
            ],
            "type": "surface"
           }
          ],
          "table": [
           {
            "cells": {
             "fill": {
              "color": "#EBF0F8"
             },
             "line": {
              "color": "white"
             }
            },
            "header": {
             "fill": {
              "color": "#C8D4E3"
             },
             "line": {
              "color": "white"
             }
            },
            "type": "table"
           }
          ]
         },
         "layout": {
          "annotationdefaults": {
           "arrowcolor": "#2a3f5f",
           "arrowhead": 0,
           "arrowwidth": 1
          },
          "autotypenumbers": "strict",
          "coloraxis": {
           "colorbar": {
            "outlinewidth": 0,
            "ticks": ""
           }
          },
          "colorscale": {
           "diverging": [
            [
             0,
             "#8e0152"
            ],
            [
             0.1,
             "#c51b7d"
            ],
            [
             0.2,
             "#de77ae"
            ],
            [
             0.3,
             "#f1b6da"
            ],
            [
             0.4,
             "#fde0ef"
            ],
            [
             0.5,
             "#f7f7f7"
            ],
            [
             0.6,
             "#e6f5d0"
            ],
            [
             0.7,
             "#b8e186"
            ],
            [
             0.8,
             "#7fbc41"
            ],
            [
             0.9,
             "#4d9221"
            ],
            [
             1,
             "#276419"
            ]
           ],
           "sequential": [
            [
             0,
             "#0d0887"
            ],
            [
             0.1111111111111111,
             "#46039f"
            ],
            [
             0.2222222222222222,
             "#7201a8"
            ],
            [
             0.3333333333333333,
             "#9c179e"
            ],
            [
             0.4444444444444444,
             "#bd3786"
            ],
            [
             0.5555555555555556,
             "#d8576b"
            ],
            [
             0.6666666666666666,
             "#ed7953"
            ],
            [
             0.7777777777777778,
             "#fb9f3a"
            ],
            [
             0.8888888888888888,
             "#fdca26"
            ],
            [
             1,
             "#f0f921"
            ]
           ],
           "sequentialminus": [
            [
             0,
             "#0d0887"
            ],
            [
             0.1111111111111111,
             "#46039f"
            ],
            [
             0.2222222222222222,
             "#7201a8"
            ],
            [
             0.3333333333333333,
             "#9c179e"
            ],
            [
             0.4444444444444444,
             "#bd3786"
            ],
            [
             0.5555555555555556,
             "#d8576b"
            ],
            [
             0.6666666666666666,
             "#ed7953"
            ],
            [
             0.7777777777777778,
             "#fb9f3a"
            ],
            [
             0.8888888888888888,
             "#fdca26"
            ],
            [
             1,
             "#f0f921"
            ]
           ]
          },
          "colorway": [
           "#636efa",
           "#EF553B",
           "#00cc96",
           "#ab63fa",
           "#FFA15A",
           "#19d3f3",
           "#FF6692",
           "#B6E880",
           "#FF97FF",
           "#FECB52"
          ],
          "font": {
           "color": "#2a3f5f"
          },
          "geo": {
           "bgcolor": "white",
           "lakecolor": "white",
           "landcolor": "#E5ECF6",
           "showlakes": true,
           "showland": true,
           "subunitcolor": "white"
          },
          "hoverlabel": {
           "align": "left"
          },
          "hovermode": "closest",
          "mapbox": {
           "style": "light"
          },
          "paper_bgcolor": "white",
          "plot_bgcolor": "#E5ECF6",
          "polar": {
           "angularaxis": {
            "gridcolor": "white",
            "linecolor": "white",
            "ticks": ""
           },
           "bgcolor": "#E5ECF6",
           "radialaxis": {
            "gridcolor": "white",
            "linecolor": "white",
            "ticks": ""
           }
          },
          "scene": {
           "xaxis": {
            "backgroundcolor": "#E5ECF6",
            "gridcolor": "white",
            "gridwidth": 2,
            "linecolor": "white",
            "showbackground": true,
            "ticks": "",
            "zerolinecolor": "white"
           },
           "yaxis": {
            "backgroundcolor": "#E5ECF6",
            "gridcolor": "white",
            "gridwidth": 2,
            "linecolor": "white",
            "showbackground": true,
            "ticks": "",
            "zerolinecolor": "white"
           },
           "zaxis": {
            "backgroundcolor": "#E5ECF6",
            "gridcolor": "white",
            "gridwidth": 2,
            "linecolor": "white",
            "showbackground": true,
            "ticks": "",
            "zerolinecolor": "white"
           }
          },
          "shapedefaults": {
           "line": {
            "color": "#2a3f5f"
           }
          },
          "ternary": {
           "aaxis": {
            "gridcolor": "white",
            "linecolor": "white",
            "ticks": ""
           },
           "baxis": {
            "gridcolor": "white",
            "linecolor": "white",
            "ticks": ""
           },
           "bgcolor": "#E5ECF6",
           "caxis": {
            "gridcolor": "white",
            "linecolor": "white",
            "ticks": ""
           }
          },
          "title": {
           "x": 0.05
          },
          "xaxis": {
           "automargin": true,
           "gridcolor": "white",
           "linecolor": "white",
           "ticks": "",
           "title": {
            "standoff": 15
           },
           "zerolinecolor": "white",
           "zerolinewidth": 2
          },
          "yaxis": {
           "automargin": true,
           "gridcolor": "white",
           "linecolor": "white",
           "ticks": "",
           "title": {
            "standoff": 15
           },
           "zerolinecolor": "white",
           "zerolinewidth": 2
          }
         }
        },
        "title": {
         "text": "DAU Analysis with Daily Percentage"
        },
        "yaxis": {
         "title": {
          "text": "Daily Active Users"
         }
        },
        "yaxis2": {
         "overlaying": "y",
         "side": "right",
         "tickformat": ".1%",
         "title": {
          "text": "Daily Percentage"
         }
        }
       }
      },
      "image/png": "[encoded data removed]"
     },
     "metadata": {},
     "output_type": "display_data"
    }
   ],
   "source": [
    "# SQL query\n",
    "sql_query_3 = \"\"\"\n",
    "WITH stg_conversation AS\n",
    "(\n",
    "\tSELECT\n",
    "\t\tcreated_at::date AS session_date,\n",
    "\t\tuuid,\n",
    "\t\towner_id,\n",
    "\t\tROUND(EXTRACT(EPOCH FROM (updated_at - created_at)) / 60, 2) AS duration_minutes\n",
    "\tFROM conversation\n",
    "),\n",
    "stg_users AS\n",
    "(\n",
    "\tSELECT id, role\n",
    "\tFROM users\n",
    "\tWHERE role = 'developer'\n",
    "),\n",
    "agg_view AS\n",
    "(\n",
    "\tSELECT\n",
    "\t\tt1.session_date,\n",
    "\t\tCOUNT(CASE WHEN t2.role = 'developer' THEN t1.uuid ELSE NULL END) AS dau,\n",
    "\t\tCOUNT(CASE WHEN t2.role = 'developer' AND t1.duration_minutes >= 1 THEN t1.uuid ELSE NULL END) AS dau_1_min\n",
    "\tFROM stg_conversation t1\n",
    "\t\t JOIN stg_users t2\n",
    "\t\t\tON t1.owner_id = t2.id\n",
    "\tGROUP BY 1\n",
    ")\n",
    "SELECT \n",
    "\tsession_date,\n",
    "\tdau,\n",
    "\tdau_1_min,\n",
    "\tROUND(1.0 * dau_1_min / dau, 4) as daily_percent\n",
    "FROM agg_view\n",
    "ORDER BY 1;\n",
    "\"\"\"\n",
    "\n",
    "df3 = pd.read_sql(sql_query_3, engine)\n",
    "fig = go.Figure()\n",
    "fig.add_trace(go.Scatter(x=df3['session_date'], y=df3['dau'], name=\"DAU\"))\n",
    "fig.add_trace(go.Scatter(x=df3['session_date'], y=df3['dau_1_min'], name=\"DAU 1+ min\"))\n",
    "fig.add_trace(go.Scatter(x=df3['session_date'], y=df3['daily_percent'], name=\"Daily %\", yaxis=\"y2\"))\n",
    "fig.update_layout(\n",
    "    title=\"DAU Analysis with Daily Percentage\",\n",
    "    legend=dict(orientation=\"h\", yanchor=\"bottom\", y=1.02, xanchor=\"right\", x=1),\n",
    "    yaxis=dict(title=\"Daily Active Users\"),\n",
    "    yaxis2=dict(title=\"Daily Percentage\", overlaying=\"y\", side=\"right\", tickformat=\".1%\")\n",
    ")\n",
    "fig.show()"
   ]
  },
  {
   "cell_type": "code",
   "execution_count": 122,
   "id": "61f0ca64-1b96-4eda-9799-8feb10c4a906",
   "metadata": {},
   "outputs": [
    {
     "name": "stdout",
     "output_type": "stream",
     "text": [
      "DAU 1+ Min (Engaged) Analysis:\n",
      "========================================\n",
      "Before 2025-05-30:\n",
      "  Average DAU 1+ Min: 8.42\n",
      "  Standard Deviation: 6.15\n",
      "  Number of days: 146\n",
      "\n",
      "After 2025-06-02:\n",
      "  Average DAU 1+ Min: 24.13\n",
      "  Standard Deviation: 21.71\n",
      "  Number of days: 99\n",
      "\n",
      "Daily Percentage Analysis:\n",
      "========================================\n",
      "Before 2025-05-30:\n",
      "  Average Daily %: 66.25%\n",
      "  Standard Deviation: 19.32%\n",
      "\n",
      "After 2025-06-02:\n",
      "  Average Daily %: 63.47%\n",
      "  Standard Deviation: 10.27%\n"
     ]
    }
   ],
   "source": [
    "# Pre vs Post Average Analysis\n",
    "df3['session_date'] = pd.to_datetime(df3['session_date'])\n",
    "\n",
    "# Split data into before and after periods\n",
    "before_data_3 = df3b[df3['session_date'] < '2025-05-30']\n",
    "after_data_3 = df3b[df3['session_date'] > '2025-06-02']\n",
    "\n",
    "# Calculate statistics for DAU\n",
    "before_dau_avg_3 = before_data_3['dau_1_min'].mean()\n",
    "before_dau_std_3 = before_data_3['dau_1_min'].std()\n",
    "after_dau_avg_3 = after_data_3['dau_1_min'].mean()\n",
    "after_dau_std_3 = after_data_3['dau_1_min'].std()\n",
    "\n",
    "# Calculate statistics for daily percentage\n",
    "before_percent_avg_3 = before_data_3['daily_percent'].mean()\n",
    "before_percent_std_3 = before_data_3['daily_percent'].std()\n",
    "after_percent_avg_3 = after_data_3['daily_percent'].mean()\n",
    "after_percent_std_3 = after_data_3['daily_percent'].std()\n",
    "\n",
    "print(\"DAU 1+ Min (Engaged) Analysis:\")\n",
    "print(\"=\" * 40)\n",
    "print(f\"Before 2025-05-30:\")\n",
    "print(f\"  Average DAU 1+ Min: {before_dau_avg_3:.2f}\")\n",
    "print(f\"  Standard Deviation: {before_dau_std_3:.2f}\")\n",
    "print(f\"  Number of days: {len(before_data_3)}\")\n",
    "print()\n",
    "print(f\"After 2025-06-02:\")\n",
    "print(f\"  Average DAU 1+ Min: {after_dau_avg_3:.2f}\")\n",
    "print(f\"  Standard Deviation: {after_dau_std_3:.2f}\")\n",
    "print(f\"  Number of days: {len(after_data_3)}\")\n",
    "\n",
    "print(\"\")\n",
    "print(\"Daily Percentage Analysis:\")\n",
    "print(\"=\" * 40)\n",
    "print(f\"Before 2025-05-30:\")\n",
    "print(f\"  Average Daily %: {before_percent_avg_3*100:.2f}%\")\n",
    "print(f\"  Standard Deviation: {before_percent_std_3*100:.2f}%\")\n",
    "print()\n",
    "print(f\"After 2025-06-02:\")\n",
    "print(f\"  Average Daily %: {after_percent_avg_3*100:.2f}%\")\n",
    "print(f\"  Standard Deviation: {after_percent_std_3*100:.2f}%\")"
   ]
  },
  {
   "cell_type": "markdown",
   "id": "4abb7eec-0138-4f93-9a55-892c4300d721",
   "metadata": {},
   "source": [
    "# 3. Propose Additional Metrics\n",
    "* Define any additional metrics that you believe are meaningful for understanding\n",
    "the impact of the launch\n",
    "* Clearly define your metric(s), justify why it is meaningful, and show your\n",
    "calculation. If your approach relies on data we have not provided, a conceptual\n",
    "explanation of your methodology is sufficient based on the given DDL."
   ]
  },
  {
   "cell_type": "markdown",
   "id": "89ea321b-bf93-4205-ad25-4dc0f27761c8",
   "metadata": {},
   "source": [
    "### Proposed Metric 1: Average session duration per day\n",
    "* **Definition:** Calculate at the conversation (uuid) session level the duration in minutes and calculate the average for each day. To improve the quality of the metric, outlier detection (IQR) method is applied.\n",
    "* **Goal:** The goal of the metric is to measure product engagement and measure usage in a meaningful way. In this case, we are correlating product usage by conversation duration with Tavus replica. Also, if the goal is to optimize the conversations to hit a particular time limit or duration, this metric will capture this trend."
   ]
  },
  {
   "cell_type": "code",
   "execution_count": 128,
   "id": "3fd2ae8b-0d95-4607-81ce-d2ded6bb6467",
   "metadata": {},
   "outputs": [
    {
     "data": {
      "application/vnd.plotly.v1+json": {
       "config": {
        "plotlyServerURL": "https://plot.ly"
       },
       "data": [
        {
         "name": "Original",
         "showlegend": false,
         "type": "box",
         "xaxis": "x",
         "y": {
          "bdata": "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",
          "dtype": "f8"
         },
         "yaxis": "y"
        },
        {
         "name": "Cleaned (IQR)",
         "showlegend": false,
         "type": "box",
         "xaxis": "x2",
         "y": {
          "bdata": "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",
          "dtype": "f8"
         },
         "yaxis": "y2"
        }
       ],
       "layout": {
        "annotations": [
         {
          "font": {
           "size": 16
          },
          "showarrow": false,
          "text": "Original Data",
          "x": 0.225,
          "xanchor": "center",
          "xref": "paper",
          "y": 1,
          "yanchor": "bottom",
          "yref": "paper"
         },
         {
          "font": {
           "size": 16
          },
          "showarrow": false,
          "text": "After Outlier Removal",
          "x": 0.775,
          "xanchor": "center",
          "xref": "paper",
          "y": 1,
          "yanchor": "bottom",
          "yref": "paper"
         }
        ],
        "height": 500,
        "template": {
         "data": {
          "bar": [
           {
            "error_x": {
             "color": "#2a3f5f"
            },
            "error_y": {
             "color": "#2a3f5f"
            },
            "marker": {
             "line": {
              "color": "#E5ECF6",
              "width": 0.5
             },
             "pattern": {
              "fillmode": "overlay",
              "size": 10,
              "solidity": 0.2
             }
            },
            "type": "bar"
           }
          ],
          "barpolar": [
           {
            "marker": {
             "line": {
              "color": "#E5ECF6",
              "width": 0.5
             },
             "pattern": {
              "fillmode": "overlay",
              "size": 10,
              "solidity": 0.2
             }
            },
            "type": "barpolar"
           }
          ],
          "carpet": [
           {
            "aaxis": {
             "endlinecolor": "#2a3f5f",
             "gridcolor": "white",
             "linecolor": "white",
             "minorgridcolor": "white",
             "startlinecolor": "#2a3f5f"
            },
            "baxis": {
             "endlinecolor": "#2a3f5f",
             "gridcolor": "white",
             "linecolor": "white",
             "minorgridcolor": "white",
             "startlinecolor": "#2a3f5f"
            },
            "type": "carpet"
           }
          ],
          "choropleth": [
           {
            "colorbar": {
             "outlinewidth": 0,
             "ticks": ""
            },
            "type": "choropleth"
           }
          ],
          "contour": [
           {
            "colorbar": {
             "outlinewidth": 0,
             "ticks": ""
            },
            "colorscale": [
             [
              0,
              "#0d0887"
             ],
             [
              0.1111111111111111,
              "#46039f"
             ],
             [
              0.2222222222222222,
              "#7201a8"
             ],
             [
              0.3333333333333333,
              "#9c179e"
             ],
             [
              0.4444444444444444,
              "#bd3786"
             ],
             [
              0.5555555555555556,
              "#d8576b"
             ],
             [
              0.6666666666666666,
              "#ed7953"
             ],
             [
              0.7777777777777778,
              "#fb9f3a"
             ],
             [
              0.8888888888888888,
              "#fdca26"
             ],
             [
              1,
              "#f0f921"
             ]
            ],
            "type": "contour"
           }
          ],
          "contourcarpet": [
           {
            "colorbar": {
             "outlinewidth": 0,
             "ticks": ""
            },
            "type": "contourcarpet"
           }
          ],
          "heatmap": [
           {
            "colorbar": {
             "outlinewidth": 0,
             "ticks": ""
            },
            "colorscale": [
             [
              0,
              "#0d0887"
             ],
             [
              0.1111111111111111,
              "#46039f"
             ],
             [
              0.2222222222222222,
              "#7201a8"
             ],
             [
              0.3333333333333333,
              "#9c179e"
             ],
             [
              0.4444444444444444,
              "#bd3786"
             ],
             [
              0.5555555555555556,
              "#d8576b"
             ],
             [
              0.6666666666666666,
              "#ed7953"
             ],
             [
              0.7777777777777778,
              "#fb9f3a"
             ],
             [
              0.8888888888888888,
              "#fdca26"
             ],
             [
              1,
              "#f0f921"
             ]
            ],
            "type": "heatmap"
           }
          ],
          "histogram": [
           {
            "marker": {
             "pattern": {
              "fillmode": "overlay",
              "size": 10,
              "solidity": 0.2
             }
            },
            "type": "histogram"
           }
          ],
          "histogram2d": [
           {
            "colorbar": {
             "outlinewidth": 0,
             "ticks": ""
            },
            "colorscale": [
             [
              0,
              "#0d0887"
             ],
             [
              0.1111111111111111,
              "#46039f"
             ],
             [
              0.2222222222222222,
              "#7201a8"
             ],
             [
              0.3333333333333333,
              "#9c179e"
             ],
             [
              0.4444444444444444,
              "#bd3786"
             ],
             [
              0.5555555555555556,
              "#d8576b"
             ],
             [
              0.6666666666666666,
              "#ed7953"
             ],
             [
              0.7777777777777778,
              "#fb9f3a"
             ],
             [
              0.8888888888888888,
              "#fdca26"
             ],
             [
              1,
              "#f0f921"
             ]
            ],
            "type": "histogram2d"
           }
          ],
          "histogram2dcontour": [
           {
            "colorbar": {
             "outlinewidth": 0,
             "ticks": ""
            },
            "colorscale": [
             [
              0,
              "#0d0887"
             ],
             [
              0.1111111111111111,
              "#46039f"
             ],
             [
              0.2222222222222222,
              "#7201a8"
             ],
             [
              0.3333333333333333,
              "#9c179e"
             ],
             [
              0.4444444444444444,
              "#bd3786"
             ],
             [
              0.5555555555555556,
              "#d8576b"
             ],
             [
              0.6666666666666666,
              "#ed7953"
             ],
             [
              0.7777777777777778,
              "#fb9f3a"
             ],
             [
              0.8888888888888888,
              "#fdca26"
             ],
             [
              1,
              "#f0f921"
             ]
            ],
            "type": "histogram2dcontour"
           }
          ],
          "mesh3d": [
           {
            "colorbar": {
             "outlinewidth": 0,
             "ticks": ""
            },
            "type": "mesh3d"
           }
          ],
          "parcoords": [
           {
            "line": {
             "colorbar": {
              "outlinewidth": 0,
              "ticks": ""
             }
            },
            "type": "parcoords"
           }
          ],
          "pie": [
           {
            "automargin": true,
            "type": "pie"
           }
          ],
          "scatter": [
           {
            "fillpattern": {
             "fillmode": "overlay",
             "size": 10,
             "solidity": 0.2
            },
            "type": "scatter"
           }
          ],
          "scatter3d": [
           {
            "line": {
             "colorbar": {
              "outlinewidth": 0,
              "ticks": ""
             }
            },
            "marker": {
             "colorbar": {
              "outlinewidth": 0,
              "ticks": ""
             }
            },
            "type": "scatter3d"
           }
          ],
          "scattercarpet": [
           {
            "marker": {
             "colorbar": {
              "outlinewidth": 0,
              "ticks": ""
             }
            },
            "type": "scattercarpet"
           }
          ],
          "scattergeo": [
           {
            "marker": {
             "colorbar": {
              "outlinewidth": 0,
              "ticks": ""
             }
            },
            "type": "scattergeo"
           }
          ],
          "scattergl": [
           {
            "marker": {
             "colorbar": {
              "outlinewidth": 0,
              "ticks": ""
             }
            },
            "type": "scattergl"
           }
          ],
          "scattermap": [
           {
            "marker": {
             "colorbar": {
              "outlinewidth": 0,
              "ticks": ""
             }
            },
            "type": "scattermap"
           }
          ],
          "scattermapbox": [
           {
            "marker": {
             "colorbar": {
              "outlinewidth": 0,
              "ticks": ""
             }
            },
            "type": "scattermapbox"
           }
          ],
          "scatterpolar": [
           {
            "marker": {
             "colorbar": {
              "outlinewidth": 0,
              "ticks": ""
             }
            },
            "type": "scatterpolar"
           }
          ],
          "scatterpolargl": [
           {
            "marker": {
             "colorbar": {
              "outlinewidth": 0,
              "ticks": ""
             }
            },
            "type": "scatterpolargl"
           }
          ],
          "scatterternary": [
           {
            "marker": {
             "colorbar": {
              "outlinewidth": 0,
              "ticks": ""
             }
            },
            "type": "scatterternary"
           }
          ],
          "surface": [
           {
            "colorbar": {
             "outlinewidth": 0,
             "ticks": ""
            },
            "colorscale": [
             [
              0,
              "#0d0887"
             ],
             [
              0.1111111111111111,
              "#46039f"
             ],
             [
              0.2222222222222222,
              "#7201a8"
             ],
             [
              0.3333333333333333,
              "#9c179e"
             ],
             [
              0.4444444444444444,
              "#bd3786"
             ],
             [
              0.5555555555555556,
              "#d8576b"
             ],
             [
              0.6666666666666666,
              "#ed7953"
             ],
             [
              0.7777777777777778,
              "#fb9f3a"
             ],
             [
              0.8888888888888888,
              "#fdca26"
             ],
             [
              1,
              "#f0f921"
             ]
            ],
            "type": "surface"
           }
          ],
          "table": [
           {
            "cells": {
             "fill": {
              "color": "#EBF0F8"
             },
             "line": {
              "color": "white"
             }
            },
            "header": {
             "fill": {
              "color": "#C8D4E3"
             },
             "line": {
              "color": "white"
             }
            },
            "type": "table"
           }
          ]
         },
         "layout": {
          "annotationdefaults": {
           "arrowcolor": "#2a3f5f",
           "arrowhead": 0,
           "arrowwidth": 1
          },
          "autotypenumbers": "strict",
          "coloraxis": {
           "colorbar": {
            "outlinewidth": 0,
            "ticks": ""
           }
          },
          "colorscale": {
           "diverging": [
            [
             0,
             "#8e0152"
            ],
            [
             0.1,
             "#c51b7d"
            ],
            [
             0.2,
             "#de77ae"
            ],
            [
             0.3,
             "#f1b6da"
            ],
            [
             0.4,
             "#fde0ef"
            ],
            [
             0.5,
             "#f7f7f7"
            ],
            [
             0.6,
             "#e6f5d0"
            ],
            [
             0.7,
             "#b8e186"
            ],
            [
             0.8,
             "#7fbc41"
            ],
            [
             0.9,
             "#4d9221"
            ],
            [
             1,
             "#276419"
            ]
           ],
           "sequential": [
            [
             0,
             "#0d0887"
            ],
            [
             0.1111111111111111,
             "#46039f"
            ],
            [
             0.2222222222222222,
             "#7201a8"
            ],
            [
             0.3333333333333333,
             "#9c179e"
            ],
            [
             0.4444444444444444,
             "#bd3786"
            ],
            [
             0.5555555555555556,
             "#d8576b"
            ],
            [
             0.6666666666666666,
             "#ed7953"
            ],
            [
             0.7777777777777778,
             "#fb9f3a"
            ],
            [
             0.8888888888888888,
             "#fdca26"
            ],
            [
             1,
             "#f0f921"
            ]
           ],
           "sequentialminus": [
            [
             0,
             "#0d0887"
            ],
            [
             0.1111111111111111,
             "#46039f"
            ],
            [
             0.2222222222222222,
             "#7201a8"
            ],
            [
             0.3333333333333333,
             "#9c179e"
            ],
            [
             0.4444444444444444,
             "#bd3786"
            ],
            [
             0.5555555555555556,
             "#d8576b"
            ],
            [
             0.6666666666666666,
             "#ed7953"
            ],
            [
             0.7777777777777778,
             "#fb9f3a"
            ],
            [
             0.8888888888888888,
             "#fdca26"
            ],
            [
             1,
             "#f0f921"
            ]
           ]
          },
          "colorway": [
           "#636efa",
           "#EF553B",
           "#00cc96",
           "#ab63fa",
           "#FFA15A",
           "#19d3f3",
           "#FF6692",
           "#B6E880",
           "#FF97FF",
           "#FECB52"
          ],
          "font": {
           "color": "#2a3f5f"
          },
          "geo": {
           "bgcolor": "white",
           "lakecolor": "white",
           "landcolor": "#E5ECF6",
           "showlakes": true,
           "showland": true,
           "subunitcolor": "white"
          },
          "hoverlabel": {
           "align": "left"
          },
          "hovermode": "closest",
          "mapbox": {
           "style": "light"
          },
          "paper_bgcolor": "white",
          "plot_bgcolor": "#E5ECF6",
          "polar": {
           "angularaxis": {
            "gridcolor": "white",
            "linecolor": "white",
            "ticks": ""
           },
           "bgcolor": "#E5ECF6",
           "radialaxis": {
            "gridcolor": "white",
            "linecolor": "white",
            "ticks": ""
           }
          },
          "scene": {
           "xaxis": {
            "backgroundcolor": "#E5ECF6",
            "gridcolor": "white",
            "gridwidth": 2,
            "linecolor": "white",
            "showbackground": true,
            "ticks": "",
            "zerolinecolor": "white"
           },
           "yaxis": {
            "backgroundcolor": "#E5ECF6",
            "gridcolor": "white",
            "gridwidth": 2,
            "linecolor": "white",
            "showbackground": true,
            "ticks": "",
            "zerolinecolor": "white"
           },
           "zaxis": {
            "backgroundcolor": "#E5ECF6",
            "gridcolor": "white",
            "gridwidth": 2,
            "linecolor": "white",
            "showbackground": true,
            "ticks": "",
            "zerolinecolor": "white"
           }
          },
          "shapedefaults": {
           "line": {
            "color": "#2a3f5f"
           }
          },
          "ternary": {
           "aaxis": {
            "gridcolor": "white",
            "linecolor": "white",
            "ticks": ""
           },
           "baxis": {
            "gridcolor": "white",
            "linecolor": "white",
            "ticks": ""
           },
           "bgcolor": "#E5ECF6",
           "caxis": {
            "gridcolor": "white",
            "linecolor": "white",
            "ticks": ""
           }
          },
          "title": {
           "x": 0.05
          },
          "xaxis": {
           "automargin": true,
           "gridcolor": "white",
           "linecolor": "white",
           "ticks": "",
           "title": {
            "standoff": 15
           },
           "zerolinecolor": "white",
           "zerolinewidth": 2
          },
          "yaxis": {
           "automargin": true,
           "gridcolor": "white",
           "linecolor": "white",
           "ticks": "",
           "title": {
            "standoff": 15
           },
           "zerolinecolor": "white",
           "zerolinewidth": 2
          }
         }
        },
        "title": {
         "text": "Duration Outlier Analysis"
        },
        "xaxis": {
         "anchor": "y",
         "domain": [
          0,
          0.45
         ]
        },
        "xaxis2": {
         "anchor": "y2",
         "domain": [
          0.55,
          1
         ]
        },
        "yaxis": {
         "anchor": "x",
         "domain": [
          0,
          1
         ]
        },
        "yaxis2": {
         "anchor": "x2",
         "domain": [
          0,
          1
         ]
        }
       }
      },
      "image/png": "[encoded data removed]"
     },
     "metadata": {},
     "output_type": "display_data"
    }
   ],
   "source": [
    "# SQL query\n",
    "sql_query_4 = \"\"\"\n",
    "SELECT \n",
    "\tt1.created_at::date as session_date,\n",
    "\tt1.uuid,\n",
    "\tROUND(EXTRACT(EPOCH FROM (t1.updated_at - t1.created_at)) / 60, 2) AS duration_minutes\n",
    "FROM conversation t1\n",
    "\t JOIN (SELECT id FROM users WHERE role = 'developer') t2\n",
    "\t\tON t1.owner_id = t2.id\n",
    "\"\"\"\n",
    "\n",
    "# Load data\n",
    "df4 = pd.read_sql(sql_query_4, engine)\n",
    "\n",
    "# Outlier detection (IQR method)\n",
    "Q1 = df4['duration_minutes'].quantile(0.25)\n",
    "Q3 = df4['duration_minutes'].quantile(0.75)\n",
    "IQR = Q3 - Q1\n",
    "lower_bound = Q1 - 1.5 * IQR\n",
    "upper_bound = Q3 + 1.5 * IQR\n",
    "\n",
    "# Remove outliers using IQR method\n",
    "df_clean = df4[(df4['duration_minutes'] >= lower_bound) & (df4['duration_minutes'] <= upper_bound)]\n",
    "\n",
    "# Visual new data\n",
    "fig = make_subplots(rows=1, cols=2, subplot_titles=['Original Data', 'After Outlier Removal'])\n",
    "fig.add_trace(go.Box(y=df4['duration_minutes'], name='Original', showlegend=False), row=1, col=1)\n",
    "fig.add_trace(go.Box(y=df_clean['duration_minutes'], name='Cleaned (IQR)', showlegend=False), row=1, col=2)\n",
    "fig.update_layout(title_text=\"Duration Outlier Analysis\", height=500)\n",
    "fig.show()"
   ]
  },
  {
   "cell_type": "code",
   "execution_count": 86,
   "id": "f94dfb0c-efda-4ca1-8980-1f1946d60d32",
   "metadata": {},
   "outputs": [
    {
     "data": {
      "application/vnd.plotly.v1+json": {
       "config": {
        "plotlyServerURL": "https://plot.ly"
       },
       "data": [
        {
         "hovertemplate": "session_date=%{x}<br>duration_minutes=%{y}<extra></extra>",
         "legendgroup": "",
         "line": {
          "color": "#636efa",
          "dash": "solid"
         },
         "marker": {
          "symbol": "circle"
         },
         "mode": "lines",
         "name": "",
         "orientation": "v",
         "showlegend": false,
         "type": "scatter",
         "x": [
          "2025-01-01",
          "2025-01-02",
          "2025-01-03",
          "2025-01-05",
          "2025-01-06",
          "2025-01-07",
          "2025-01-08",
          "2025-01-09",
          "2025-01-10",
          "2025-01-11",
          "2025-01-12",
          "2025-01-13",
          "2025-01-14",
          "2025-01-15",
          "2025-01-16",
          "2025-01-17",
          "2025-01-18",
          "2025-01-19",
          "2025-01-20",
          "2025-01-21",
          "2025-01-22",
          "2025-01-23",
          "2025-01-24",
          "2025-01-26",
          "2025-01-27",
          "2025-01-28",
          "2025-01-29",
          "2025-01-30",
          "2025-01-31",
          "2025-02-01",
          "2025-02-02",
          "2025-02-03",
          "2025-02-04",
          "2025-02-05",
          "2025-02-06",
          "2025-02-07",
          "2025-02-09",
          "2025-02-10",
          "2025-02-11",
          "2025-02-12",
          "2025-02-13",
          "2025-02-14",
          "2025-02-15",
          "2025-02-16",
          "2025-02-17",
          "2025-02-18",
          "2025-02-19",
          "2025-02-20",
          "2025-02-21",
          "2025-02-22",
          "2025-02-23",
          "2025-02-24",
          "2025-02-25",
          "2025-02-26",
          "2025-02-27",
          "2025-02-28",
          "2025-03-01",
          "2025-03-02",
          "2025-03-03",
          "2025-03-04",
          "2025-03-05",
          "2025-03-06",
          "2025-03-07",
          "2025-03-08",
          "2025-03-09",
          "2025-03-10",
          "2025-03-11",
          "2025-03-12",
          "2025-03-13",
          "2025-03-14",
          "2025-03-15",
          "2025-03-16",
          "2025-03-17",
          "2025-03-18",
          "2025-03-19",
          "2025-03-20",
          "2025-03-21",
          "2025-03-22",
          "2025-03-23",
          "2025-03-24",
          "2025-03-25",
          "2025-03-26",
          "2025-03-27",
          "2025-03-28",
          "2025-03-29",
          "2025-03-30",
          "2025-03-31",
          "2025-04-01",
          "2025-04-02",
          "2025-04-03",
          "2025-04-04",
          "2025-04-05",
          "2025-04-06",
          "2025-04-07",
          "2025-04-08",
          "2025-04-09",
          "2025-04-10",
          "2025-04-11",
          "2025-04-12",
          "2025-04-13",
          "2025-04-14",
          "2025-04-15",
          "2025-04-16",
          "2025-04-17",
          "2025-04-18",
          "2025-04-19",
          "2025-04-20",
          "2025-04-21",
          "2025-04-22",
          "2025-04-23",
          "2025-04-24",
          "2025-04-25",
          "2025-04-26",
          "2025-04-27",
          "2025-04-28",
          "2025-04-29",
          "2025-04-30",
          "2025-05-01",
          "2025-05-02",
          "2025-05-03",
          "2025-05-04",
          "2025-05-05",
          "2025-05-06",
          "2025-05-07",
          "2025-05-08",
          "2025-05-09",
          "2025-05-10",
          "2025-05-11",
          "2025-05-12",
          "2025-05-13",
          "2025-05-14",
          "2025-05-15",
          "2025-05-16",
          "2025-05-17",
          "2025-05-18",
          "2025-05-19",
          "2025-05-20",
          "2025-05-21",
          "2025-05-22",
          "2025-05-23",
          "2025-05-24",
          "2025-05-25",
          "2025-05-26",
          "2025-05-27",
          "2025-05-28",
          "2025-05-29",
          "2025-05-30",
          "2025-05-31",
          "2025-06-01",
          "2025-06-02",
          "2025-06-03",
          "2025-06-04",
          "2025-06-05",
          "2025-06-06",
          "2025-06-07",
          "2025-06-08",
          "2025-06-09",
          "2025-06-10",
          "2025-06-11",
          "2025-06-12",
          "2025-06-13",
          "2025-06-14",
          "2025-06-15",
          "2025-06-16",
          "2025-06-17",
          "2025-06-18",
          "2025-06-19",
          "2025-06-20",
          "2025-06-21",
          "2025-06-22",
          "2025-06-23",
          "2025-06-24",
          "2025-06-25",
          "2025-06-26",
          "2025-06-27",
          "2025-06-28",
          "2025-06-29",
          "2025-06-30",
          "2025-07-01",
          "2025-07-02",
          "2025-07-03",
          "2025-07-04",
          "2025-07-05",
          "2025-07-06",
          "2025-07-07",
          "2025-07-08",
          "2025-07-09",
          "2025-07-10",
          "2025-07-11",
          "2025-07-12",
          "2025-07-13",
          "2025-07-14",
          "2025-07-15",
          "2025-07-16",
          "2025-07-17",
          "2025-07-18",
          "2025-07-19",
          "2025-07-20",
          "2025-07-21",
          "2025-07-22",
          "2025-07-23",
          "2025-07-24",
          "2025-07-25",
          "2025-07-26",
          "2025-07-27",
          "2025-07-28",
          "2025-07-29",
          "2025-07-30",
          "2025-07-31",
          "2025-08-01",
          "2025-08-02",
          "2025-08-03",
          "2025-08-04",
          "2025-08-05",
          "2025-08-06",
          "2025-08-07",
          "2025-08-08",
          "2025-08-09",
          "2025-08-10",
          "2025-08-11",
          "2025-08-12",
          "2025-08-13",
          "2025-08-14",
          "2025-08-15",
          "2025-08-16",
          "2025-08-17",
          "2025-08-18",
          "2025-08-19",
          "2025-08-20",
          "2025-08-21",
          "2025-08-22",
          "2025-08-23",
          "2025-08-24",
          "2025-08-25",
          "2025-08-26",
          "2025-08-27",
          "2025-08-28",
          "2025-08-29",
          "2025-08-30",
          "2025-08-31",
          "2025-09-01",
          "2025-09-02",
          "2025-09-03",
          "2025-09-04",
          "2025-09-05",
          "2025-09-06",
          "2025-09-07",
          "2025-09-08",
          "2025-09-09"
         ],
         "xaxis": "x",
         "y": {
          "bdata": "sPiKr/iKCUDDptKQc58LQGdmZmZmZgZA2KNwPQrX6z+5HoXrUbgEQNBpA5020AFAKVyPwvXoAkDC9Shcj8LxPwnXo3A9Cvs/pHA9CtejwD8L16NwPQoNQOF6FK5H4QhAj8L1KFyPEUBqvHSTGAT2P7gehetRuABAwvUoXI/CE0CnDXTaQKcBQEjhehSuRxRA+cWSXyz5B0D0SZ/0SZ8MQM3MzMzMzOw/6Pup8dJN8j8pXI/C9SgIQEVERERERPg/rkfhehSu8T+F61G4HgULQJFzn11AbABAm5mZmZmZ6T/38nkvn/cAQHA9CtejcPs/FK5H4XoUE0BrGO035bnkP1K4HoXrkQNA6t4hUUWIA0DAk9XyxgjyP83MzMzMzNQ/zczMzMzM+D+F61G4HoX5P1cTz4pGAgZAuQOUO0C5AUDNzMzMzMz4PwAAAAAAAAxAKFyPwvVoDkBGMNHfyWr9P+/u7u7u7gNAMzMzMzMzFED5xZJfLPkGQJ19+Ay7AgJAREREREREBEBcj8L1KFwMQK5H4XoUbhBACBkqO0xdAkDByqFFtvMEQNYw2m/KcwVAGQRWDi2yA0DMzMzMzEwAQG3n+6nx0vU/Fa5H4XoU9j+Lr/iKr/gCQFveGMFEfwRANf1Q0w81A0BVVVVVVVUCQKAaL90khgRAc2iR7Xw//T8fhetRuB4JQANiU2nIuf0/j8L1KFyP+j8XeqEXeqEDQBBYObTIdgJAAAAAAAAA/D8lv1jyiyUFQHh3d3d3d/c/GEKDITQYBEDwp8ZLNwkAQLkehetRuARA5ClBnhLkAUA6tMh2vp8CQJZaqZVaqfU/w/UoXI/CA0CX/GLJL5b3P/Nt3GW5ePw/sPiKr/iKA0CuR+F6FK4HQD7DrgC51wBAUbgehetR9D97FK5H4XrUP3MGRS7CAApAJfQhk311AECZtIpJq5gAQPp+arx0k/w/zczMzMzM+D9Y8oslv1gFQGPJL5b8YgdAXI/C9Sic/z/Iuc8uIDYHQCKI7lS7IQBA/4xpMsCc8z9fcyFpSsUHQGzBFmzBFgBAtYFOG+i09T+rqqqqqqoEQKYzdEWcH/s/zczMzMzMAEDwZhNUbNUEQNPS0tLS0vo/GEt+seQXBEBjyS+W/GL9P0p9sOMWSgVADQIrhxbZCkCtQBhpxwoAQE8J8pQgTwVAsobRflOe/z+8u7u7u7sDQAaBlUOLbPs/MQisHFpkA0BCgyE0GEIAQNFgCA2G0ABAh9F+U55LAkCMB3b/UhICQFK4HoXrUfU/6LSBThvo/j8dEzyYJ+r/P06lIec+uwRAAiuHFtlO/j/jRDJOJGMAQH+x5BdL/vo/gU4b6LSBAUC3P8hQ2WEIQOX2BxkqOwpA0bwMzcvQCEBArzucPv79P6jGSzeJQQZAB1+YTBWMAkDAN68mnhULQKc8l0DWMAJAiPPjAIIkAkArvuIrvuIDQFK4HoXrkQJA/GLJL5b8/j8fhetRuP4AQA102kCnDQdA16NwPQpXAUAyXze657/6P0WZUJQJRfk/v1jyiyX/BUCApTKdaL4GQHODnD1uxQhAlWlwqhe4CUB4jMd4jMcJQFLwukC4EAxAzWCm/5PZC0AlTv2eW+IKQMeSXyz5hf8/iE2lIec+A0CVm0+5+ZQDQLorSoQKIgNAnxov3SQGBEDYgXNGlPb6P/nFkl8s+QBATVlT1pQ1AUDQaQOdNtADQDHgPbxgXABAlR2mLrc/AEAMJCh+jLkCQJkmA8xZNvs/OYAgiTT2BkCX+C3bvowGQGue0QQ4a/4/IFnnygOS+T/0Xj7v5fP+P8CcZfPPmPo/h++aXNDUAkBShbjrHlIFQA9i5CBGDgJAhetRuB6lB0AFCe8szpEAQPo0FGTxiANAQacNdNoABkDiehSuR+EGQO2rkypjWANA8lk3mCKfB0C+4iu+4isKQLCgpOPT1whAvuIrvuIrDEBERERERIQDQFNpyLnPLgNAXI/C9Sj8+z93LSEf9Gz6P7TmGU2AswJA6WUrg//E/D9Di2zn+ykEQBFYObTI9vc/y8cq9CO6BkAB37yaeFYBQNkVIPeaC/s/o3A9CtejAkDD9Shcj+IDQCVJkiRJkvw/fPNq4lnR8z9lX51UGcP6P+J6FK5H4QRAL4GsYbTfAEAaL90kBoH3P6VVTFrFpANAEJtKQ859CEDR38lqeWMCQAK+eTXxrAZAeuBGrRN6BEAwlvxiyS8EQFFrmnecovc/oxZi/vg2BkCBb15NPCsGQMKCko5PX/s/eGWBVxZ4A0C0opGAb94DQML1KFyP0gVAPgjfg/A9BkA0mgBnzTMGQKrx0k1iEABAJ11q0qUm/T+LeVF3DBwHQN/XhKDsfQdACtejcD3KAkC4HoXrUfgCQEt+seQXS/o/hetRuB6F9D8Byh2g3AEBQOyava7Z6wBAbnaK9yyl/T9iEFg5tMgBQGt5YwQT/QNAzopGAr55/T/Xo3A9CtcIQDVom84BNQBAdNpApw20AUCTXyz5xbIAQMIWbMEWbPI/7lS7IYjuBECF61G4HoX7P5xIxolknAZAOm2g0wY6/T8nk1Rr15j7P2Q8xmM8xgNAg8DKoUW2/j+1b1j7hrUBQF0CWcNovwFAblmrY4IHB0AXlr1oTtwDQMFDn6OX+AVA",
          "dtype": "f8"
         },
         "yaxis": "y"
        }
       ],
       "layout": {
        "legend": {
         "tracegroupgap": 0
        },
        "margin": {
         "t": 60
        },
        "template": {
         "data": {
          "bar": [
           {
            "error_x": {
             "color": "#2a3f5f"
            },
            "error_y": {
             "color": "#2a3f5f"
            },
            "marker": {
             "line": {
              "color": "#E5ECF6",
              "width": 0.5
             },
             "pattern": {
              "fillmode": "overlay",
              "size": 10,
              "solidity": 0.2
             }
            },
            "type": "bar"
           }
          ],
          "barpolar": [
           {
            "marker": {
             "line": {
              "color": "#E5ECF6",
              "width": 0.5
             },
             "pattern": {
              "fillmode": "overlay",
              "size": 10,
              "solidity": 0.2
             }
            },
            "type": "barpolar"
           }
          ],
          "carpet": [
           {
            "aaxis": {
             "endlinecolor": "#2a3f5f",
             "gridcolor": "white",
             "linecolor": "white",
             "minorgridcolor": "white",
             "startlinecolor": "#2a3f5f"
            },
            "baxis": {
             "endlinecolor": "#2a3f5f",
             "gridcolor": "white",
             "linecolor": "white",
             "minorgridcolor": "white",
             "startlinecolor": "#2a3f5f"
            },
            "type": "carpet"
           }
          ],
          "choropleth": [
           {
            "colorbar": {
             "outlinewidth": 0,
             "ticks": ""
            },
            "type": "choropleth"
           }
          ],
          "contour": [
           {
            "colorbar": {
             "outlinewidth": 0,
             "ticks": ""
            },
            "colorscale": [
             [
              0,
              "#0d0887"
             ],
             [
              0.1111111111111111,
              "#46039f"
             ],
             [
              0.2222222222222222,
              "#7201a8"
             ],
             [
              0.3333333333333333,
              "#9c179e"
             ],
             [
              0.4444444444444444,
              "#bd3786"
             ],
             [
              0.5555555555555556,
              "#d8576b"
             ],
             [
              0.6666666666666666,
              "#ed7953"
             ],
             [
              0.7777777777777778,
              "#fb9f3a"
             ],
             [
              0.8888888888888888,
              "#fdca26"
             ],
             [
              1,
              "#f0f921"
             ]
            ],
            "type": "contour"
           }
          ],
          "contourcarpet": [
           {
            "colorbar": {
             "outlinewidth": 0,
             "ticks": ""
            },
            "type": "contourcarpet"
           }
          ],
          "heatmap": [
           {
            "colorbar": {
             "outlinewidth": 0,
             "ticks": ""
            },
            "colorscale": [
             [
              0,
              "#0d0887"
             ],
             [
              0.1111111111111111,
              "#46039f"
             ],
             [
              0.2222222222222222,
              "#7201a8"
             ],
             [
              0.3333333333333333,
              "#9c179e"
             ],
             [
              0.4444444444444444,
              "#bd3786"
             ],
             [
              0.5555555555555556,
              "#d8576b"
             ],
             [
              0.6666666666666666,
              "#ed7953"
             ],
             [
              0.7777777777777778,
              "#fb9f3a"
             ],
             [
              0.8888888888888888,
              "#fdca26"
             ],
             [
              1,
              "#f0f921"
             ]
            ],
            "type": "heatmap"
           }
          ],
          "histogram": [
           {
            "marker": {
             "pattern": {
              "fillmode": "overlay",
              "size": 10,
              "solidity": 0.2
             }
            },
            "type": "histogram"
           }
          ],
          "histogram2d": [
           {
            "colorbar": {
             "outlinewidth": 0,
             "ticks": ""
            },
            "colorscale": [
             [
              0,
              "#0d0887"
             ],
             [
              0.1111111111111111,
              "#46039f"
             ],
             [
              0.2222222222222222,
              "#7201a8"
             ],
             [
              0.3333333333333333,
              "#9c179e"
             ],
             [
              0.4444444444444444,
              "#bd3786"
             ],
             [
              0.5555555555555556,
              "#d8576b"
             ],
             [
              0.6666666666666666,
              "#ed7953"
             ],
             [
              0.7777777777777778,
              "#fb9f3a"
             ],
             [
              0.8888888888888888,
              "#fdca26"
             ],
             [
              1,
              "#f0f921"
             ]
            ],
            "type": "histogram2d"
           }
          ],
          "histogram2dcontour": [
           {
            "colorbar": {
             "outlinewidth": 0,
             "ticks": ""
            },
            "colorscale": [
             [
              0,
              "#0d0887"
             ],
             [
              0.1111111111111111,
              "#46039f"
             ],
             [
              0.2222222222222222,
              "#7201a8"
             ],
             [
              0.3333333333333333,
              "#9c179e"
             ],
             [
              0.4444444444444444,
              "#bd3786"
             ],
             [
              0.5555555555555556,
              "#d8576b"
             ],
             [
              0.6666666666666666,
              "#ed7953"
             ],
             [
              0.7777777777777778,
              "#fb9f3a"
             ],
             [
              0.8888888888888888,
              "#fdca26"
             ],
             [
              1,
              "#f0f921"
             ]
            ],
            "type": "histogram2dcontour"
           }
          ],
          "mesh3d": [
           {
            "colorbar": {
             "outlinewidth": 0,
             "ticks": ""
            },
            "type": "mesh3d"
           }
          ],
          "parcoords": [
           {
            "line": {
             "colorbar": {
              "outlinewidth": 0,
              "ticks": ""
             }
            },
            "type": "parcoords"
           }
          ],
          "pie": [
           {
            "automargin": true,
            "type": "pie"
           }
          ],
          "scatter": [
           {
            "fillpattern": {
             "fillmode": "overlay",
             "size": 10,
             "solidity": 0.2
            },
            "type": "scatter"
           }
          ],
          "scatter3d": [
           {
            "line": {
             "colorbar": {
              "outlinewidth": 0,
              "ticks": ""
             }
            },
            "marker": {
             "colorbar": {
              "outlinewidth": 0,
              "ticks": ""
             }
            },
            "type": "scatter3d"
           }
          ],
          "scattercarpet": [
           {
            "marker": {
             "colorbar": {
              "outlinewidth": 0,
              "ticks": ""
             }
            },
            "type": "scattercarpet"
           }
          ],
          "scattergeo": [
           {
            "marker": {
             "colorbar": {
              "outlinewidth": 0,
              "ticks": ""
             }
            },
            "type": "scattergeo"
           }
          ],
          "scattergl": [
           {
            "marker": {
             "colorbar": {
              "outlinewidth": 0,
              "ticks": ""
             }
            },
            "type": "scattergl"
           }
          ],
          "scattermap": [
           {
            "marker": {
             "colorbar": {
              "outlinewidth": 0,
              "ticks": ""
             }
            },
            "type": "scattermap"
           }
          ],
          "scattermapbox": [
           {
            "marker": {
             "colorbar": {
              "outlinewidth": 0,
              "ticks": ""
             }
            },
            "type": "scattermapbox"
           }
          ],
          "scatterpolar": [
           {
            "marker": {
             "colorbar": {
              "outlinewidth": 0,
              "ticks": ""
             }
            },
            "type": "scatterpolar"
           }
          ],
          "scatterpolargl": [
           {
            "marker": {
             "colorbar": {
              "outlinewidth": 0,
              "ticks": ""
             }
            },
            "type": "scatterpolargl"
           }
          ],
          "scatterternary": [
           {
            "marker": {
             "colorbar": {
              "outlinewidth": 0,
              "ticks": ""
             }
            },
            "type": "scatterternary"
           }
          ],
          "surface": [
           {
            "colorbar": {
             "outlinewidth": 0,
             "ticks": ""
            },
            "colorscale": [
             [
              0,
              "#0d0887"
             ],
             [
              0.1111111111111111,
              "#46039f"
             ],
             [
              0.2222222222222222,
              "#7201a8"
             ],
             [
              0.3333333333333333,
              "#9c179e"
             ],
             [
              0.4444444444444444,
              "#bd3786"
             ],
             [
              0.5555555555555556,
              "#d8576b"
             ],
             [
              0.6666666666666666,
              "#ed7953"
             ],
             [
              0.7777777777777778,
              "#fb9f3a"
             ],
             [
              0.8888888888888888,
              "#fdca26"
             ],
             [
              1,
              "#f0f921"
             ]
            ],
            "type": "surface"
           }
          ],
          "table": [
           {
            "cells": {
             "fill": {
              "color": "#EBF0F8"
             },
             "line": {
              "color": "white"
             }
            },
            "header": {
             "fill": {
              "color": "#C8D4E3"
             },
             "line": {
              "color": "white"
             }
            },
            "type": "table"
           }
          ]
         },
         "layout": {
          "annotationdefaults": {
           "arrowcolor": "#2a3f5f",
           "arrowhead": 0,
           "arrowwidth": 1
          },
          "autotypenumbers": "strict",
          "coloraxis": {
           "colorbar": {
            "outlinewidth": 0,
            "ticks": ""
           }
          },
          "colorscale": {
           "diverging": [
            [
             0,
             "#8e0152"
            ],
            [
             0.1,
             "#c51b7d"
            ],
            [
             0.2,
             "#de77ae"
            ],
            [
             0.3,
             "#f1b6da"
            ],
            [
             0.4,
             "#fde0ef"
            ],
            [
             0.5,
             "#f7f7f7"
            ],
            [
             0.6,
             "#e6f5d0"
            ],
            [
             0.7,
             "#b8e186"
            ],
            [
             0.8,
             "#7fbc41"
            ],
            [
             0.9,
             "#4d9221"
            ],
            [
             1,
             "#276419"
            ]
           ],
           "sequential": [
            [
             0,
             "#0d0887"
            ],
            [
             0.1111111111111111,
             "#46039f"
            ],
            [
             0.2222222222222222,
             "#7201a8"
            ],
            [
             0.3333333333333333,
             "#9c179e"
            ],
            [
             0.4444444444444444,
             "#bd3786"
            ],
            [
             0.5555555555555556,
             "#d8576b"
            ],
            [
             0.6666666666666666,
             "#ed7953"
            ],
            [
             0.7777777777777778,
             "#fb9f3a"
            ],
            [
             0.8888888888888888,
             "#fdca26"
            ],
            [
             1,
             "#f0f921"
            ]
           ],
           "sequentialminus": [
            [
             0,
             "#0d0887"
            ],
            [
             0.1111111111111111,
             "#46039f"
            ],
            [
             0.2222222222222222,
             "#7201a8"
            ],
            [
             0.3333333333333333,
             "#9c179e"
            ],
            [
             0.4444444444444444,
             "#bd3786"
            ],
            [
             0.5555555555555556,
             "#d8576b"
            ],
            [
             0.6666666666666666,
             "#ed7953"
            ],
            [
             0.7777777777777778,
             "#fb9f3a"
            ],
            [
             0.8888888888888888,
             "#fdca26"
            ],
            [
             1,
             "#f0f921"
            ]
           ]
          },
          "colorway": [
           "#636efa",
           "#EF553B",
           "#00cc96",
           "#ab63fa",
           "#FFA15A",
           "#19d3f3",
           "#FF6692",
           "#B6E880",
           "#FF97FF",
           "#FECB52"
          ],
          "font": {
           "color": "#2a3f5f"
          },
          "geo": {
           "bgcolor": "white",
           "lakecolor": "white",
           "landcolor": "#E5ECF6",
           "showlakes": true,
           "showland": true,
           "subunitcolor": "white"
          },
          "hoverlabel": {
           "align": "left"
          },
          "hovermode": "closest",
          "mapbox": {
           "style": "light"
          },
          "paper_bgcolor": "white",
          "plot_bgcolor": "#E5ECF6",
          "polar": {
           "angularaxis": {
            "gridcolor": "white",
            "linecolor": "white",
            "ticks": ""
           },
           "bgcolor": "#E5ECF6",
           "radialaxis": {
            "gridcolor": "white",
            "linecolor": "white",
            "ticks": ""
           }
          },
          "scene": {
           "xaxis": {
            "backgroundcolor": "#E5ECF6",
            "gridcolor": "white",
            "gridwidth": 2,
            "linecolor": "white",
            "showbackground": true,
            "ticks": "",
            "zerolinecolor": "white"
           },
           "yaxis": {
            "backgroundcolor": "#E5ECF6",
            "gridcolor": "white",
            "gridwidth": 2,
            "linecolor": "white",
            "showbackground": true,
            "ticks": "",
            "zerolinecolor": "white"
           },
           "zaxis": {
            "backgroundcolor": "#E5ECF6",
            "gridcolor": "white",
            "gridwidth": 2,
            "linecolor": "white",
            "showbackground": true,
            "ticks": "",
            "zerolinecolor": "white"
           }
          },
          "shapedefaults": {
           "line": {
            "color": "#2a3f5f"
           }
          },
          "ternary": {
           "aaxis": {
            "gridcolor": "white",
            "linecolor": "white",
            "ticks": ""
           },
           "baxis": {
            "gridcolor": "white",
            "linecolor": "white",
            "ticks": ""
           },
           "bgcolor": "#E5ECF6",
           "caxis": {
            "gridcolor": "white",
            "linecolor": "white",
            "ticks": ""
           }
          },
          "title": {
           "x": 0.05
          },
          "xaxis": {
           "automargin": true,
           "gridcolor": "white",
           "linecolor": "white",
           "ticks": "",
           "title": {
            "standoff": 15
           },
           "zerolinecolor": "white",
           "zerolinewidth": 2
          },
          "yaxis": {
           "automargin": true,
           "gridcolor": "white",
           "linecolor": "white",
           "ticks": "",
           "title": {
            "standoff": 15
           },
           "zerolinecolor": "white",
           "zerolinewidth": 2
          }
         }
        },
        "xaxis": {
         "anchor": "y",
         "domain": [
          0,
          1
         ],
         "title": {
          "text": "session_date"
         }
        },
        "yaxis": {
         "anchor": "x",
         "domain": [
          0,
          1
         ],
         "title": {
          "text": "duration_minutes"
         }
        }
       }
      },
      "image/png": "[encoded data removed]"
     },
     "metadata": {},
     "output_type": "display_data"
    }
   ],
   "source": [
    "# Calculate daily averages with cleaned dataset\n",
    "df_daily = df_clean.groupby('session_date')['duration_minutes'].mean().reset_index()\n",
    "fig = px.line(df_daily, x='session_date', y='duration_minutes')\n",
    "fig.show()"
   ]
  },
  {
   "cell_type": "markdown",
   "id": "b32d5454-6a41-4e88-b04f-edef77b39006",
   "metadata": {},
   "source": [
    "### Proposed Metric 2: Product Usage Cohort Retention (Based on conversations)\n",
    "\n",
    "* **Defintion:** Group all developers by their user created month. This initial created month will become month 0. Next, for each cohort, count of the number of conversations by month. For each cohort, the number of conversations in month 0 will become the baseline. Calculate % of baseline for every month going forward.\n",
    "* **Goal:**\n",
    "    * Measure developer retention with Tavus API products by counting the number of conversations per month and comparing to each developer's start month (month 0). At a high-level, the product usage retention rate measures if developers are generating more conversations through Tavus APIs compared to their month 0 over time. If they are, then this is a good sign and it means developers are finding value in the product. If the number of conversations fall below the number in Month 0, then it might indicate friction with the product or value prop issue.\n",
    "    * With this in place you can also measure the lifetime product usage and engagement per developer at the cohort level. You can measure if lifetime product engagement increases or decreases over time."
   ]
  },
  {
   "cell_type": "code",
   "execution_count": 126,
   "id": "498c758c-ee8b-4b6c-bedd-f5c7817a9bae",
   "metadata": {},
   "outputs": [
    {
     "data": {
      "text/html": [
       "<style type=\"text/css\">\n",
       "#T_a86fd_row0_col0, #T_a86fd_row0_col1, #T_a86fd_row0_col2, #T_a86fd_row0_col3, #T_a86fd_row0_col4, #T_a86fd_row0_col5, #T_a86fd_row0_col6, #T_a86fd_row0_col7, #T_a86fd_row0_col8, #T_a86fd_row0_col9, #T_a86fd_row0_col10, #T_a86fd_row0_col11, #T_a86fd_row0_col12, #T_a86fd_row0_col13, #T_a86fd_row1_col0, #T_a86fd_row1_col1, #T_a86fd_row1_col2, #T_a86fd_row1_col3, #T_a86fd_row1_col4, #T_a86fd_row1_col5, #T_a86fd_row1_col6, #T_a86fd_row1_col7, #T_a86fd_row1_col8, #T_a86fd_row1_col9, #T_a86fd_row1_col10, #T_a86fd_row1_col11, #T_a86fd_row1_col12, #T_a86fd_row1_col13, #T_a86fd_row2_col0, #T_a86fd_row2_col1, #T_a86fd_row2_col2, #T_a86fd_row2_col3, #T_a86fd_row2_col4, #T_a86fd_row2_col5, #T_a86fd_row2_col6, #T_a86fd_row2_col7, #T_a86fd_row2_col8, #T_a86fd_row2_col9, #T_a86fd_row2_col10, #T_a86fd_row2_col11, #T_a86fd_row2_col12, #T_a86fd_row2_col13, #T_a86fd_row3_col0, #T_a86fd_row3_col1, #T_a86fd_row3_col2, #T_a86fd_row3_col3, #T_a86fd_row3_col4, #T_a86fd_row3_col5, #T_a86fd_row3_col6, #T_a86fd_row3_col7, #T_a86fd_row3_col8, #T_a86fd_row3_col9, #T_a86fd_row3_col10, #T_a86fd_row3_col11, #T_a86fd_row3_col12, #T_a86fd_row3_col13, #T_a86fd_row4_col0, #T_a86fd_row4_col1, #T_a86fd_row4_col2, #T_a86fd_row4_col3, #T_a86fd_row4_col4, #T_a86fd_row4_col5, #T_a86fd_row4_col6, #T_a86fd_row4_col7, #T_a86fd_row4_col8, #T_a86fd_row4_col9, #T_a86fd_row4_col10, #T_a86fd_row4_col11, #T_a86fd_row4_col12, #T_a86fd_row4_col13, #T_a86fd_row5_col0, #T_a86fd_row5_col1, #T_a86fd_row5_col2, #T_a86fd_row5_col3, #T_a86fd_row5_col4, #T_a86fd_row5_col5, #T_a86fd_row5_col6, #T_a86fd_row5_col7, #T_a86fd_row5_col8, #T_a86fd_row5_col9, #T_a86fd_row5_col10, #T_a86fd_row5_col11, #T_a86fd_row5_col12, #T_a86fd_row5_col13, #T_a86fd_row6_col0, #T_a86fd_row6_col1, #T_a86fd_row6_col2, #T_a86fd_row6_col3, #T_a86fd_row6_col4, #T_a86fd_row6_col5, #T_a86fd_row6_col6, #T_a86fd_row6_col7, #T_a86fd_row6_col8, #T_a86fd_row6_col9, #T_a86fd_row6_col10, #T_a86fd_row6_col11, #T_a86fd_row6_col12, #T_a86fd_row6_col13, #T_a86fd_row7_col0, #T_a86fd_row7_col1, #T_a86fd_row7_col2, #T_a86fd_row7_col3, #T_a86fd_row7_col4, #T_a86fd_row7_col5, #T_a86fd_row7_col6, #T_a86fd_row7_col7, #T_a86fd_row7_col8, #T_a86fd_row7_col9, #T_a86fd_row7_col10, #T_a86fd_row7_col11, #T_a86fd_row7_col12, #T_a86fd_row7_col13, #T_a86fd_row8_col0, #T_a86fd_row8_col1, #T_a86fd_row8_col2, #T_a86fd_row8_col3, #T_a86fd_row8_col4, #T_a86fd_row8_col5, #T_a86fd_row8_col6, #T_a86fd_row8_col7, #T_a86fd_row8_col8, #T_a86fd_row8_col9, #T_a86fd_row8_col10, #T_a86fd_row8_col11, #T_a86fd_row8_col12, #T_a86fd_row8_col13, #T_a86fd_row9_col0, #T_a86fd_row9_col1, #T_a86fd_row9_col2, #T_a86fd_row9_col3, #T_a86fd_row9_col4, #T_a86fd_row9_col5, #T_a86fd_row9_col6, #T_a86fd_row9_col7, #T_a86fd_row9_col8, #T_a86fd_row9_col9, #T_a86fd_row9_col10, #T_a86fd_row9_col11, #T_a86fd_row9_col12, #T_a86fd_row9_col13, #T_a86fd_row10_col0, #T_a86fd_row10_col1, #T_a86fd_row10_col2, #T_a86fd_row10_col3, #T_a86fd_row10_col4, #T_a86fd_row10_col5, #T_a86fd_row10_col6, #T_a86fd_row10_col7, #T_a86fd_row10_col8, #T_a86fd_row10_col9, #T_a86fd_row10_col10, #T_a86fd_row10_col11, #T_a86fd_row10_col12, #T_a86fd_row10_col13, #T_a86fd_row11_col0, #T_a86fd_row11_col1, #T_a86fd_row11_col2, #T_a86fd_row11_col3, #T_a86fd_row11_col4, #T_a86fd_row11_col5, #T_a86fd_row11_col6, #T_a86fd_row11_col7, #T_a86fd_row11_col8, #T_a86fd_row11_col9, #T_a86fd_row11_col10, #T_a86fd_row11_col11, #T_a86fd_row11_col12, #T_a86fd_row11_col13, #T_a86fd_row12_col0, #T_a86fd_row12_col1, #T_a86fd_row12_col2, #T_a86fd_row12_col3, #T_a86fd_row12_col4, #T_a86fd_row12_col5, #T_a86fd_row12_col6, #T_a86fd_row12_col7, #T_a86fd_row12_col8, #T_a86fd_row12_col9, #T_a86fd_row12_col10, #T_a86fd_row12_col11, #T_a86fd_row12_col12, #T_a86fd_row12_col13, #T_a86fd_row13_col0, #T_a86fd_row13_col1, #T_a86fd_row13_col2, #T_a86fd_row13_col3, #T_a86fd_row13_col4, #T_a86fd_row13_col5, #T_a86fd_row13_col6, #T_a86fd_row13_col7, #T_a86fd_row13_col8, #T_a86fd_row13_col9, #T_a86fd_row13_col10, #T_a86fd_row13_col11, #T_a86fd_row13_col12, #T_a86fd_row13_col13 {\n",
       "  font-size: 11px;\n",
       "}\n",
       "</style>\n",
       "<table id=\"T_a86fd\">\n",
       "  <thead>\n",
       "    <tr>\n",
       "      <th class=\"blank level0\" >&nbsp;</th>\n",
       "      <th id=\"T_a86fd_level0_col0\" class=\"col_heading level0 col0\" >Cohort Month</th>\n",
       "      <th id=\"T_a86fd_level0_col1\" class=\"col_heading level0 col1\" >Month 0</th>\n",
       "      <th id=\"T_a86fd_level0_col2\" class=\"col_heading level0 col2\" >Month 1</th>\n",
       "      <th id=\"T_a86fd_level0_col3\" class=\"col_heading level0 col3\" >Month 2</th>\n",
       "      <th id=\"T_a86fd_level0_col4\" class=\"col_heading level0 col4\" >Month 3</th>\n",
       "      <th id=\"T_a86fd_level0_col5\" class=\"col_heading level0 col5\" >Month 4</th>\n",
       "      <th id=\"T_a86fd_level0_col6\" class=\"col_heading level0 col6\" >Month 5</th>\n",
       "      <th id=\"T_a86fd_level0_col7\" class=\"col_heading level0 col7\" >Month 6</th>\n",
       "      <th id=\"T_a86fd_level0_col8\" class=\"col_heading level0 col8\" >Month 7</th>\n",
       "      <th id=\"T_a86fd_level0_col9\" class=\"col_heading level0 col9\" >Month 8</th>\n",
       "      <th id=\"T_a86fd_level0_col10\" class=\"col_heading level0 col10\" >Month 9</th>\n",
       "      <th id=\"T_a86fd_level0_col11\" class=\"col_heading level0 col11\" >Month 10</th>\n",
       "      <th id=\"T_a86fd_level0_col12\" class=\"col_heading level0 col12\" >Month 11</th>\n",
       "      <th id=\"T_a86fd_level0_col13\" class=\"col_heading level0 col13\" >Month 12</th>\n",
       "    </tr>\n",
       "  </thead>\n",
       "  <tbody>\n",
       "    <tr>\n",
       "      <th id=\"T_a86fd_level0_row0\" class=\"row_heading level0 row0\" >0</th>\n",
       "      <td id=\"T_a86fd_row0_col0\" class=\"data row0 col0\" >2024-08-01</td>\n",
       "      <td id=\"T_a86fd_row0_col1\" class=\"data row0 col1\" >0.0%</td>\n",
       "      <td id=\"T_a86fd_row0_col2\" class=\"data row0 col2\" >0.0%</td>\n",
       "      <td id=\"T_a86fd_row0_col3\" class=\"data row0 col3\" >0.0%</td>\n",
       "      <td id=\"T_a86fd_row0_col4\" class=\"data row0 col4\" >0.0%</td>\n",
       "      <td id=\"T_a86fd_row0_col5\" class=\"data row0 col5\" >0.0%</td>\n",
       "      <td id=\"T_a86fd_row0_col6\" class=\"data row0 col6\" >102973.0%</td>\n",
       "      <td id=\"T_a86fd_row0_col7\" class=\"data row0 col7\" >7102.0%</td>\n",
       "      <td id=\"T_a86fd_row0_col8\" class=\"data row0 col8\" >44172.0%</td>\n",
       "      <td id=\"T_a86fd_row0_col9\" class=\"data row0 col9\" >10581.0%</td>\n",
       "      <td id=\"T_a86fd_row0_col10\" class=\"data row0 col10\" >13809.0%</td>\n",
       "      <td id=\"T_a86fd_row0_col11\" class=\"data row0 col11\" >8226.0%</td>\n",
       "      <td id=\"T_a86fd_row0_col12\" class=\"data row0 col12\" >10797.0%</td>\n",
       "      <td id=\"T_a86fd_row0_col13\" class=\"data row0 col13\" >2800.0%</td>\n",
       "    </tr>\n",
       "    <tr>\n",
       "      <th id=\"T_a86fd_level0_row1\" class=\"row_heading level0 row1\" >1</th>\n",
       "      <td id=\"T_a86fd_row1_col0\" class=\"data row1 col0\" >2024-09-01</td>\n",
       "      <td id=\"T_a86fd_row1_col1\" class=\"data row1 col1\" >0.0%</td>\n",
       "      <td id=\"T_a86fd_row1_col2\" class=\"data row1 col2\" >0.0%</td>\n",
       "      <td id=\"T_a86fd_row1_col3\" class=\"data row1 col3\" >0.0%</td>\n",
       "      <td id=\"T_a86fd_row1_col4\" class=\"data row1 col4\" >0.0%</td>\n",
       "      <td id=\"T_a86fd_row1_col5\" class=\"data row1 col5\" >722.0%</td>\n",
       "      <td id=\"T_a86fd_row1_col6\" class=\"data row1 col6\" >1327.0%</td>\n",
       "      <td id=\"T_a86fd_row1_col7\" class=\"data row1 col7\" >4386.0%</td>\n",
       "      <td id=\"T_a86fd_row1_col8\" class=\"data row1 col8\" >373.0%</td>\n",
       "      <td id=\"T_a86fd_row1_col9\" class=\"data row1 col9\" >5347.0%</td>\n",
       "      <td id=\"T_a86fd_row1_col10\" class=\"data row1 col10\" >5076.0%</td>\n",
       "      <td id=\"T_a86fd_row1_col11\" class=\"data row1 col11\" >1088.0%</td>\n",
       "      <td id=\"T_a86fd_row1_col12\" class=\"data row1 col12\" >1232.0%</td>\n",
       "      <td id=\"T_a86fd_row1_col13\" class=\"data row1 col13\" >18.0%</td>\n",
       "    </tr>\n",
       "    <tr>\n",
       "      <th id=\"T_a86fd_level0_row2\" class=\"row_heading level0 row2\" >2</th>\n",
       "      <td id=\"T_a86fd_row2_col0\" class=\"data row2 col0\" >2024-10-01</td>\n",
       "      <td id=\"T_a86fd_row2_col1\" class=\"data row2 col1\" >0.0%</td>\n",
       "      <td id=\"T_a86fd_row2_col2\" class=\"data row2 col2\" >0.0%</td>\n",
       "      <td id=\"T_a86fd_row2_col3\" class=\"data row2 col3\" >0.0%</td>\n",
       "      <td id=\"T_a86fd_row2_col4\" class=\"data row2 col4\" >515.0%</td>\n",
       "      <td id=\"T_a86fd_row2_col5\" class=\"data row2 col5\" >15681.0%</td>\n",
       "      <td id=\"T_a86fd_row2_col6\" class=\"data row2 col6\" >13685.0%</td>\n",
       "      <td id=\"T_a86fd_row2_col7\" class=\"data row2 col7\" >430.0%</td>\n",
       "      <td id=\"T_a86fd_row2_col8\" class=\"data row2 col8\" >1813.0%</td>\n",
       "      <td id=\"T_a86fd_row2_col9\" class=\"data row2 col9\" >4113.0%</td>\n",
       "      <td id=\"T_a86fd_row2_col10\" class=\"data row2 col10\" >400.0%</td>\n",
       "      <td id=\"T_a86fd_row2_col11\" class=\"data row2 col11\" >1620.0%</td>\n",
       "      <td id=\"T_a86fd_row2_col12\" class=\"data row2 col12\" >875.0%</td>\n",
       "      <td id=\"T_a86fd_row2_col13\" class=\"data row2 col13\" >0.0%</td>\n",
       "    </tr>\n",
       "    <tr>\n",
       "      <th id=\"T_a86fd_level0_row3\" class=\"row_heading level0 row3\" >3</th>\n",
       "      <td id=\"T_a86fd_row3_col0\" class=\"data row3 col0\" >2024-11-01</td>\n",
       "      <td id=\"T_a86fd_row3_col1\" class=\"data row3 col1\" >0.0%</td>\n",
       "      <td id=\"T_a86fd_row3_col2\" class=\"data row3 col2\" >0.0%</td>\n",
       "      <td id=\"T_a86fd_row3_col3\" class=\"data row3 col3\" >13559.0%</td>\n",
       "      <td id=\"T_a86fd_row3_col4\" class=\"data row3 col4\" >1487.0%</td>\n",
       "      <td id=\"T_a86fd_row3_col5\" class=\"data row3 col5\" >382.0%</td>\n",
       "      <td id=\"T_a86fd_row3_col6\" class=\"data row3 col6\" >5378.0%</td>\n",
       "      <td id=\"T_a86fd_row3_col7\" class=\"data row3 col7\" >4650.0%</td>\n",
       "      <td id=\"T_a86fd_row3_col8\" class=\"data row3 col8\" >1603.0%</td>\n",
       "      <td id=\"T_a86fd_row3_col9\" class=\"data row3 col9\" >16427.0%</td>\n",
       "      <td id=\"T_a86fd_row3_col10\" class=\"data row3 col10\" >1758066.0%</td>\n",
       "      <td id=\"T_a86fd_row3_col11\" class=\"data row3 col11\" >1555.0%</td>\n",
       "      <td id=\"T_a86fd_row3_col12\" class=\"data row3 col12\" >0.0%</td>\n",
       "      <td id=\"T_a86fd_row3_col13\" class=\"data row3 col13\" >0.0%</td>\n",
       "    </tr>\n",
       "    <tr>\n",
       "      <th id=\"T_a86fd_level0_row4\" class=\"row_heading level0 row4\" >4</th>\n",
       "      <td id=\"T_a86fd_row4_col0\" class=\"data row4 col0\" >2024-12-01</td>\n",
       "      <td id=\"T_a86fd_row4_col1\" class=\"data row4 col1\" >0.0%</td>\n",
       "      <td id=\"T_a86fd_row4_col2\" class=\"data row4 col2\" >21541.0%</td>\n",
       "      <td id=\"T_a86fd_row4_col3\" class=\"data row4 col3\" >8739.0%</td>\n",
       "      <td id=\"T_a86fd_row4_col4\" class=\"data row4 col4\" >10138.0%</td>\n",
       "      <td id=\"T_a86fd_row4_col5\" class=\"data row4 col5\" >3338.0%</td>\n",
       "      <td id=\"T_a86fd_row4_col6\" class=\"data row4 col6\" >6499.0%</td>\n",
       "      <td id=\"T_a86fd_row4_col7\" class=\"data row4 col7\" >1218.0%</td>\n",
       "      <td id=\"T_a86fd_row4_col8\" class=\"data row4 col8\" >6189.0%</td>\n",
       "      <td id=\"T_a86fd_row4_col9\" class=\"data row4 col9\" >8008.0%</td>\n",
       "      <td id=\"T_a86fd_row4_col10\" class=\"data row4 col10\" >118.0%</td>\n",
       "      <td id=\"T_a86fd_row4_col11\" class=\"data row4 col11\" >0.0%</td>\n",
       "      <td id=\"T_a86fd_row4_col12\" class=\"data row4 col12\" >0.0%</td>\n",
       "      <td id=\"T_a86fd_row4_col13\" class=\"data row4 col13\" >0.0%</td>\n",
       "    </tr>\n",
       "    <tr>\n",
       "      <th id=\"T_a86fd_level0_row5\" class=\"row_heading level0 row5\" >5</th>\n",
       "      <td id=\"T_a86fd_row5_col0\" class=\"data row5 col0\" >2025-01-01</td>\n",
       "      <td id=\"T_a86fd_row5_col1\" class=\"data row5 col1\" >100.0%</td>\n",
       "      <td id=\"T_a86fd_row5_col2\" class=\"data row5 col2\" >5.0%</td>\n",
       "      <td id=\"T_a86fd_row5_col3\" class=\"data row5 col3\" >2.0%</td>\n",
       "      <td id=\"T_a86fd_row5_col4\" class=\"data row5 col4\" >4.0%</td>\n",
       "      <td id=\"T_a86fd_row5_col5\" class=\"data row5 col5\" >63.0%</td>\n",
       "      <td id=\"T_a86fd_row5_col6\" class=\"data row5 col6\" >4.0%</td>\n",
       "      <td id=\"T_a86fd_row5_col7\" class=\"data row5 col7\" >5.0%</td>\n",
       "      <td id=\"T_a86fd_row5_col8\" class=\"data row5 col8\" >4.0%</td>\n",
       "      <td id=\"T_a86fd_row5_col9\" class=\"data row5 col9\" >0.0%</td>\n",
       "      <td id=\"T_a86fd_row5_col10\" class=\"data row5 col10\" >0.0%</td>\n",
       "      <td id=\"T_a86fd_row5_col11\" class=\"data row5 col11\" >0.0%</td>\n",
       "      <td id=\"T_a86fd_row5_col12\" class=\"data row5 col12\" >0.0%</td>\n",
       "      <td id=\"T_a86fd_row5_col13\" class=\"data row5 col13\" >0.0%</td>\n",
       "    </tr>\n",
       "    <tr>\n",
       "      <th id=\"T_a86fd_level0_row6\" class=\"row_heading level0 row6\" >6</th>\n",
       "      <td id=\"T_a86fd_row6_col0\" class=\"data row6 col0\" >2025-02-01</td>\n",
       "      <td id=\"T_a86fd_row6_col1\" class=\"data row6 col1\" >100.0%</td>\n",
       "      <td id=\"T_a86fd_row6_col2\" class=\"data row6 col2\" >15.0%</td>\n",
       "      <td id=\"T_a86fd_row6_col3\" class=\"data row6 col3\" >18.0%</td>\n",
       "      <td id=\"T_a86fd_row6_col4\" class=\"data row6 col4\" >7.0%</td>\n",
       "      <td id=\"T_a86fd_row6_col5\" class=\"data row6 col5\" >19.0%</td>\n",
       "      <td id=\"T_a86fd_row6_col6\" class=\"data row6 col6\" >14.0%</td>\n",
       "      <td id=\"T_a86fd_row6_col7\" class=\"data row6 col7\" >26.0%</td>\n",
       "      <td id=\"T_a86fd_row6_col8\" class=\"data row6 col8\" >1.0%</td>\n",
       "      <td id=\"T_a86fd_row6_col9\" class=\"data row6 col9\" >0.0%</td>\n",
       "      <td id=\"T_a86fd_row6_col10\" class=\"data row6 col10\" >0.0%</td>\n",
       "      <td id=\"T_a86fd_row6_col11\" class=\"data row6 col11\" >0.0%</td>\n",
       "      <td id=\"T_a86fd_row6_col12\" class=\"data row6 col12\" >0.0%</td>\n",
       "      <td id=\"T_a86fd_row6_col13\" class=\"data row6 col13\" >0.0%</td>\n",
       "    </tr>\n",
       "    <tr>\n",
       "      <th id=\"T_a86fd_level0_row7\" class=\"row_heading level0 row7\" >7</th>\n",
       "      <td id=\"T_a86fd_row7_col0\" class=\"data row7 col0\" >2025-03-01</td>\n",
       "      <td id=\"T_a86fd_row7_col1\" class=\"data row7 col1\" >100.0%</td>\n",
       "      <td id=\"T_a86fd_row7_col2\" class=\"data row7 col2\" >11.0%</td>\n",
       "      <td id=\"T_a86fd_row7_col3\" class=\"data row7 col3\" >76.0%</td>\n",
       "      <td id=\"T_a86fd_row7_col4\" class=\"data row7 col4\" >0.0%</td>\n",
       "      <td id=\"T_a86fd_row7_col5\" class=\"data row7 col5\" >0.0%</td>\n",
       "      <td id=\"T_a86fd_row7_col6\" class=\"data row7 col6\" >0.0%</td>\n",
       "      <td id=\"T_a86fd_row7_col7\" class=\"data row7 col7\" >0.0%</td>\n",
       "      <td id=\"T_a86fd_row7_col8\" class=\"data row7 col8\" >0.0%</td>\n",
       "      <td id=\"T_a86fd_row7_col9\" class=\"data row7 col9\" >0.0%</td>\n",
       "      <td id=\"T_a86fd_row7_col10\" class=\"data row7 col10\" >0.0%</td>\n",
       "      <td id=\"T_a86fd_row7_col11\" class=\"data row7 col11\" >0.0%</td>\n",
       "      <td id=\"T_a86fd_row7_col12\" class=\"data row7 col12\" >0.0%</td>\n",
       "      <td id=\"T_a86fd_row7_col13\" class=\"data row7 col13\" >0.0%</td>\n",
       "    </tr>\n",
       "    <tr>\n",
       "      <th id=\"T_a86fd_level0_row8\" class=\"row_heading level0 row8\" >8</th>\n",
       "      <td id=\"T_a86fd_row8_col0\" class=\"data row8 col0\" >2025-04-01</td>\n",
       "      <td id=\"T_a86fd_row8_col1\" class=\"data row8 col1\" >100.0%</td>\n",
       "      <td id=\"T_a86fd_row8_col2\" class=\"data row8 col2\" >51.0%</td>\n",
       "      <td id=\"T_a86fd_row8_col3\" class=\"data row8 col3\" >0.0%</td>\n",
       "      <td id=\"T_a86fd_row8_col4\" class=\"data row8 col4\" >1.0%</td>\n",
       "      <td id=\"T_a86fd_row8_col5\" class=\"data row8 col5\" >0.0%</td>\n",
       "      <td id=\"T_a86fd_row8_col6\" class=\"data row8 col6\" >0.0%</td>\n",
       "      <td id=\"T_a86fd_row8_col7\" class=\"data row8 col7\" >0.0%</td>\n",
       "      <td id=\"T_a86fd_row8_col8\" class=\"data row8 col8\" >0.0%</td>\n",
       "      <td id=\"T_a86fd_row8_col9\" class=\"data row8 col9\" >0.0%</td>\n",
       "      <td id=\"T_a86fd_row8_col10\" class=\"data row8 col10\" >0.0%</td>\n",
       "      <td id=\"T_a86fd_row8_col11\" class=\"data row8 col11\" >0.0%</td>\n",
       "      <td id=\"T_a86fd_row8_col12\" class=\"data row8 col12\" >0.0%</td>\n",
       "      <td id=\"T_a86fd_row8_col13\" class=\"data row8 col13\" >0.0%</td>\n",
       "    </tr>\n",
       "    <tr>\n",
       "      <th id=\"T_a86fd_level0_row9\" class=\"row_heading level0 row9\" >9</th>\n",
       "      <td id=\"T_a86fd_row9_col0\" class=\"data row9 col0\" >2025-05-01</td>\n",
       "      <td id=\"T_a86fd_row9_col1\" class=\"data row9 col1\" >100.0%</td>\n",
       "      <td id=\"T_a86fd_row9_col2\" class=\"data row9 col2\" >0.0%</td>\n",
       "      <td id=\"T_a86fd_row9_col3\" class=\"data row9 col3\" >0.0%</td>\n",
       "      <td id=\"T_a86fd_row9_col4\" class=\"data row9 col4\" >0.0%</td>\n",
       "      <td id=\"T_a86fd_row9_col5\" class=\"data row9 col5\" >0.0%</td>\n",
       "      <td id=\"T_a86fd_row9_col6\" class=\"data row9 col6\" >0.0%</td>\n",
       "      <td id=\"T_a86fd_row9_col7\" class=\"data row9 col7\" >0.0%</td>\n",
       "      <td id=\"T_a86fd_row9_col8\" class=\"data row9 col8\" >0.0%</td>\n",
       "      <td id=\"T_a86fd_row9_col9\" class=\"data row9 col9\" >0.0%</td>\n",
       "      <td id=\"T_a86fd_row9_col10\" class=\"data row9 col10\" >0.0%</td>\n",
       "      <td id=\"T_a86fd_row9_col11\" class=\"data row9 col11\" >0.0%</td>\n",
       "      <td id=\"T_a86fd_row9_col12\" class=\"data row9 col12\" >0.0%</td>\n",
       "      <td id=\"T_a86fd_row9_col13\" class=\"data row9 col13\" >0.0%</td>\n",
       "    </tr>\n",
       "    <tr>\n",
       "      <th id=\"T_a86fd_level0_row10\" class=\"row_heading level0 row10\" >10</th>\n",
       "      <td id=\"T_a86fd_row10_col0\" class=\"data row10 col0\" >2025-06-01</td>\n",
       "      <td id=\"T_a86fd_row10_col1\" class=\"data row10 col1\" >100.0%</td>\n",
       "      <td id=\"T_a86fd_row10_col2\" class=\"data row10 col2\" >63.0%</td>\n",
       "      <td id=\"T_a86fd_row10_col3\" class=\"data row10 col3\" >1.0%</td>\n",
       "      <td id=\"T_a86fd_row10_col4\" class=\"data row10 col4\" >0.0%</td>\n",
       "      <td id=\"T_a86fd_row10_col5\" class=\"data row10 col5\" >0.0%</td>\n",
       "      <td id=\"T_a86fd_row10_col6\" class=\"data row10 col6\" >0.0%</td>\n",
       "      <td id=\"T_a86fd_row10_col7\" class=\"data row10 col7\" >0.0%</td>\n",
       "      <td id=\"T_a86fd_row10_col8\" class=\"data row10 col8\" >0.0%</td>\n",
       "      <td id=\"T_a86fd_row10_col9\" class=\"data row10 col9\" >0.0%</td>\n",
       "      <td id=\"T_a86fd_row10_col10\" class=\"data row10 col10\" >0.0%</td>\n",
       "      <td id=\"T_a86fd_row10_col11\" class=\"data row10 col11\" >0.0%</td>\n",
       "      <td id=\"T_a86fd_row10_col12\" class=\"data row10 col12\" >0.0%</td>\n",
       "      <td id=\"T_a86fd_row10_col13\" class=\"data row10 col13\" >0.0%</td>\n",
       "    </tr>\n",
       "    <tr>\n",
       "      <th id=\"T_a86fd_level0_row11\" class=\"row_heading level0 row11\" >11</th>\n",
       "      <td id=\"T_a86fd_row11_col0\" class=\"data row11 col0\" >2025-07-01</td>\n",
       "      <td id=\"T_a86fd_row11_col1\" class=\"data row11 col1\" >100.0%</td>\n",
       "      <td id=\"T_a86fd_row11_col2\" class=\"data row11 col2\" >2.0%</td>\n",
       "      <td id=\"T_a86fd_row11_col3\" class=\"data row11 col3\" >0.0%</td>\n",
       "      <td id=\"T_a86fd_row11_col4\" class=\"data row11 col4\" >0.0%</td>\n",
       "      <td id=\"T_a86fd_row11_col5\" class=\"data row11 col5\" >0.0%</td>\n",
       "      <td id=\"T_a86fd_row11_col6\" class=\"data row11 col6\" >0.0%</td>\n",
       "      <td id=\"T_a86fd_row11_col7\" class=\"data row11 col7\" >0.0%</td>\n",
       "      <td id=\"T_a86fd_row11_col8\" class=\"data row11 col8\" >0.0%</td>\n",
       "      <td id=\"T_a86fd_row11_col9\" class=\"data row11 col9\" >0.0%</td>\n",
       "      <td id=\"T_a86fd_row11_col10\" class=\"data row11 col10\" >0.0%</td>\n",
       "      <td id=\"T_a86fd_row11_col11\" class=\"data row11 col11\" >0.0%</td>\n",
       "      <td id=\"T_a86fd_row11_col12\" class=\"data row11 col12\" >0.0%</td>\n",
       "      <td id=\"T_a86fd_row11_col13\" class=\"data row11 col13\" >0.0%</td>\n",
       "    </tr>\n",
       "    <tr>\n",
       "      <th id=\"T_a86fd_level0_row12\" class=\"row_heading level0 row12\" >12</th>\n",
       "      <td id=\"T_a86fd_row12_col0\" class=\"data row12 col0\" >2025-08-01</td>\n",
       "      <td id=\"T_a86fd_row12_col1\" class=\"data row12 col1\" >100.0%</td>\n",
       "      <td id=\"T_a86fd_row12_col2\" class=\"data row12 col2\" >27.0%</td>\n",
       "      <td id=\"T_a86fd_row12_col3\" class=\"data row12 col3\" >0.0%</td>\n",
       "      <td id=\"T_a86fd_row12_col4\" class=\"data row12 col4\" >0.0%</td>\n",
       "      <td id=\"T_a86fd_row12_col5\" class=\"data row12 col5\" >0.0%</td>\n",
       "      <td id=\"T_a86fd_row12_col6\" class=\"data row12 col6\" >0.0%</td>\n",
       "      <td id=\"T_a86fd_row12_col7\" class=\"data row12 col7\" >0.0%</td>\n",
       "      <td id=\"T_a86fd_row12_col8\" class=\"data row12 col8\" >0.0%</td>\n",
       "      <td id=\"T_a86fd_row12_col9\" class=\"data row12 col9\" >0.0%</td>\n",
       "      <td id=\"T_a86fd_row12_col10\" class=\"data row12 col10\" >0.0%</td>\n",
       "      <td id=\"T_a86fd_row12_col11\" class=\"data row12 col11\" >0.0%</td>\n",
       "      <td id=\"T_a86fd_row12_col12\" class=\"data row12 col12\" >0.0%</td>\n",
       "      <td id=\"T_a86fd_row12_col13\" class=\"data row12 col13\" >0.0%</td>\n",
       "    </tr>\n",
       "    <tr>\n",
       "      <th id=\"T_a86fd_level0_row13\" class=\"row_heading level0 row13\" >13</th>\n",
       "      <td id=\"T_a86fd_row13_col0\" class=\"data row13 col0\" >2025-09-01</td>\n",
       "      <td id=\"T_a86fd_row13_col1\" class=\"data row13 col1\" >100.0%</td>\n",
       "      <td id=\"T_a86fd_row13_col2\" class=\"data row13 col2\" >0.0%</td>\n",
       "      <td id=\"T_a86fd_row13_col3\" class=\"data row13 col3\" >0.0%</td>\n",
       "      <td id=\"T_a86fd_row13_col4\" class=\"data row13 col4\" >0.0%</td>\n",
       "      <td id=\"T_a86fd_row13_col5\" class=\"data row13 col5\" >0.0%</td>\n",
       "      <td id=\"T_a86fd_row13_col6\" class=\"data row13 col6\" >0.0%</td>\n",
       "      <td id=\"T_a86fd_row13_col7\" class=\"data row13 col7\" >0.0%</td>\n",
       "      <td id=\"T_a86fd_row13_col8\" class=\"data row13 col8\" >0.0%</td>\n",
       "      <td id=\"T_a86fd_row13_col9\" class=\"data row13 col9\" >0.0%</td>\n",
       "      <td id=\"T_a86fd_row13_col10\" class=\"data row13 col10\" >0.0%</td>\n",
       "      <td id=\"T_a86fd_row13_col11\" class=\"data row13 col11\" >0.0%</td>\n",
       "      <td id=\"T_a86fd_row13_col12\" class=\"data row13 col12\" >0.0%</td>\n",
       "      <td id=\"T_a86fd_row13_col13\" class=\"data row13 col13\" >0.0%</td>\n",
       "    </tr>\n",
       "  </tbody>\n",
       "</table>\n"
      ],
      "text/plain": [
       "<pandas.io.formats.style.Styler at 0x1208636d0>"
      ]
     },
     "execution_count": 126,
     "metadata": {},
     "output_type": "execute_result"
    }
   ],
   "source": [
    "# Product Usage Cohort Retention Analysis \n",
    "sql_query_5 = \"\"\"\n",
    "WITH month_series AS \n",
    "(\n",
    "  SELECT \n",
    "\tTO_CHAR(t1.cohort_date, 'YYYY-MM-01')::date AS cohort_month\n",
    "  FROM\n",
    "  (\n",
    "\t  SELECT \n",
    "\t\tdate_trunc('month', generate_series(\n",
    "\t\t  (SELECT MIN(created_at) FROM users),\n",
    "\t\t  (SELECT MAX(created_at) FROM users),\n",
    "\t\t  interval '1 month'\n",
    "\t\t)) AS cohort_date\n",
    "  ) t1\n",
    "),\n",
    "stg_users AS\n",
    "(\n",
    "\tSELECT\n",
    "\t\tTO_CHAR(created_at, 'YYYY-MM-01')::date AS cohort_month_0,\n",
    "\t\tid AS user_id,\n",
    "\t\tcreated_at AS user_created_at,\n",
    "\t\temail\n",
    "\tFROM users\n",
    "\tWHERE role = 'developer'\n",
    "),\n",
    "stg_conversations AS\n",
    "(\n",
    "\tSELECT\n",
    "\t\towner_id AS user_id,\n",
    "\t\tuuid AS session_id,\n",
    "\t\tcreated_at AS session_created_at,\t\n",
    "\t\tTO_CHAR(created_at, 'YYYY-MM-01')::date AS session_month,\n",
    "\t\tROUND(EXTRACT(EPOCH FROM (updated_at - created_at)) / 60, 2) AS duration_minutes\n",
    "\tFROM conversation\n",
    "\tWHERE replica_uuid IS NOT NULL\n",
    "),\n",
    "stg_cohorts AS\n",
    "(\n",
    "\tSELECT\n",
    "\t\tt1.user_id,\n",
    "\t\tt1.cohort_month_0,\n",
    "\t\tt2.session_month,\n",
    "\t\tCOUNT(distinct t2.session_id) AS session_cnt\n",
    "\tFROM stg_users t1\n",
    "\t     LEFT JOIN stg_conversations t2\n",
    "\t\t\tON t1.user_id = t2.user_id\n",
    "\tGROUP BY 1,2,3\n",
    "),\n",
    "base_cohort_months AS\n",
    "(\n",
    "\tSELECT\n",
    "\t\tt1.user_id,\n",
    "\t\tt1.cohort_month_0,\n",
    "\t\tt2.cohort_month,\n",
    "\t\tROW_NUMBER() OVER (PARTITION BY t1.user_id ORDER BY t2.cohort_month) AS cohort_period \n",
    "\tFROM stg_users t1\n",
    "\t     JOIN month_series t2\n",
    "\t\t\tON t1.cohort_month_0 <= t2.cohort_month\n",
    "),\n",
    "stg_user_cohort_retention AS\n",
    "(\n",
    "\tSELECT\n",
    "\t\tt1.user_id,\n",
    "\t\tt1.cohort_month_0,\n",
    "\t\tt1.cohort_month,\n",
    "\t\tt1.cohort_period - 1 AS cohort_period,\n",
    "\t\tCOALESCE(t2.session_cnt, 0) AS session_cnt\n",
    "\tFROM base_cohort_months t1\n",
    "\t     LEFT JOIN stg_cohorts t2\n",
    "\t\t\tON t1.user_id = t2.user_id\n",
    "\t\t\tAND t1.cohort_month = t2.session_month\n",
    "),\n",
    "cohort_matrix AS\n",
    "(\n",
    "\tSELECT\n",
    "\t\tcohort_month_0,\n",
    "\t\tSUM(CASE WHEN cohort_period = 0 THEN session_cnt ELSE 0 END) AS month_0,\n",
    "\t\tSUM(CASE WHEN cohort_period = 1 THEN session_cnt ELSE 0 END) AS month_1,\n",
    "\t\tSUM(CASE WHEN cohort_period = 2 THEN session_cnt ELSE 0 END) AS month_2,\n",
    "\t\tSUM(CASE WHEN cohort_period = 3 THEN session_cnt ELSE 0 END) AS month_3,\n",
    "\t\tSUM(CASE WHEN cohort_period = 4 THEN session_cnt ELSE 0 END) AS month_4,\n",
    "\t\tSUM(CASE WHEN cohort_period = 5 THEN session_cnt ELSE 0 END) AS month_5,\n",
    "\t\tSUM(CASE WHEN cohort_period = 6 THEN session_cnt ELSE 0 END) AS month_6,\n",
    "\t\tSUM(CASE WHEN cohort_period = 7 THEN session_cnt ELSE 0 END) AS month_7,\n",
    "\t\tSUM(CASE WHEN cohort_period = 8 THEN session_cnt ELSE 0 END) AS month_8,\n",
    "\t\tSUM(CASE WHEN cohort_period = 9 THEN session_cnt ELSE 0 END) AS month_9,\n",
    "\t\tSUM(CASE WHEN cohort_period = 10 THEN session_cnt ELSE 0 END) AS month_10,\n",
    "\t\tSUM(CASE WHEN cohort_period = 11 THEN session_cnt ELSE 0 END) AS month_11,\n",
    "\t\tSUM(CASE WHEN cohort_period = 12 THEN session_cnt ELSE 0 END) AS month_12\n",
    "\tFROM stg_user_cohort_retention\n",
    "\tWHERE cohort_month_0 >= '2024-08-01'\n",
    "\tGROUP BY 1\n",
    ")\n",
    "SELECT\n",
    "\tcohort_month_0 AS \"Cohort Month\",\n",
    "\tROUND(100.0 * month_0 / CASE WHEN month_0 = 0 THEN 1 ELSE month_0 END, 0) AS \"Month 0\",\n",
    "\tROUND(100.0 * month_1 / CASE WHEN month_0 = 0 THEN 1 ELSE month_0 END, 0) AS \"Month 1\",\n",
    "\tROUND(100.0 * month_2 / CASE WHEN month_0 = 0 THEN 1 ELSE month_0 END, 0) AS \"Month 2\",\n",
    "\tROUND(100.0 * month_3 / CASE WHEN month_0 = 0 THEN 1 ELSE month_0 END, 0) AS \"Month 3\",\n",
    "\tROUND(100.0 * month_4 / CASE WHEN month_0 = 0 THEN 1 ELSE month_0 END, 0) AS \"Month 4\",\n",
    "\tROUND(100.0 * month_5 / CASE WHEN month_0 = 0 THEN 1 ELSE month_0 END, 0) AS \"Month 5\",\n",
    "\tROUND(100.0 * month_6 / CASE WHEN month_0 = 0 THEN 1 ELSE month_0 END, 0) AS \"Month 6\",\n",
    "\tROUND(100.0 * month_7 / CASE WHEN month_0 = 0 THEN 1 ELSE month_0 END, 0) AS \"Month 7\",\n",
    "\tROUND(100.0 * month_8 / CASE WHEN month_0 = 0 THEN 1 ELSE month_0 END, 0) AS \"Month 8\",\n",
    "\tROUND(100.0 * month_9 / CASE WHEN month_0 = 0 THEN 1 ELSE month_0 END, 0) AS \"Month 9\",\n",
    "\tROUND(100.0 * month_10 / CASE WHEN month_0 = 0 THEN 1 ELSE month_0 END, 0) AS \"Month 10\",\n",
    "\tROUND(100.0 * month_11 / CASE WHEN month_0 = 0 THEN 1 ELSE month_0 END, 0) AS \"Month 11\",\n",
    "\tROUND(100.0 * month_12 / CASE WHEN month_0 = 0 THEN 1 ELSE month_0 END, 0) AS \"Month 12\"\n",
    "FROM cohort_matrix\n",
    "ORDER BY 1;\n",
    "\"\"\"\n",
    "\n",
    "# Load data\n",
    "df5 = pd.read_sql(sql_query, engine)\n",
    "month_cols = [col for col in df5.columns if col.startswith('Month')]\n",
    "df5.style.format({col: '{:.1f}%' for col in month_cols}).set_properties(**{'font-size': '11px'})"
   ]
  },
  {
   "cell_type": "markdown",
   "id": "98b961c3-0b76-4298-9a85-cdbd792aa154",
   "metadata": {},
   "source": [
    "* User engagement starts to stabilize starting January 2025.\n",
    "* End of May and early June, we saw an uptick in DAUs, which coincides with new product feature launch, and driven by new users signing up for the company's API.\n",
    "* We are seeing developers engaging Tavus API much more starting May/June 2025, but retention is looking a bit soft.\n",
    "* As product usage increase with new features and higher developer engagement, we want to see the numbers generally increase horizontall at the cohort level, and veritcally top to bottom by comparing different cohorts."
   ]
  },
  {
   "cell_type": "markdown",
   "id": "1d425d97-6b8c-4103-8883-85f8b1c4de06",
   "metadata": {},
   "source": [
    "### Conversation Duration Cohort Retention\n",
    "* This metric might not be the best at the moment as the company is focusing on product engagement.\n",
    "* Same principles as above, but we use duration (in minutes) as our main metric per cohort.\n",
    "* And as the company matures, we can use revenue to calculate GMV/Revenue retention and LTV per user."
   ]
  },
  {
   "cell_type": "code",
   "execution_count": 127,
   "id": "9c30a5e9-b6f4-43d6-b340-e250af3eb4e7",
   "metadata": {},
   "outputs": [
    {
     "data": {
      "text/html": [
       "<style type=\"text/css\">\n",
       "#T_d77e4_row0_col0, #T_d77e4_row0_col1, #T_d77e4_row0_col2, #T_d77e4_row0_col3, #T_d77e4_row0_col4, #T_d77e4_row0_col5, #T_d77e4_row0_col6, #T_d77e4_row0_col7, #T_d77e4_row0_col8, #T_d77e4_row0_col9, #T_d77e4_row0_col10, #T_d77e4_row0_col11, #T_d77e4_row0_col12, #T_d77e4_row0_col13, #T_d77e4_row1_col0, #T_d77e4_row1_col1, #T_d77e4_row1_col2, #T_d77e4_row1_col3, #T_d77e4_row1_col4, #T_d77e4_row1_col5, #T_d77e4_row1_col6, #T_d77e4_row1_col7, #T_d77e4_row1_col8, #T_d77e4_row1_col9, #T_d77e4_row1_col10, #T_d77e4_row1_col11, #T_d77e4_row1_col12, #T_d77e4_row1_col13, #T_d77e4_row2_col0, #T_d77e4_row2_col1, #T_d77e4_row2_col2, #T_d77e4_row2_col3, #T_d77e4_row2_col4, #T_d77e4_row2_col5, #T_d77e4_row2_col6, #T_d77e4_row2_col7, #T_d77e4_row2_col8, #T_d77e4_row2_col9, #T_d77e4_row2_col10, #T_d77e4_row2_col11, #T_d77e4_row2_col12, #T_d77e4_row2_col13, #T_d77e4_row3_col0, #T_d77e4_row3_col1, #T_d77e4_row3_col2, #T_d77e4_row3_col3, #T_d77e4_row3_col4, #T_d77e4_row3_col5, #T_d77e4_row3_col6, #T_d77e4_row3_col7, #T_d77e4_row3_col8, #T_d77e4_row3_col9, #T_d77e4_row3_col10, #T_d77e4_row3_col11, #T_d77e4_row3_col12, #T_d77e4_row3_col13, #T_d77e4_row4_col0, #T_d77e4_row4_col1, #T_d77e4_row4_col2, #T_d77e4_row4_col3, #T_d77e4_row4_col4, #T_d77e4_row4_col5, #T_d77e4_row4_col6, #T_d77e4_row4_col7, #T_d77e4_row4_col8, #T_d77e4_row4_col9, #T_d77e4_row4_col10, #T_d77e4_row4_col11, #T_d77e4_row4_col12, #T_d77e4_row4_col13, #T_d77e4_row5_col0, #T_d77e4_row5_col1, #T_d77e4_row5_col2, #T_d77e4_row5_col3, #T_d77e4_row5_col4, #T_d77e4_row5_col5, #T_d77e4_row5_col6, #T_d77e4_row5_col7, #T_d77e4_row5_col8, #T_d77e4_row5_col9, #T_d77e4_row5_col10, #T_d77e4_row5_col11, #T_d77e4_row5_col12, #T_d77e4_row5_col13, #T_d77e4_row6_col0, #T_d77e4_row6_col1, #T_d77e4_row6_col2, #T_d77e4_row6_col3, #T_d77e4_row6_col4, #T_d77e4_row6_col5, #T_d77e4_row6_col6, #T_d77e4_row6_col7, #T_d77e4_row6_col8, #T_d77e4_row6_col9, #T_d77e4_row6_col10, #T_d77e4_row6_col11, #T_d77e4_row6_col12, #T_d77e4_row6_col13, #T_d77e4_row7_col0, #T_d77e4_row7_col1, #T_d77e4_row7_col2, #T_d77e4_row7_col3, #T_d77e4_row7_col4, #T_d77e4_row7_col5, #T_d77e4_row7_col6, #T_d77e4_row7_col7, #T_d77e4_row7_col8, #T_d77e4_row7_col9, #T_d77e4_row7_col10, #T_d77e4_row7_col11, #T_d77e4_row7_col12, #T_d77e4_row7_col13, #T_d77e4_row8_col0, #T_d77e4_row8_col1, #T_d77e4_row8_col2, #T_d77e4_row8_col3, #T_d77e4_row8_col4, #T_d77e4_row8_col5, #T_d77e4_row8_col6, #T_d77e4_row8_col7, #T_d77e4_row8_col8, #T_d77e4_row8_col9, #T_d77e4_row8_col10, #T_d77e4_row8_col11, #T_d77e4_row8_col12, #T_d77e4_row8_col13, #T_d77e4_row9_col0, #T_d77e4_row9_col1, #T_d77e4_row9_col2, #T_d77e4_row9_col3, #T_d77e4_row9_col4, #T_d77e4_row9_col5, #T_d77e4_row9_col6, #T_d77e4_row9_col7, #T_d77e4_row9_col8, #T_d77e4_row9_col9, #T_d77e4_row9_col10, #T_d77e4_row9_col11, #T_d77e4_row9_col12, #T_d77e4_row9_col13, #T_d77e4_row10_col0, #T_d77e4_row10_col1, #T_d77e4_row10_col2, #T_d77e4_row10_col3, #T_d77e4_row10_col4, #T_d77e4_row10_col5, #T_d77e4_row10_col6, #T_d77e4_row10_col7, #T_d77e4_row10_col8, #T_d77e4_row10_col9, #T_d77e4_row10_col10, #T_d77e4_row10_col11, #T_d77e4_row10_col12, #T_d77e4_row10_col13, #T_d77e4_row11_col0, #T_d77e4_row11_col1, #T_d77e4_row11_col2, #T_d77e4_row11_col3, #T_d77e4_row11_col4, #T_d77e4_row11_col5, #T_d77e4_row11_col6, #T_d77e4_row11_col7, #T_d77e4_row11_col8, #T_d77e4_row11_col9, #T_d77e4_row11_col10, #T_d77e4_row11_col11, #T_d77e4_row11_col12, #T_d77e4_row11_col13, #T_d77e4_row12_col0, #T_d77e4_row12_col1, #T_d77e4_row12_col2, #T_d77e4_row12_col3, #T_d77e4_row12_col4, #T_d77e4_row12_col5, #T_d77e4_row12_col6, #T_d77e4_row12_col7, #T_d77e4_row12_col8, #T_d77e4_row12_col9, #T_d77e4_row12_col10, #T_d77e4_row12_col11, #T_d77e4_row12_col12, #T_d77e4_row12_col13, #T_d77e4_row13_col0, #T_d77e4_row13_col1, #T_d77e4_row13_col2, #T_d77e4_row13_col3, #T_d77e4_row13_col4, #T_d77e4_row13_col5, #T_d77e4_row13_col6, #T_d77e4_row13_col7, #T_d77e4_row13_col8, #T_d77e4_row13_col9, #T_d77e4_row13_col10, #T_d77e4_row13_col11, #T_d77e4_row13_col12, #T_d77e4_row13_col13 {\n",
       "  font-size: 11px;\n",
       "}\n",
       "</style>\n",
       "<table id=\"T_d77e4\">\n",
       "  <thead>\n",
       "    <tr>\n",
       "      <th class=\"blank level0\" >&nbsp;</th>\n",
       "      <th id=\"T_d77e4_level0_col0\" class=\"col_heading level0 col0\" >Cohort Month</th>\n",
       "      <th id=\"T_d77e4_level0_col1\" class=\"col_heading level0 col1\" >Month 0</th>\n",
       "      <th id=\"T_d77e4_level0_col2\" class=\"col_heading level0 col2\" >Month 1</th>\n",
       "      <th id=\"T_d77e4_level0_col3\" class=\"col_heading level0 col3\" >Month 2</th>\n",
       "      <th id=\"T_d77e4_level0_col4\" class=\"col_heading level0 col4\" >Month 3</th>\n",
       "      <th id=\"T_d77e4_level0_col5\" class=\"col_heading level0 col5\" >Month 4</th>\n",
       "      <th id=\"T_d77e4_level0_col6\" class=\"col_heading level0 col6\" >Month 5</th>\n",
       "      <th id=\"T_d77e4_level0_col7\" class=\"col_heading level0 col7\" >Month 6</th>\n",
       "      <th id=\"T_d77e4_level0_col8\" class=\"col_heading level0 col8\" >Month 7</th>\n",
       "      <th id=\"T_d77e4_level0_col9\" class=\"col_heading level0 col9\" >Month 8</th>\n",
       "      <th id=\"T_d77e4_level0_col10\" class=\"col_heading level0 col10\" >Month 9</th>\n",
       "      <th id=\"T_d77e4_level0_col11\" class=\"col_heading level0 col11\" >Month 10</th>\n",
       "      <th id=\"T_d77e4_level0_col12\" class=\"col_heading level0 col12\" >Month 11</th>\n",
       "      <th id=\"T_d77e4_level0_col13\" class=\"col_heading level0 col13\" >Month 12</th>\n",
       "    </tr>\n",
       "  </thead>\n",
       "  <tbody>\n",
       "    <tr>\n",
       "      <th id=\"T_d77e4_level0_row0\" class=\"row_heading level0 row0\" >0</th>\n",
       "      <td id=\"T_d77e4_row0_col0\" class=\"data row0 col0\" >2024-08-01</td>\n",
       "      <td id=\"T_d77e4_row0_col1\" class=\"data row0 col1\" >0.0%</td>\n",
       "      <td id=\"T_d77e4_row0_col2\" class=\"data row0 col2\" >0.0%</td>\n",
       "      <td id=\"T_d77e4_row0_col3\" class=\"data row0 col3\" >0.0%</td>\n",
       "      <td id=\"T_d77e4_row0_col4\" class=\"data row0 col4\" >0.0%</td>\n",
       "      <td id=\"T_d77e4_row0_col5\" class=\"data row0 col5\" >0.0%</td>\n",
       "      <td id=\"T_d77e4_row0_col6\" class=\"data row0 col6\" >102973.0%</td>\n",
       "      <td id=\"T_d77e4_row0_col7\" class=\"data row0 col7\" >7102.0%</td>\n",
       "      <td id=\"T_d77e4_row0_col8\" class=\"data row0 col8\" >44172.0%</td>\n",
       "      <td id=\"T_d77e4_row0_col9\" class=\"data row0 col9\" >10581.0%</td>\n",
       "      <td id=\"T_d77e4_row0_col10\" class=\"data row0 col10\" >13809.0%</td>\n",
       "      <td id=\"T_d77e4_row0_col11\" class=\"data row0 col11\" >8226.0%</td>\n",
       "      <td id=\"T_d77e4_row0_col12\" class=\"data row0 col12\" >10797.0%</td>\n",
       "      <td id=\"T_d77e4_row0_col13\" class=\"data row0 col13\" >2800.0%</td>\n",
       "    </tr>\n",
       "    <tr>\n",
       "      <th id=\"T_d77e4_level0_row1\" class=\"row_heading level0 row1\" >1</th>\n",
       "      <td id=\"T_d77e4_row1_col0\" class=\"data row1 col0\" >2024-09-01</td>\n",
       "      <td id=\"T_d77e4_row1_col1\" class=\"data row1 col1\" >0.0%</td>\n",
       "      <td id=\"T_d77e4_row1_col2\" class=\"data row1 col2\" >0.0%</td>\n",
       "      <td id=\"T_d77e4_row1_col3\" class=\"data row1 col3\" >0.0%</td>\n",
       "      <td id=\"T_d77e4_row1_col4\" class=\"data row1 col4\" >0.0%</td>\n",
       "      <td id=\"T_d77e4_row1_col5\" class=\"data row1 col5\" >722.0%</td>\n",
       "      <td id=\"T_d77e4_row1_col6\" class=\"data row1 col6\" >1327.0%</td>\n",
       "      <td id=\"T_d77e4_row1_col7\" class=\"data row1 col7\" >4386.0%</td>\n",
       "      <td id=\"T_d77e4_row1_col8\" class=\"data row1 col8\" >373.0%</td>\n",
       "      <td id=\"T_d77e4_row1_col9\" class=\"data row1 col9\" >5347.0%</td>\n",
       "      <td id=\"T_d77e4_row1_col10\" class=\"data row1 col10\" >5076.0%</td>\n",
       "      <td id=\"T_d77e4_row1_col11\" class=\"data row1 col11\" >1088.0%</td>\n",
       "      <td id=\"T_d77e4_row1_col12\" class=\"data row1 col12\" >1232.0%</td>\n",
       "      <td id=\"T_d77e4_row1_col13\" class=\"data row1 col13\" >18.0%</td>\n",
       "    </tr>\n",
       "    <tr>\n",
       "      <th id=\"T_d77e4_level0_row2\" class=\"row_heading level0 row2\" >2</th>\n",
       "      <td id=\"T_d77e4_row2_col0\" class=\"data row2 col0\" >2024-10-01</td>\n",
       "      <td id=\"T_d77e4_row2_col1\" class=\"data row2 col1\" >0.0%</td>\n",
       "      <td id=\"T_d77e4_row2_col2\" class=\"data row2 col2\" >0.0%</td>\n",
       "      <td id=\"T_d77e4_row2_col3\" class=\"data row2 col3\" >0.0%</td>\n",
       "      <td id=\"T_d77e4_row2_col4\" class=\"data row2 col4\" >515.0%</td>\n",
       "      <td id=\"T_d77e4_row2_col5\" class=\"data row2 col5\" >15681.0%</td>\n",
       "      <td id=\"T_d77e4_row2_col6\" class=\"data row2 col6\" >13685.0%</td>\n",
       "      <td id=\"T_d77e4_row2_col7\" class=\"data row2 col7\" >430.0%</td>\n",
       "      <td id=\"T_d77e4_row2_col8\" class=\"data row2 col8\" >1813.0%</td>\n",
       "      <td id=\"T_d77e4_row2_col9\" class=\"data row2 col9\" >4113.0%</td>\n",
       "      <td id=\"T_d77e4_row2_col10\" class=\"data row2 col10\" >400.0%</td>\n",
       "      <td id=\"T_d77e4_row2_col11\" class=\"data row2 col11\" >1620.0%</td>\n",
       "      <td id=\"T_d77e4_row2_col12\" class=\"data row2 col12\" >875.0%</td>\n",
       "      <td id=\"T_d77e4_row2_col13\" class=\"data row2 col13\" >0.0%</td>\n",
       "    </tr>\n",
       "    <tr>\n",
       "      <th id=\"T_d77e4_level0_row3\" class=\"row_heading level0 row3\" >3</th>\n",
       "      <td id=\"T_d77e4_row3_col0\" class=\"data row3 col0\" >2024-11-01</td>\n",
       "      <td id=\"T_d77e4_row3_col1\" class=\"data row3 col1\" >0.0%</td>\n",
       "      <td id=\"T_d77e4_row3_col2\" class=\"data row3 col2\" >0.0%</td>\n",
       "      <td id=\"T_d77e4_row3_col3\" class=\"data row3 col3\" >13559.0%</td>\n",
       "      <td id=\"T_d77e4_row3_col4\" class=\"data row3 col4\" >1487.0%</td>\n",
       "      <td id=\"T_d77e4_row3_col5\" class=\"data row3 col5\" >382.0%</td>\n",
       "      <td id=\"T_d77e4_row3_col6\" class=\"data row3 col6\" >5378.0%</td>\n",
       "      <td id=\"T_d77e4_row3_col7\" class=\"data row3 col7\" >4650.0%</td>\n",
       "      <td id=\"T_d77e4_row3_col8\" class=\"data row3 col8\" >1603.0%</td>\n",
       "      <td id=\"T_d77e4_row3_col9\" class=\"data row3 col9\" >16427.0%</td>\n",
       "      <td id=\"T_d77e4_row3_col10\" class=\"data row3 col10\" >1758066.0%</td>\n",
       "      <td id=\"T_d77e4_row3_col11\" class=\"data row3 col11\" >1555.0%</td>\n",
       "      <td id=\"T_d77e4_row3_col12\" class=\"data row3 col12\" >0.0%</td>\n",
       "      <td id=\"T_d77e4_row3_col13\" class=\"data row3 col13\" >0.0%</td>\n",
       "    </tr>\n",
       "    <tr>\n",
       "      <th id=\"T_d77e4_level0_row4\" class=\"row_heading level0 row4\" >4</th>\n",
       "      <td id=\"T_d77e4_row4_col0\" class=\"data row4 col0\" >2024-12-01</td>\n",
       "      <td id=\"T_d77e4_row4_col1\" class=\"data row4 col1\" >0.0%</td>\n",
       "      <td id=\"T_d77e4_row4_col2\" class=\"data row4 col2\" >21541.0%</td>\n",
       "      <td id=\"T_d77e4_row4_col3\" class=\"data row4 col3\" >8739.0%</td>\n",
       "      <td id=\"T_d77e4_row4_col4\" class=\"data row4 col4\" >10138.0%</td>\n",
       "      <td id=\"T_d77e4_row4_col5\" class=\"data row4 col5\" >3338.0%</td>\n",
       "      <td id=\"T_d77e4_row4_col6\" class=\"data row4 col6\" >6499.0%</td>\n",
       "      <td id=\"T_d77e4_row4_col7\" class=\"data row4 col7\" >1218.0%</td>\n",
       "      <td id=\"T_d77e4_row4_col8\" class=\"data row4 col8\" >6189.0%</td>\n",
       "      <td id=\"T_d77e4_row4_col9\" class=\"data row4 col9\" >8008.0%</td>\n",
       "      <td id=\"T_d77e4_row4_col10\" class=\"data row4 col10\" >118.0%</td>\n",
       "      <td id=\"T_d77e4_row4_col11\" class=\"data row4 col11\" >0.0%</td>\n",
       "      <td id=\"T_d77e4_row4_col12\" class=\"data row4 col12\" >0.0%</td>\n",
       "      <td id=\"T_d77e4_row4_col13\" class=\"data row4 col13\" >0.0%</td>\n",
       "    </tr>\n",
       "    <tr>\n",
       "      <th id=\"T_d77e4_level0_row5\" class=\"row_heading level0 row5\" >5</th>\n",
       "      <td id=\"T_d77e4_row5_col0\" class=\"data row5 col0\" >2025-01-01</td>\n",
       "      <td id=\"T_d77e4_row5_col1\" class=\"data row5 col1\" >100.0%</td>\n",
       "      <td id=\"T_d77e4_row5_col2\" class=\"data row5 col2\" >5.0%</td>\n",
       "      <td id=\"T_d77e4_row5_col3\" class=\"data row5 col3\" >2.0%</td>\n",
       "      <td id=\"T_d77e4_row5_col4\" class=\"data row5 col4\" >4.0%</td>\n",
       "      <td id=\"T_d77e4_row5_col5\" class=\"data row5 col5\" >63.0%</td>\n",
       "      <td id=\"T_d77e4_row5_col6\" class=\"data row5 col6\" >4.0%</td>\n",
       "      <td id=\"T_d77e4_row5_col7\" class=\"data row5 col7\" >5.0%</td>\n",
       "      <td id=\"T_d77e4_row5_col8\" class=\"data row5 col8\" >4.0%</td>\n",
       "      <td id=\"T_d77e4_row5_col9\" class=\"data row5 col9\" >0.0%</td>\n",
       "      <td id=\"T_d77e4_row5_col10\" class=\"data row5 col10\" >0.0%</td>\n",
       "      <td id=\"T_d77e4_row5_col11\" class=\"data row5 col11\" >0.0%</td>\n",
       "      <td id=\"T_d77e4_row5_col12\" class=\"data row5 col12\" >0.0%</td>\n",
       "      <td id=\"T_d77e4_row5_col13\" class=\"data row5 col13\" >0.0%</td>\n",
       "    </tr>\n",
       "    <tr>\n",
       "      <th id=\"T_d77e4_level0_row6\" class=\"row_heading level0 row6\" >6</th>\n",
       "      <td id=\"T_d77e4_row6_col0\" class=\"data row6 col0\" >2025-02-01</td>\n",
       "      <td id=\"T_d77e4_row6_col1\" class=\"data row6 col1\" >100.0%</td>\n",
       "      <td id=\"T_d77e4_row6_col2\" class=\"data row6 col2\" >15.0%</td>\n",
       "      <td id=\"T_d77e4_row6_col3\" class=\"data row6 col3\" >18.0%</td>\n",
       "      <td id=\"T_d77e4_row6_col4\" class=\"data row6 col4\" >7.0%</td>\n",
       "      <td id=\"T_d77e4_row6_col5\" class=\"data row6 col5\" >19.0%</td>\n",
       "      <td id=\"T_d77e4_row6_col6\" class=\"data row6 col6\" >14.0%</td>\n",
       "      <td id=\"T_d77e4_row6_col7\" class=\"data row6 col7\" >26.0%</td>\n",
       "      <td id=\"T_d77e4_row6_col8\" class=\"data row6 col8\" >1.0%</td>\n",
       "      <td id=\"T_d77e4_row6_col9\" class=\"data row6 col9\" >0.0%</td>\n",
       "      <td id=\"T_d77e4_row6_col10\" class=\"data row6 col10\" >0.0%</td>\n",
       "      <td id=\"T_d77e4_row6_col11\" class=\"data row6 col11\" >0.0%</td>\n",
       "      <td id=\"T_d77e4_row6_col12\" class=\"data row6 col12\" >0.0%</td>\n",
       "      <td id=\"T_d77e4_row6_col13\" class=\"data row6 col13\" >0.0%</td>\n",
       "    </tr>\n",
       "    <tr>\n",
       "      <th id=\"T_d77e4_level0_row7\" class=\"row_heading level0 row7\" >7</th>\n",
       "      <td id=\"T_d77e4_row7_col0\" class=\"data row7 col0\" >2025-03-01</td>\n",
       "      <td id=\"T_d77e4_row7_col1\" class=\"data row7 col1\" >100.0%</td>\n",
       "      <td id=\"T_d77e4_row7_col2\" class=\"data row7 col2\" >11.0%</td>\n",
       "      <td id=\"T_d77e4_row7_col3\" class=\"data row7 col3\" >76.0%</td>\n",
       "      <td id=\"T_d77e4_row7_col4\" class=\"data row7 col4\" >0.0%</td>\n",
       "      <td id=\"T_d77e4_row7_col5\" class=\"data row7 col5\" >0.0%</td>\n",
       "      <td id=\"T_d77e4_row7_col6\" class=\"data row7 col6\" >0.0%</td>\n",
       "      <td id=\"T_d77e4_row7_col7\" class=\"data row7 col7\" >0.0%</td>\n",
       "      <td id=\"T_d77e4_row7_col8\" class=\"data row7 col8\" >0.0%</td>\n",
       "      <td id=\"T_d77e4_row7_col9\" class=\"data row7 col9\" >0.0%</td>\n",
       "      <td id=\"T_d77e4_row7_col10\" class=\"data row7 col10\" >0.0%</td>\n",
       "      <td id=\"T_d77e4_row7_col11\" class=\"data row7 col11\" >0.0%</td>\n",
       "      <td id=\"T_d77e4_row7_col12\" class=\"data row7 col12\" >0.0%</td>\n",
       "      <td id=\"T_d77e4_row7_col13\" class=\"data row7 col13\" >0.0%</td>\n",
       "    </tr>\n",
       "    <tr>\n",
       "      <th id=\"T_d77e4_level0_row8\" class=\"row_heading level0 row8\" >8</th>\n",
       "      <td id=\"T_d77e4_row8_col0\" class=\"data row8 col0\" >2025-04-01</td>\n",
       "      <td id=\"T_d77e4_row8_col1\" class=\"data row8 col1\" >100.0%</td>\n",
       "      <td id=\"T_d77e4_row8_col2\" class=\"data row8 col2\" >51.0%</td>\n",
       "      <td id=\"T_d77e4_row8_col3\" class=\"data row8 col3\" >0.0%</td>\n",
       "      <td id=\"T_d77e4_row8_col4\" class=\"data row8 col4\" >1.0%</td>\n",
       "      <td id=\"T_d77e4_row8_col5\" class=\"data row8 col5\" >0.0%</td>\n",
       "      <td id=\"T_d77e4_row8_col6\" class=\"data row8 col6\" >0.0%</td>\n",
       "      <td id=\"T_d77e4_row8_col7\" class=\"data row8 col7\" >0.0%</td>\n",
       "      <td id=\"T_d77e4_row8_col8\" class=\"data row8 col8\" >0.0%</td>\n",
       "      <td id=\"T_d77e4_row8_col9\" class=\"data row8 col9\" >0.0%</td>\n",
       "      <td id=\"T_d77e4_row8_col10\" class=\"data row8 col10\" >0.0%</td>\n",
       "      <td id=\"T_d77e4_row8_col11\" class=\"data row8 col11\" >0.0%</td>\n",
       "      <td id=\"T_d77e4_row8_col12\" class=\"data row8 col12\" >0.0%</td>\n",
       "      <td id=\"T_d77e4_row8_col13\" class=\"data row8 col13\" >0.0%</td>\n",
       "    </tr>\n",
       "    <tr>\n",
       "      <th id=\"T_d77e4_level0_row9\" class=\"row_heading level0 row9\" >9</th>\n",
       "      <td id=\"T_d77e4_row9_col0\" class=\"data row9 col0\" >2025-05-01</td>\n",
       "      <td id=\"T_d77e4_row9_col1\" class=\"data row9 col1\" >100.0%</td>\n",
       "      <td id=\"T_d77e4_row9_col2\" class=\"data row9 col2\" >0.0%</td>\n",
       "      <td id=\"T_d77e4_row9_col3\" class=\"data row9 col3\" >0.0%</td>\n",
       "      <td id=\"T_d77e4_row9_col4\" class=\"data row9 col4\" >0.0%</td>\n",
       "      <td id=\"T_d77e4_row9_col5\" class=\"data row9 col5\" >0.0%</td>\n",
       "      <td id=\"T_d77e4_row9_col6\" class=\"data row9 col6\" >0.0%</td>\n",
       "      <td id=\"T_d77e4_row9_col7\" class=\"data row9 col7\" >0.0%</td>\n",
       "      <td id=\"T_d77e4_row9_col8\" class=\"data row9 col8\" >0.0%</td>\n",
       "      <td id=\"T_d77e4_row9_col9\" class=\"data row9 col9\" >0.0%</td>\n",
       "      <td id=\"T_d77e4_row9_col10\" class=\"data row9 col10\" >0.0%</td>\n",
       "      <td id=\"T_d77e4_row9_col11\" class=\"data row9 col11\" >0.0%</td>\n",
       "      <td id=\"T_d77e4_row9_col12\" class=\"data row9 col12\" >0.0%</td>\n",
       "      <td id=\"T_d77e4_row9_col13\" class=\"data row9 col13\" >0.0%</td>\n",
       "    </tr>\n",
       "    <tr>\n",
       "      <th id=\"T_d77e4_level0_row10\" class=\"row_heading level0 row10\" >10</th>\n",
       "      <td id=\"T_d77e4_row10_col0\" class=\"data row10 col0\" >2025-06-01</td>\n",
       "      <td id=\"T_d77e4_row10_col1\" class=\"data row10 col1\" >100.0%</td>\n",
       "      <td id=\"T_d77e4_row10_col2\" class=\"data row10 col2\" >63.0%</td>\n",
       "      <td id=\"T_d77e4_row10_col3\" class=\"data row10 col3\" >1.0%</td>\n",
       "      <td id=\"T_d77e4_row10_col4\" class=\"data row10 col4\" >0.0%</td>\n",
       "      <td id=\"T_d77e4_row10_col5\" class=\"data row10 col5\" >0.0%</td>\n",
       "      <td id=\"T_d77e4_row10_col6\" class=\"data row10 col6\" >0.0%</td>\n",
       "      <td id=\"T_d77e4_row10_col7\" class=\"data row10 col7\" >0.0%</td>\n",
       "      <td id=\"T_d77e4_row10_col8\" class=\"data row10 col8\" >0.0%</td>\n",
       "      <td id=\"T_d77e4_row10_col9\" class=\"data row10 col9\" >0.0%</td>\n",
       "      <td id=\"T_d77e4_row10_col10\" class=\"data row10 col10\" >0.0%</td>\n",
       "      <td id=\"T_d77e4_row10_col11\" class=\"data row10 col11\" >0.0%</td>\n",
       "      <td id=\"T_d77e4_row10_col12\" class=\"data row10 col12\" >0.0%</td>\n",
       "      <td id=\"T_d77e4_row10_col13\" class=\"data row10 col13\" >0.0%</td>\n",
       "    </tr>\n",
       "    <tr>\n",
       "      <th id=\"T_d77e4_level0_row11\" class=\"row_heading level0 row11\" >11</th>\n",
       "      <td id=\"T_d77e4_row11_col0\" class=\"data row11 col0\" >2025-07-01</td>\n",
       "      <td id=\"T_d77e4_row11_col1\" class=\"data row11 col1\" >100.0%</td>\n",
       "      <td id=\"T_d77e4_row11_col2\" class=\"data row11 col2\" >2.0%</td>\n",
       "      <td id=\"T_d77e4_row11_col3\" class=\"data row11 col3\" >0.0%</td>\n",
       "      <td id=\"T_d77e4_row11_col4\" class=\"data row11 col4\" >0.0%</td>\n",
       "      <td id=\"T_d77e4_row11_col5\" class=\"data row11 col5\" >0.0%</td>\n",
       "      <td id=\"T_d77e4_row11_col6\" class=\"data row11 col6\" >0.0%</td>\n",
       "      <td id=\"T_d77e4_row11_col7\" class=\"data row11 col7\" >0.0%</td>\n",
       "      <td id=\"T_d77e4_row11_col8\" class=\"data row11 col8\" >0.0%</td>\n",
       "      <td id=\"T_d77e4_row11_col9\" class=\"data row11 col9\" >0.0%</td>\n",
       "      <td id=\"T_d77e4_row11_col10\" class=\"data row11 col10\" >0.0%</td>\n",
       "      <td id=\"T_d77e4_row11_col11\" class=\"data row11 col11\" >0.0%</td>\n",
       "      <td id=\"T_d77e4_row11_col12\" class=\"data row11 col12\" >0.0%</td>\n",
       "      <td id=\"T_d77e4_row11_col13\" class=\"data row11 col13\" >0.0%</td>\n",
       "    </tr>\n",
       "    <tr>\n",
       "      <th id=\"T_d77e4_level0_row12\" class=\"row_heading level0 row12\" >12</th>\n",
       "      <td id=\"T_d77e4_row12_col0\" class=\"data row12 col0\" >2025-08-01</td>\n",
       "      <td id=\"T_d77e4_row12_col1\" class=\"data row12 col1\" >100.0%</td>\n",
       "      <td id=\"T_d77e4_row12_col2\" class=\"data row12 col2\" >27.0%</td>\n",
       "      <td id=\"T_d77e4_row12_col3\" class=\"data row12 col3\" >0.0%</td>\n",
       "      <td id=\"T_d77e4_row12_col4\" class=\"data row12 col4\" >0.0%</td>\n",
       "      <td id=\"T_d77e4_row12_col5\" class=\"data row12 col5\" >0.0%</td>\n",
       "      <td id=\"T_d77e4_row12_col6\" class=\"data row12 col6\" >0.0%</td>\n",
       "      <td id=\"T_d77e4_row12_col7\" class=\"data row12 col7\" >0.0%</td>\n",
       "      <td id=\"T_d77e4_row12_col8\" class=\"data row12 col8\" >0.0%</td>\n",
       "      <td id=\"T_d77e4_row12_col9\" class=\"data row12 col9\" >0.0%</td>\n",
       "      <td id=\"T_d77e4_row12_col10\" class=\"data row12 col10\" >0.0%</td>\n",
       "      <td id=\"T_d77e4_row12_col11\" class=\"data row12 col11\" >0.0%</td>\n",
       "      <td id=\"T_d77e4_row12_col12\" class=\"data row12 col12\" >0.0%</td>\n",
       "      <td id=\"T_d77e4_row12_col13\" class=\"data row12 col13\" >0.0%</td>\n",
       "    </tr>\n",
       "    <tr>\n",
       "      <th id=\"T_d77e4_level0_row13\" class=\"row_heading level0 row13\" >13</th>\n",
       "      <td id=\"T_d77e4_row13_col0\" class=\"data row13 col0\" >2025-09-01</td>\n",
       "      <td id=\"T_d77e4_row13_col1\" class=\"data row13 col1\" >100.0%</td>\n",
       "      <td id=\"T_d77e4_row13_col2\" class=\"data row13 col2\" >0.0%</td>\n",
       "      <td id=\"T_d77e4_row13_col3\" class=\"data row13 col3\" >0.0%</td>\n",
       "      <td id=\"T_d77e4_row13_col4\" class=\"data row13 col4\" >0.0%</td>\n",
       "      <td id=\"T_d77e4_row13_col5\" class=\"data row13 col5\" >0.0%</td>\n",
       "      <td id=\"T_d77e4_row13_col6\" class=\"data row13 col6\" >0.0%</td>\n",
       "      <td id=\"T_d77e4_row13_col7\" class=\"data row13 col7\" >0.0%</td>\n",
       "      <td id=\"T_d77e4_row13_col8\" class=\"data row13 col8\" >0.0%</td>\n",
       "      <td id=\"T_d77e4_row13_col9\" class=\"data row13 col9\" >0.0%</td>\n",
       "      <td id=\"T_d77e4_row13_col10\" class=\"data row13 col10\" >0.0%</td>\n",
       "      <td id=\"T_d77e4_row13_col11\" class=\"data row13 col11\" >0.0%</td>\n",
       "      <td id=\"T_d77e4_row13_col12\" class=\"data row13 col12\" >0.0%</td>\n",
       "      <td id=\"T_d77e4_row13_col13\" class=\"data row13 col13\" >0.0%</td>\n",
       "    </tr>\n",
       "  </tbody>\n",
       "</table>\n"
      ],
      "text/plain": [
       "<pandas.io.formats.style.Styler at 0x122259910>"
      ]
     },
     "execution_count": 127,
     "metadata": {},
     "output_type": "execute_result"
    }
   ],
   "source": [
    "# Conversation Duration Cohort Retention Analysis \n",
    "sql_query_6 = \"\"\"\n",
    "WITH month_series AS \n",
    "(\n",
    "  SELECT \n",
    "\tTO_CHAR(t1.cohort_date, 'YYYY-MM-01')::date AS cohort_month\n",
    "  FROM\n",
    "  (\n",
    "\t  SELECT \n",
    "\t\tdate_trunc('month', generate_series(\n",
    "\t\t  (SELECT MIN(created_at) FROM users),\n",
    "\t\t  (SELECT MAX(created_at) FROM users),\n",
    "\t\t  interval '1 month'\n",
    "\t\t)) AS cohort_date\n",
    "  ) t1\n",
    "),\n",
    "stg_users AS\n",
    "(\n",
    "\tSELECT\n",
    "\t\tTO_CHAR(created_at, 'YYYY-MM-01')::date AS cohort_month_0,\n",
    "\t\tid AS user_id,\n",
    "\t\tcreated_at AS user_created_at,\n",
    "\t\temail\n",
    "\tFROM users\n",
    "\tWHERE role = 'developer'\n",
    "),\n",
    "stg_conversations AS\n",
    "(\n",
    "\tSELECT\n",
    "\t\towner_id AS user_id,\n",
    "\t\tuuid AS session_id,\n",
    "\t\tcreated_at AS session_created_at,\t\n",
    "\t\tTO_CHAR(created_at, 'YYYY-MM-01')::date AS session_month,\n",
    "\t\tROUND(EXTRACT(EPOCH FROM (updated_at - created_at)) / 60, 2) AS duration_minutes\n",
    "\tFROM conversation\n",
    "\tWHERE replica_uuid IS NOT NULL\n",
    "),\n",
    "stg_cohorts AS\n",
    "(\n",
    "\tSELECT\n",
    "\t\tt1.user_id,\n",
    "\t\tt1.cohort_month_0,\n",
    "\t\tt2.session_month,\n",
    "\t\tSUM(distinct t2.duration_minutes) AS duration\n",
    "\tFROM stg_users t1\n",
    "\t     LEFT JOIN stg_conversations t2\n",
    "\t\t\tON t1.user_id = t2.user_id\n",
    "\tGROUP BY 1,2,3\n",
    "),\n",
    "base_cohort_months AS\n",
    "(\n",
    "\tSELECT\n",
    "\t\tt1.user_id,\n",
    "\t\tt1.cohort_month_0,\n",
    "\t\tt2.cohort_month,\n",
    "\t\tROW_NUMBER() OVER (PARTITION BY t1.user_id ORDER BY t2.cohort_month) AS cohort_period \n",
    "\tFROM stg_users t1\n",
    "\t     JOIN month_series t2\n",
    "\t\t\tON t1.cohort_month_0 <= t2.cohort_month\n",
    "),\n",
    "stg_user_cohort_retention AS\n",
    "(\n",
    "\tSELECT\n",
    "\t\tt1.user_id,\n",
    "\t\tt1.cohort_month_0,\n",
    "\t\tt1.cohort_month,\n",
    "\t\tt1.cohort_period - 1 AS cohort_period,\n",
    "\t\tCOALESCE(t2.duration, 0) AS duration\n",
    "\tFROM base_cohort_months t1\n",
    "\t     LEFT JOIN stg_cohorts t2\n",
    "\t\t\tON t1.user_id = t2.user_id\n",
    "\t\t\tAND t1.cohort_month = t2.session_month\n",
    "),\n",
    "cohort_matrix AS\n",
    "(\n",
    "\tSELECT\n",
    "\t\tcohort_month_0,\n",
    "\t\tSUM(CASE WHEN cohort_period = 0 THEN duration ELSE 0 END) AS month_0,\n",
    "\t\tSUM(CASE WHEN cohort_period = 1 THEN duration ELSE 0 END) AS month_1,\n",
    "\t\tSUM(CASE WHEN cohort_period = 2 THEN duration ELSE 0 END) AS month_2,\n",
    "\t\tSUM(CASE WHEN cohort_period = 3 THEN duration ELSE 0 END) AS month_3,\n",
    "\t\tSUM(CASE WHEN cohort_period = 4 THEN duration ELSE 0 END) AS month_4,\n",
    "\t\tSUM(CASE WHEN cohort_period = 5 THEN duration ELSE 0 END) AS month_5,\n",
    "\t\tSUM(CASE WHEN cohort_period = 6 THEN duration ELSE 0 END) AS month_6,\n",
    "\t\tSUM(CASE WHEN cohort_period = 7 THEN duration ELSE 0 END) AS month_7,\n",
    "\t\tSUM(CASE WHEN cohort_period = 8 THEN duration ELSE 0 END) AS month_8,\n",
    "\t\tSUM(CASE WHEN cohort_period = 9 THEN duration ELSE 0 END) AS month_9,\n",
    "\t\tSUM(CASE WHEN cohort_period = 10 THEN duration ELSE 0 END) AS month_10,\n",
    "\t\tSUM(CASE WHEN cohort_period = 11 THEN duration ELSE 0 END) AS month_11,\n",
    "\t\tSUM(CASE WHEN cohort_period = 12 THEN duration ELSE 0 END) AS month_12\n",
    "\tFROM stg_user_cohort_retention\n",
    "\tWHERE cohort_month_0 >= '2024-08-01'\n",
    "\tGROUP BY 1\n",
    ")\n",
    "SELECT\n",
    "\tcohort_month_0 AS \"Cohort Month\",\n",
    "\tROUND(100.0 * month_0 / CASE WHEN month_0 = 0 THEN 1 ELSE month_0 END, 0) AS \"Month 0\",\n",
    "\tROUND(100.0 * month_1 / CASE WHEN month_0 = 0 THEN 1 ELSE month_0 END, 0) AS \"Month 1\",\n",
    "\tROUND(100.0 * month_2 / CASE WHEN month_0 = 0 THEN 1 ELSE month_0 END, 0) AS \"Month 2\",\n",
    "\tROUND(100.0 * month_3 / CASE WHEN month_0 = 0 THEN 1 ELSE month_0 END, 0) AS \"Month 3\",\n",
    "\tROUND(100.0 * month_4 / CASE WHEN month_0 = 0 THEN 1 ELSE month_0 END, 0) AS \"Month 4\",\n",
    "\tROUND(100.0 * month_5 / CASE WHEN month_0 = 0 THEN 1 ELSE month_0 END, 0) AS \"Month 5\",\n",
    "\tROUND(100.0 * month_6 / CASE WHEN month_0 = 0 THEN 1 ELSE month_0 END, 0) AS \"Month 6\",\n",
    "\tROUND(100.0 * month_7 / CASE WHEN month_0 = 0 THEN 1 ELSE month_0 END, 0) AS \"Month 7\",\n",
    "\tROUND(100.0 * month_8 / CASE WHEN month_0 = 0 THEN 1 ELSE month_0 END, 0) AS \"Month 8\",\n",
    "\tROUND(100.0 * month_9 / CASE WHEN month_0 = 0 THEN 1 ELSE month_0 END, 0) AS \"Month 9\",\n",
    "\tROUND(100.0 * month_10 / CASE WHEN month_0 = 0 THEN 1 ELSE month_0 END, 0) AS \"Month 10\",\n",
    "\tROUND(100.0 * month_11 / CASE WHEN month_0 = 0 THEN 1 ELSE month_0 END, 0) AS \"Month 11\",\n",
    "\tROUND(100.0 * month_12 / CASE WHEN month_0 = 0 THEN 1 ELSE month_0 END, 0) AS \"Month 12\"\n",
    "FROM cohort_matrix\n",
    "ORDER BY 1;\n",
    "\"\"\"\n",
    "\n",
    "# Load data\n",
    "df6 = pd.read_sql(sql_query_6, engine)\n",
    "month_cols = [col for col in df6.columns if col.startswith('Month')]\n",
    "df6.style.format({col: '{:.1f}%' for col in month_cols}).set_properties(**{'font-size': '11px'})"
   ]
  },
  {
   "cell_type": "code",
   "execution_count": null,
   "id": "a9c3a08f-3140-4abe-98f2-68fab2ce9c1b",
   "metadata": {},
   "outputs": [],
   "source": []
  }
 ],
 "metadata": {
  "kernelspec": {
   "display_name": "Python 3 (ipykernel)",
   "language": "python",
   "name": "python3"
  },
  "language_info": {
   "codemirror_mode": {
    "name": "ipython",
    "version": 3
   },
   "file_extension": ".py",
   "mimetype": "text/x-python",
   "name": "python",
   "nbconvert_exporter": "python",
   "pygments_lexer": "ipython3",
   "version": "3.11.4"
  }
 },
 "nbformat": 4,
 "nbformat_minor": 5
}
